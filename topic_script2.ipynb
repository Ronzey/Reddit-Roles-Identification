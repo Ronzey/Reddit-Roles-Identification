{
 "cells": [
  {
   "cell_type": "markdown",
   "metadata": {},
   "source": [
    "# 1. Import packages"
   ]
  },
  {
   "cell_type": "code",
   "execution_count": null,
   "metadata": {
    "collapsed": true,
    "jupyter": {
     "outputs_hidden": true
    }
   },
   "outputs": [
    {
     "name": "stdout",
     "output_type": "stream",
     "text": [
      "NLTK Downloader\n",
      "---------------------------------------------------------------------------\n",
      "    d) Download   l) List    u) Update   c) Config   h) Help   q) Quit\n",
      "---------------------------------------------------------------------------\n"
     ]
    },
    {
     "name": "stdin",
     "output_type": "stream",
     "text": [
      "Downloader>  d\n"
     ]
    },
    {
     "name": "stdout",
     "output_type": "stream",
     "text": [
      "\n",
      "Download which package (l=list; x=cancel)?\n"
     ]
    },
    {
     "name": "stdin",
     "output_type": "stream",
     "text": [
      "  Identifier>  l\n"
     ]
    },
    {
     "name": "stdout",
     "output_type": "stream",
     "text": [
      "Packages:\n",
      "  [ ] abc................. Australian Broadcasting Commission 2006\n",
      "  [ ] alpino.............. Alpino Dutch Treebank\n",
      "  [ ] averaged_perceptron_tagger Averaged Perceptron Tagger\n",
      "  [ ] averaged_perceptron_tagger_ru Averaged Perceptron Tagger (Russian)\n",
      "  [ ] basque_grammars..... Grammars for Basque\n",
      "  [ ] biocreative_ppi..... BioCreAtIvE (Critical Assessment of Information\n",
      "                           Extraction Systems in Biology)\n",
      "  [ ] bllip_wsj_no_aux.... BLLIP Parser: WSJ Model\n",
      "  [ ] book_grammars....... Grammars from NLTK Book\n",
      "  [ ] brown............... Brown Corpus\n",
      "  [ ] brown_tei........... Brown Corpus (TEI XML Version)\n",
      "  [ ] cess_cat............ CESS-CAT Treebank\n",
      "  [ ] cess_esp............ CESS-ESP Treebank\n",
      "  [ ] chat80.............. Chat-80 Data Files\n",
      "  [ ] city_database....... City Database\n",
      "  [ ] cmudict............. The Carnegie Mellon Pronouncing Dictionary (0.6)\n",
      "  [ ] comparative_sentences Comparative Sentence Dataset\n",
      "  [ ] comtrans............ ComTrans Corpus Sample\n",
      "  [ ] conll2000........... CONLL 2000 Chunking Corpus\n",
      "  [ ] conll2002........... CONLL 2002 Named Entity Recognition Corpus\n"
     ]
    },
    {
     "name": "stdin",
     "output_type": "stream",
     "text": [
      "Hit Enter to continue:  \n"
     ]
    },
    {
     "name": "stdout",
     "output_type": "stream",
     "text": [
      "  [ ] conll2007........... Dependency Treebanks from CoNLL 2007 (Catalan\n",
      "                           and Basque Subset)\n",
      "  [ ] crubadan............ Crubadan Corpus\n",
      "  [ ] dependency_treebank. Dependency Parsed Treebank\n",
      "  [ ] dolch............... Dolch Word List\n",
      "  [ ] europarl_raw........ Sample European Parliament Proceedings Parallel\n",
      "                           Corpus\n",
      "  [ ] floresta............ Portuguese Treebank\n",
      "  [ ] framenet_v15........ FrameNet 1.5\n",
      "  [ ] framenet_v17........ FrameNet 1.7\n",
      "  [ ] gazetteers.......... Gazeteer Lists\n",
      "  [ ] genesis............. Genesis Corpus\n",
      "  [ ] gutenberg........... Project Gutenberg Selections\n",
      "  [ ] ieer................ NIST IE-ER DATA SAMPLE\n",
      "  [ ] inaugural........... C-Span Inaugural Address Corpus\n",
      "  [ ] indian.............. Indian Language POS-Tagged Corpus\n",
      "  [ ] jeita............... JEITA Public Morphologically Tagged Corpus (in\n",
      "                           ChaSen format)\n",
      "  [ ] kimmo............... PC-KIMMO Data Files\n",
      "  [ ] knbc................ KNB Corpus (Annotated blog corpus)\n",
      "  [ ] large_grammars...... Large context-free and feature-based grammars\n",
      "                           for parser comparison\n"
     ]
    },
    {
     "name": "stdin",
     "output_type": "stream",
     "text": [
      "Hit Enter to continue:  \n"
     ]
    },
    {
     "name": "stdout",
     "output_type": "stream",
     "text": [
      "  [ ] lin_thesaurus....... Lin's Dependency Thesaurus\n",
      "  [ ] mac_morpho.......... MAC-MORPHO: Brazilian Portuguese news text with\n",
      "                           part-of-speech tags\n",
      "  [ ] machado............. Machado de Assis -- Obra Completa\n",
      "  [ ] masc_tagged......... MASC Tagged Corpus\n",
      "  [ ] maxent_ne_chunker... ACE Named Entity Chunker (Maximum entropy)\n",
      "  [ ] maxent_treebank_pos_tagger Treebank Part of Speech Tagger (Maximum entropy)\n",
      "  [ ] moses_sample........ Moses Sample Models\n",
      "  [ ] movie_reviews....... Sentiment Polarity Dataset Version 2.0\n",
      "  [ ] mte_teip5........... MULTEXT-East 1984 annotated corpus 4.0\n",
      "  [ ] mwa_ppdb............ The monolingual word aligner (Sultan et al.\n",
      "                           2015) subset of the Paraphrase Database.\n",
      "  [ ] names............... Names Corpus, Version 1.3 (1994-03-29)\n",
      "  [ ] nombank.1.0......... NomBank Corpus 1.0\n",
      "  [ ] nonbreaking_prefixes Non-Breaking Prefixes (Moses Decoder)\n",
      "  [ ] nps_chat............ NPS Chat\n",
      "  [ ] omw................. Open Multilingual Wordnet\n",
      "  [ ] opinion_lexicon..... Opinion Lexicon\n",
      "  [ ] panlex_swadesh...... PanLex Swadesh Corpora\n",
      "  [ ] paradigms........... Paradigm Corpus\n",
      "  [ ] pe08................ Cross-Framework and Cross-Domain Parser\n",
      "                           Evaluation Shared Task\n"
     ]
    },
    {
     "name": "stdin",
     "output_type": "stream",
     "text": [
      "Hit Enter to continue:  \n"
     ]
    },
    {
     "name": "stdout",
     "output_type": "stream",
     "text": [
      "  [ ] perluniprops........ perluniprops: Index of Unicode Version 7.0.0\n",
      "                           character properties in Perl\n",
      "  [ ] pil................. The Patient Information Leaflet (PIL) Corpus\n",
      "  [ ] pl196x.............. Polish language of the XX century sixties\n",
      "  [ ] porter_test......... Porter Stemmer Test Files\n",
      "  [ ] ppattach............ Prepositional Phrase Attachment Corpus\n",
      "  [ ] problem_reports..... Problem Report Corpus\n",
      "  [ ] product_reviews_1... Product Reviews (5 Products)\n",
      "  [ ] product_reviews_2... Product Reviews (9 Products)\n",
      "  [ ] propbank............ Proposition Bank Corpus 1.0\n",
      "  [ ] pros_cons........... Pros and Cons\n",
      "  [ ] ptb................. Penn Treebank\n",
      "  [ ] punkt............... Punkt Tokenizer Models\n",
      "  [ ] qc.................. Experimental Data for Question Classification\n",
      "  [ ] reuters............. The Reuters-21578 benchmark corpus, ApteMod\n",
      "                           version\n",
      "  [ ] rslp................ RSLP Stemmer (Removedor de Sufixos da Lingua\n",
      "                           Portuguesa)\n",
      "  [ ] rte................. PASCAL RTE Challenges 1, 2, and 3\n",
      "  [ ] sample_grammars..... Sample Grammars\n",
      "  [ ] semcor.............. SemCor 3.0\n"
     ]
    },
    {
     "name": "stdin",
     "output_type": "stream",
     "text": [
      "Hit Enter to continue:  \n"
     ]
    },
    {
     "name": "stdout",
     "output_type": "stream",
     "text": [
      "  [ ] senseval............ SENSEVAL 2 Corpus: Sense Tagged Text\n",
      "  [ ] sentence_polarity... Sentence Polarity Dataset v1.0\n",
      "  [ ] sentiwordnet........ SentiWordNet\n",
      "  [ ] shakespeare......... Shakespeare XML Corpus Sample\n",
      "  [ ] sinica_treebank..... Sinica Treebank Corpus Sample\n",
      "  [ ] smultron............ SMULTRON Corpus Sample\n",
      "  [ ] snowball_data....... Snowball Data\n",
      "  [ ] spanish_grammars.... Grammars for Spanish\n",
      "  [ ] state_union......... C-Span State of the Union Address Corpus\n",
      "  [ ] stopwords........... Stopwords Corpus\n",
      "  [ ] subjectivity........ Subjectivity Dataset v1.0\n",
      "  [ ] swadesh............. Swadesh Wordlists\n",
      "  [ ] switchboard......... Switchboard Corpus Sample\n",
      "  [ ] tagsets............. Help on Tagsets\n",
      "  [ ] timit............... TIMIT Corpus Sample\n",
      "  [ ] toolbox............. Toolbox Sample Files\n",
      "  [ ] treebank............ Penn Treebank Sample\n",
      "  [ ] twitter_samples..... Twitter Samples\n",
      "  [ ] udhr2............... Universal Declaration of Human Rights Corpus\n",
      "                           (Unicode Version)\n",
      "  [ ] udhr................ Universal Declaration of Human Rights Corpus\n"
     ]
    },
    {
     "name": "stdin",
     "output_type": "stream",
     "text": [
      "Hit Enter to continue:  stopwords\n"
     ]
    },
    {
     "name": "stdout",
     "output_type": "stream",
     "text": [
      "  [ ] unicode_samples..... Unicode Samples\n",
      "  [ ] universal_tagset.... Mappings to the Universal Part-of-Speech Tagset\n",
      "  [ ] universal_treebanks_v20 Universal Treebanks Version 2.0\n",
      "  [ ] vader_lexicon....... VADER Sentiment Lexicon\n",
      "  [ ] verbnet3............ VerbNet Lexicon, Version 3.3\n",
      "  [ ] verbnet............. VerbNet Lexicon, Version 2.1\n",
      "  [ ] webtext............. Web Text Corpus\n",
      "  [ ] wmt15_eval.......... Evaluation data from WMT15\n",
      "  [ ] word2vec_sample..... Word2Vec Sample\n",
      "  [ ] wordnet............. WordNet\n",
      "  [ ] wordnet_ic.......... WordNet-InfoContent\n",
      "  [ ] words............... Word Lists\n",
      "  [ ] ycoe................ York-Toronto-Helsinki Parsed Corpus of Old\n",
      "                           English Prose\n",
      "\n",
      "Collections:\n",
      "  [ ] all-corpora......... All the corpora\n",
      "  [ ] all-nltk............ All packages available on nltk_data gh-pages\n",
      "                           branch\n",
      "  [ ] all................. All packages\n",
      "  [ ] book................ Everything used in the NLTK Book\n",
      "  [ ] popular............. Popular packages\n"
     ]
    },
    {
     "name": "stdin",
     "output_type": "stream",
     "text": [
      "Hit Enter to continue:  all\n"
     ]
    },
    {
     "name": "stdout",
     "output_type": "stream",
     "text": [
      "  [ ] tests............... Packages for running tests\n",
      "  [ ] third-party......... Third-party data packages\n",
      "\n",
      "([*] marks installed packages)\n",
      "\n",
      "Download which package (l=list; x=cancel)?\n"
     ]
    },
    {
     "name": "stdin",
     "output_type": "stream",
     "text": [
      "  Identifier>  \n"
     ]
    },
    {
     "name": "stdout",
     "output_type": "stream",
     "text": [
      "\n",
      "---------------------------------------------------------------------------\n",
      "    d) Download   l) List    u) Update   c) Config   h) Help   q) Quit\n",
      "---------------------------------------------------------------------------\n"
     ]
    },
    {
     "name": "stdin",
     "output_type": "stream",
     "text": [
      "Downloader>  d\n"
     ]
    },
    {
     "name": "stdout",
     "output_type": "stream",
     "text": [
      "\n",
      "Download which package (l=list; x=cancel)?\n"
     ]
    },
    {
     "name": "stdin",
     "output_type": "stream",
     "text": [
      "  Identifier>  l\n"
     ]
    },
    {
     "name": "stdout",
     "output_type": "stream",
     "text": [
      "Packages:\n",
      "  [ ] abc................. Australian Broadcasting Commission 2006\n",
      "  [ ] alpino.............. Alpino Dutch Treebank\n",
      "  [ ] averaged_perceptron_tagger Averaged Perceptron Tagger\n",
      "  [ ] averaged_perceptron_tagger_ru Averaged Perceptron Tagger (Russian)\n",
      "  [ ] basque_grammars..... Grammars for Basque\n",
      "  [ ] biocreative_ppi..... BioCreAtIvE (Critical Assessment of Information\n",
      "                           Extraction Systems in Biology)\n",
      "  [ ] bllip_wsj_no_aux.... BLLIP Parser: WSJ Model\n",
      "  [ ] book_grammars....... Grammars from NLTK Book\n",
      "  [ ] brown............... Brown Corpus\n",
      "  [ ] brown_tei........... Brown Corpus (TEI XML Version)\n",
      "  [ ] cess_cat............ CESS-CAT Treebank\n",
      "  [ ] cess_esp............ CESS-ESP Treebank\n",
      "  [ ] chat80.............. Chat-80 Data Files\n",
      "  [ ] city_database....... City Database\n",
      "  [ ] cmudict............. The Carnegie Mellon Pronouncing Dictionary (0.6)\n",
      "  [ ] comparative_sentences Comparative Sentence Dataset\n",
      "  [ ] comtrans............ ComTrans Corpus Sample\n",
      "  [ ] conll2000........... CONLL 2000 Chunking Corpus\n",
      "  [ ] conll2002........... CONLL 2002 Named Entity Recognition Corpus\n"
     ]
    },
    {
     "name": "stdin",
     "output_type": "stream",
     "text": [
      "Hit Enter to continue:  stopwords\n"
     ]
    },
    {
     "name": "stdout",
     "output_type": "stream",
     "text": [
      "  [ ] conll2007........... Dependency Treebanks from CoNLL 2007 (Catalan\n",
      "                           and Basque Subset)\n",
      "  [ ] crubadan............ Crubadan Corpus\n",
      "  [ ] dependency_treebank. Dependency Parsed Treebank\n",
      "  [ ] dolch............... Dolch Word List\n",
      "  [ ] europarl_raw........ Sample European Parliament Proceedings Parallel\n",
      "                           Corpus\n",
      "  [ ] floresta............ Portuguese Treebank\n",
      "  [ ] framenet_v15........ FrameNet 1.5\n",
      "  [ ] framenet_v17........ FrameNet 1.7\n",
      "  [ ] gazetteers.......... Gazeteer Lists\n",
      "  [ ] genesis............. Genesis Corpus\n",
      "  [ ] gutenberg........... Project Gutenberg Selections\n",
      "  [ ] ieer................ NIST IE-ER DATA SAMPLE\n",
      "  [ ] inaugural........... C-Span Inaugural Address Corpus\n",
      "  [ ] indian.............. Indian Language POS-Tagged Corpus\n",
      "  [ ] jeita............... JEITA Public Morphologically Tagged Corpus (in\n",
      "                           ChaSen format)\n",
      "  [ ] kimmo............... PC-KIMMO Data Files\n",
      "  [ ] knbc................ KNB Corpus (Annotated blog corpus)\n",
      "  [ ] large_grammars...... Large context-free and feature-based grammars\n",
      "                           for parser comparison\n"
     ]
    },
    {
     "name": "stdin",
     "output_type": "stream",
     "text": [
      "Hit Enter to continue:  \n"
     ]
    },
    {
     "name": "stdout",
     "output_type": "stream",
     "text": [
      "  [ ] lin_thesaurus....... Lin's Dependency Thesaurus\n",
      "  [ ] mac_morpho.......... MAC-MORPHO: Brazilian Portuguese news text with\n",
      "                           part-of-speech tags\n",
      "  [ ] machado............. Machado de Assis -- Obra Completa\n",
      "  [ ] masc_tagged......... MASC Tagged Corpus\n",
      "  [ ] maxent_ne_chunker... ACE Named Entity Chunker (Maximum entropy)\n",
      "  [ ] maxent_treebank_pos_tagger Treebank Part of Speech Tagger (Maximum entropy)\n",
      "  [ ] moses_sample........ Moses Sample Models\n",
      "  [ ] movie_reviews....... Sentiment Polarity Dataset Version 2.0\n",
      "  [ ] mte_teip5........... MULTEXT-East 1984 annotated corpus 4.0\n",
      "  [ ] mwa_ppdb............ The monolingual word aligner (Sultan et al.\n",
      "                           2015) subset of the Paraphrase Database.\n",
      "  [ ] names............... Names Corpus, Version 1.3 (1994-03-29)\n",
      "  [ ] nombank.1.0......... NomBank Corpus 1.0\n",
      "  [ ] nonbreaking_prefixes Non-Breaking Prefixes (Moses Decoder)\n",
      "  [ ] nps_chat............ NPS Chat\n",
      "  [ ] omw................. Open Multilingual Wordnet\n",
      "  [ ] opinion_lexicon..... Opinion Lexicon\n",
      "  [ ] panlex_swadesh...... PanLex Swadesh Corpora\n",
      "  [ ] paradigms........... Paradigm Corpus\n",
      "  [ ] pe08................ Cross-Framework and Cross-Domain Parser\n",
      "                           Evaluation Shared Task\n"
     ]
    },
    {
     "name": "stdin",
     "output_type": "stream",
     "text": [
      "Hit Enter to continue:  \n"
     ]
    },
    {
     "name": "stdout",
     "output_type": "stream",
     "text": [
      "  [ ] perluniprops........ perluniprops: Index of Unicode Version 7.0.0\n",
      "                           character properties in Perl\n",
      "  [ ] pil................. The Patient Information Leaflet (PIL) Corpus\n",
      "  [ ] pl196x.............. Polish language of the XX century sixties\n",
      "  [ ] porter_test......... Porter Stemmer Test Files\n",
      "  [ ] ppattach............ Prepositional Phrase Attachment Corpus\n",
      "  [ ] problem_reports..... Problem Report Corpus\n",
      "  [ ] product_reviews_1... Product Reviews (5 Products)\n",
      "  [ ] product_reviews_2... Product Reviews (9 Products)\n",
      "  [ ] propbank............ Proposition Bank Corpus 1.0\n",
      "  [ ] pros_cons........... Pros and Cons\n",
      "  [ ] ptb................. Penn Treebank\n",
      "  [ ] punkt............... Punkt Tokenizer Models\n",
      "  [ ] qc.................. Experimental Data for Question Classification\n",
      "  [ ] reuters............. The Reuters-21578 benchmark corpus, ApteMod\n",
      "                           version\n",
      "  [ ] rslp................ RSLP Stemmer (Removedor de Sufixos da Lingua\n",
      "                           Portuguesa)\n",
      "  [ ] rte................. PASCAL RTE Challenges 1, 2, and 3\n",
      "  [ ] sample_grammars..... Sample Grammars\n",
      "  [ ] semcor.............. SemCor 3.0\n"
     ]
    },
    {
     "name": "stdin",
     "output_type": "stream",
     "text": [
      "Hit Enter to continue:  \n"
     ]
    },
    {
     "name": "stdout",
     "output_type": "stream",
     "text": [
      "  [ ] senseval............ SENSEVAL 2 Corpus: Sense Tagged Text\n",
      "  [ ] sentence_polarity... Sentence Polarity Dataset v1.0\n",
      "  [ ] sentiwordnet........ SentiWordNet\n",
      "  [ ] shakespeare......... Shakespeare XML Corpus Sample\n",
      "  [ ] sinica_treebank..... Sinica Treebank Corpus Sample\n",
      "  [ ] smultron............ SMULTRON Corpus Sample\n",
      "  [ ] snowball_data....... Snowball Data\n",
      "  [ ] spanish_grammars.... Grammars for Spanish\n",
      "  [ ] state_union......... C-Span State of the Union Address Corpus\n",
      "  [ ] stopwords........... Stopwords Corpus\n",
      "  [ ] subjectivity........ Subjectivity Dataset v1.0\n",
      "  [ ] swadesh............. Swadesh Wordlists\n",
      "  [ ] switchboard......... Switchboard Corpus Sample\n",
      "  [ ] tagsets............. Help on Tagsets\n",
      "  [ ] timit............... TIMIT Corpus Sample\n",
      "  [ ] toolbox............. Toolbox Sample Files\n",
      "  [ ] treebank............ Penn Treebank Sample\n",
      "  [ ] twitter_samples..... Twitter Samples\n",
      "  [ ] udhr2............... Universal Declaration of Human Rights Corpus\n",
      "                           (Unicode Version)\n",
      "  [ ] udhr................ Universal Declaration of Human Rights Corpus\n"
     ]
    },
    {
     "name": "stdin",
     "output_type": "stream",
     "text": [
      "Hit Enter to continue:  stopwords\n"
     ]
    },
    {
     "name": "stdout",
     "output_type": "stream",
     "text": [
      "  [ ] unicode_samples..... Unicode Samples\n",
      "  [ ] universal_tagset.... Mappings to the Universal Part-of-Speech Tagset\n",
      "  [ ] universal_treebanks_v20 Universal Treebanks Version 2.0\n",
      "  [ ] vader_lexicon....... VADER Sentiment Lexicon\n",
      "  [ ] verbnet3............ VerbNet Lexicon, Version 3.3\n",
      "  [ ] verbnet............. VerbNet Lexicon, Version 2.1\n",
      "  [ ] webtext............. Web Text Corpus\n",
      "  [ ] wmt15_eval.......... Evaluation data from WMT15\n",
      "  [ ] word2vec_sample..... Word2Vec Sample\n",
      "  [ ] wordnet............. WordNet\n",
      "  [ ] wordnet_ic.......... WordNet-InfoContent\n",
      "  [ ] words............... Word Lists\n",
      "  [ ] ycoe................ York-Toronto-Helsinki Parsed Corpus of Old\n",
      "                           English Prose\n",
      "\n",
      "Collections:\n",
      "  [ ] all-corpora......... All the corpora\n",
      "  [ ] all-nltk............ All packages available on nltk_data gh-pages\n",
      "                           branch\n",
      "  [ ] all................. All packages\n",
      "  [ ] book................ Everything used in the NLTK Book\n",
      "  [ ] popular............. Popular packages\n"
     ]
    },
    {
     "name": "stdin",
     "output_type": "stream",
     "text": [
      "Hit Enter to continue:  all\n"
     ]
    },
    {
     "name": "stdout",
     "output_type": "stream",
     "text": [
      "  [ ] tests............... Packages for running tests\n",
      "  [ ] third-party......... Third-party data packages\n",
      "\n",
      "([*] marks installed packages)\n",
      "\n",
      "Download which package (l=list; x=cancel)?\n"
     ]
    },
    {
     "name": "stdin",
     "output_type": "stream",
     "text": [
      "  Identifier>  tests\n"
     ]
    },
    {
     "name": "stderr",
     "output_type": "stream",
     "text": [
      "    Downloading collection 'tests'\n",
      "       | \n",
      "       | Downloading package averaged_perceptron_tagger to\n",
      "       |     /home/jupyter/nltk_data...\n",
      "       |   Unzipping taggers/averaged_perceptron_tagger.zip.\n",
      "       | Downloading package porter_test to /home/jupyter/nltk_data...\n",
      "       |   Unzipping stemmers/porter_test.zip.\n",
      "       | Downloading package twitter_samples to\n",
      "       |     /home/jupyter/nltk_data...\n",
      "       |   Unzipping corpora/twitter_samples.zip.\n",
      "       | Downloading package wmt15_eval to /home/jupyter/nltk_data...\n",
      "       |   Unzipping models/wmt15_eval.zip.\n",
      "       | Downloading package subjectivity to\n",
      "       |     /home/jupyter/nltk_data...\n",
      "       |   Unzipping corpora/subjectivity.zip.\n",
      "       | Downloading package framenet_v17 to\n",
      "       |     /home/jupyter/nltk_data...\n",
      "       |   Unzipping corpora/framenet_v17.zip.\n",
      "       | Downloading package product_reviews_1 to\n",
      "       |     /home/jupyter/nltk_data...\n",
      "       |   Unzipping corpora/product_reviews_1.zip.\n",
      "       | Downloading package product_reviews_2 to\n",
      "       |     /home/jupyter/nltk_data...\n",
      "       |   Unzipping corpora/product_reviews_2.zip.\n",
      "       | Downloading package vader_lexicon to\n",
      "       |     /home/jupyter/nltk_data...\n",
      "       | Downloading package crubadan to /home/jupyter/nltk_data...\n",
      "       |   Unzipping corpora/crubadan.zip.\n",
      "       | Downloading package mte_teip5 to /home/jupyter/nltk_data...\n",
      "       |   Unzipping corpora/mte_teip5.zip.\n",
      "       | Downloading package sentence_polarity to\n",
      "       |     /home/jupyter/nltk_data...\n",
      "       |   Unzipping corpora/sentence_polarity.zip.\n",
      "       | Downloading package universal_treebanks_v20 to\n",
      "       |     /home/jupyter/nltk_data...\n",
      "       | Downloading package panlex_swadesh to\n",
      "       |     /home/jupyter/nltk_data...\n",
      "       | Downloading package nonbreaking_prefixes to\n",
      "       |     /home/jupyter/nltk_data...\n",
      "       |   Unzipping corpora/nonbreaking_prefixes.zip.\n",
      "       | Downloading package perluniprops to\n",
      "       |     /home/jupyter/nltk_data...\n",
      "       |   Unzipping misc/perluniprops.zip.\n",
      "       | Downloading package pros_cons to /home/jupyter/nltk_data...\n",
      "       |   Unzipping corpora/pros_cons.zip.\n",
      "       | Downloading package opinion_lexicon to\n",
      "       |     /home/jupyter/nltk_data...\n",
      "       |   Unzipping corpora/opinion_lexicon.zip.\n",
      "       | Downloading package comparative_sentences to\n",
      "       |     /home/jupyter/nltk_data...\n",
      "       |   Unzipping corpora/comparative_sentences.zip.\n",
      "       | \n",
      "     Done downloading collection tests\n"
     ]
    },
    {
     "name": "stdout",
     "output_type": "stream",
     "text": [
      "\n",
      "---------------------------------------------------------------------------\n",
      "    d) Download   l) List    u) Update   c) Config   h) Help   q) Quit\n",
      "---------------------------------------------------------------------------\n"
     ]
    }
   ],
   "source": [
    "import nltk\n",
    "nltk.download()"
   ]
  },
  {
   "cell_type": "code",
   "execution_count": 1,
   "metadata": {},
   "outputs": [],
   "source": [
    "import time\n",
    "import csv\n",
    "import re\n",
    "import numpy as np\n",
    "import pandas as pd\n",
    "from pprint import pprint\n",
    "\n",
    "# Gensim\n",
    "import gensim\n",
    "import gensim.corpora as corpora\n",
    "from gensim.utils import simple_preprocess\n",
    "from gensim.models import CoherenceModel\n",
    "\n",
    "# spacy for lemmatization\n",
    "import spacy\n",
    "\n",
    "# Plotting tools\n",
    "import pyLDAvis\n",
    "import pyLDAvis.gensim  # don't skip this\n",
    "import matplotlib.pyplot as plt\n",
    "# %matplotlib inline\n",
    "\n",
    "# Enable logging for gensim - optional\n",
    "import logging\n",
    "logging.basicConfig(format='%(asctime)s : %(levelname)s : %(message)s', level=logging.ERROR)\n",
    "\n",
    "import warnings\n",
    "warnings.filterwarnings(\"ignore\",category=DeprecationWarning)"
   ]
  },
  {
   "cell_type": "code",
   "execution_count": 35,
   "metadata": {},
   "outputs": [
    {
     "name": "stderr",
     "output_type": "stream",
     "text": [
      "[nltk_data] Downloading package stopwords to\n",
      "[nltk_data]     /home/jupyter/nltk_data...\n",
      "[nltk_data]   Unzipping corpora/stopwords.zip.\n"
     ]
    },
    {
     "data": {
      "text/plain": [
       "True"
      ]
     },
     "execution_count": 35,
     "metadata": {},
     "output_type": "execute_result"
    }
   ],
   "source": [
    "# NLTK Stop words\n",
    "import nltk\n",
    "nltk.download('stopwords')"
   ]
  },
  {
   "cell_type": "code",
   "execution_count": 2,
   "metadata": {},
   "outputs": [],
   "source": [
    "from nltk.corpus import stopwords\n",
    "stop_words = stopwords.words('english')\n",
    "stop_words.extend(['from', 'subject', 're', 'edu', 'use'])"
   ]
  },
  {
   "cell_type": "markdown",
   "metadata": {},
   "source": [
    "# 2.  Import data - monthly divided merged comments"
   ]
  },
  {
   "cell_type": "code",
   "execution_count": 3,
   "metadata": {},
   "outputs": [
    {
     "name": "stdout",
     "output_type": "stream",
     "text": [
      "0                   ------sb\n",
      "1         -----iMartijn-----\n",
      "2            -----truth-----\n",
      "3                 ----__----\n",
      "4               ----lost----\n",
      "                 ...        \n",
      "199477            Rec0nSl0th\n",
      "199478                Rec0nd\n",
      "199479        Rec_desk_phone\n",
      "199480    RecalcitrantAussie\n",
      "199481           ReccyNegika\n",
      "Name: author, Length: 199482, dtype: object\n"
     ]
    },
    {
     "data": {
      "text/html": [
       "<div>\n",
       "<style scoped>\n",
       "    .dataframe tbody tr th:only-of-type {\n",
       "        vertical-align: middle;\n",
       "    }\n",
       "\n",
       "    .dataframe tbody tr th {\n",
       "        vertical-align: top;\n",
       "    }\n",
       "\n",
       "    .dataframe thead th {\n",
       "        text-align: right;\n",
       "    }\n",
       "</style>\n",
       "<table border=\"1\" class=\"dataframe\">\n",
       "  <thead>\n",
       "    <tr style=\"text-align: right;\">\n",
       "      <th></th>\n",
       "      <th>author</th>\n",
       "      <th>mergedText</th>\n",
       "    </tr>\n",
       "  </thead>\n",
       "  <tbody>\n",
       "    <tr>\n",
       "      <td>0</td>\n",
       "      <td>------sb</td>\n",
       "      <td>People will downvote as they see fit, but post...</td>\n",
       "    </tr>\n",
       "    <tr>\n",
       "      <td>1</td>\n",
       "      <td>-----iMartijn-----</td>\n",
       "      <td>Arenâ€™t you disappointed itâ€™s only sixteen?...</td>\n",
       "    </tr>\n",
       "    <tr>\n",
       "      <td>2</td>\n",
       "      <td>-----truth-----</td>\n",
       "      <td>&amp;gt;wapo\\n\\nHAHAHAH,Dead people and illegal im...</td>\n",
       "    </tr>\n",
       "    <tr>\n",
       "      <td>3</td>\n",
       "      <td>----__----</td>\n",
       "      <td>Maybe?</td>\n",
       "    </tr>\n",
       "    <tr>\n",
       "      <td>4</td>\n",
       "      <td>----lost----</td>\n",
       "      <td>&amp;gt; Could be a potentially Presidential endin...</td>\n",
       "    </tr>\n",
       "  </tbody>\n",
       "</table>\n",
       "</div>"
      ],
      "text/plain": [
       "               author                                         mergedText\n",
       "0            ------sb  People will downvote as they see fit, but post...\n",
       "1  -----iMartijn-----  Arenâ€™t you disappointed itâ€™s only sixteen?...\n",
       "2     -----truth-----  &gt;wapo\\n\\nHAHAHAH,Dead people and illegal im...\n",
       "3          ----__----                                             Maybe?\n",
       "4        ----lost----  &gt; Could be a potentially Presidential endin..."
      ]
     },
     "execution_count": 3,
     "metadata": {},
     "output_type": "execute_result"
    }
   ],
   "source": [
    "# Import Dataset\n",
    "month = '2019_02'\n",
    "file_path = 'mergedComments_{}.json'.format(month)\n",
    "df = pd.read_json(file_path,lines=True)\n",
    "print(df.author)\n",
    "df.head()"
   ]
  },
  {
   "cell_type": "markdown",
   "metadata": {},
   "source": [
    "# 3. Preprocessing\n",
    "Let’s tokenize each sentence into a list of words, removing punctuations and unnecessary characters altogether.\n",
    "Gensim’s **simple_preprocess()** is great for this. Additionally I have set **deacc=True** to remove the punctuations.\n",
    "\n",
    "Here the **turncated_len** is used to indicate the length of mergedText that to be converted to list, because the **.tolist()** processing to the whole corpus will be a little time-comsuming, i.e. about several minutes. However, the whole corpus should keep intact because it will influence the following steps, of course you can save the time if you just try this model for fun.\n",
    "\n",
    "## Cell duration 166s"
   ]
  },
  {
   "cell_type": "code",
   "execution_count": 4,
   "metadata": {},
   "outputs": [
    {
     "name": "stdout",
     "output_type": "stream",
     "text": [
      "['People will downvote as they see fit, but posting a comment that is nothing '\n",
      " 'but yet another complaint about downvotes - thatâ€™s a paddlinâ€™. ,Thatâ€™s '\n",
      " 'a bribe and conservative governments the world over have it down to an art. '\n",
      " 'Throw a small bone that will help in the short term to secure votes, and '\n",
      " 'propagate the misconception that they manage the economy better, and then '\n",
      " 'build mechanisms to systematically syphon money to the wealthy for decades '\n",
      " 'to come. ']\n",
      "Item to words\n",
      "[['people', 'will', 'downvote', 'as', 'they', 'see', 'fit', 'but', 'posting', 'comment', 'that', 'is', 'nothing', 'but', 'yet', 'another', 'complaint', 'about', 'downvotes', 'thata', 'paddlina', 'thata', 'bribe', 'and', 'conservative', 'governments', 'the', 'world', 'over', 'have', 'it', 'down', 'to', 'an', 'art', 'throw', 'small', 'bone', 'that', 'will', 'help', 'in', 'the', 'short', 'term', 'to', 'secure', 'votes', 'and', 'propagate', 'the', 'misconception', 'that', 'they', 'manage', 'the', 'economy', 'better', 'and', 'then', 'build', 'mechanisms', 'to', 'systematically', 'syphon', 'money', 'to', 'the', 'wealthy', 'for', 'decades', 'to', 'come']]\n",
      "Cell duration\n",
      "286.657080411911\n"
     ]
    }
   ],
   "source": [
    "# Convert to list\n",
    "start = time.time()\n",
    "\n",
    "# turncated_len = 2000\n",
    "data = df.mergedText.values.tolist()\n",
    "\n",
    "# Remove new line characters. Here '\\s' matches all the blank characters\n",
    "data = [re.sub('\\s+', ' ', item) for item in data]\n",
    "\n",
    "# Remove distracting single quotes\n",
    "data = [re.sub(\"\\'\", \"\", item) for item in data]\n",
    "pprint(data[:1])\n",
    "\n",
    "# Tokenize words and clean-up text\n",
    "def item_to_words(sentences):\n",
    "    for sentence in sentences:\n",
    "        yield(gensim.utils.simple_preprocess(str(sentence), deacc=True))  # deacc=True removes punctuations\n",
    "\n",
    "print('Item to words')\n",
    "data_words = list(item_to_words(data))\n",
    "print(data_words[:1])\n",
    "\n",
    "end = time.time()\n",
    "print ('Cell duration')\n",
    "print(end - start)"
   ]
  },
  {
   "cell_type": "markdown",
   "metadata": {},
   "source": [
    "## The number of authors and the number of the total words"
   ]
  },
  {
   "cell_type": "code",
   "execution_count": 5,
   "metadata": {
    "scrolled": true
   },
   "outputs": [
    {
     "name": "stdout",
     "output_type": "stream",
     "text": [
      "The number of authors\n",
      "199482\n",
      "The number ot the total words\n"
     ]
    },
    {
     "data": {
      "text/plain": [
       "66115290"
      ]
     },
     "execution_count": 5,
     "metadata": {},
     "output_type": "execute_result"
    }
   ],
   "source": [
    "print('The number of authors')\n",
    "print(len(data_words))\n",
    "count_original = 0\n",
    "for data_word in data_words:\n",
    "    count_original += len(data_word)\n",
    "print('The number ot the total words')\n",
    "count_original"
   ]
  },
  {
   "cell_type": "markdown",
   "metadata": {},
   "source": [
    "# 4. Creating Bigram and Trigram Models\n",
    "## Note the variable name for the dataset up till now\n",
    "**df** is the original imported data which we have not changed it   \n",
    "**data** is an intermediate variable which have been slightly preprocessed    \n",
    "**data_words** is the thing to be used in the following which have been completely cleaned and converted to a list of words   \n",
    "## This part is time-consuming as the cells durations present"
   ]
  },
  {
   "cell_type": "markdown",
   "metadata": {},
   "source": [
    "### Cell duration 115s"
   ]
  },
  {
   "cell_type": "code",
   "execution_count": 11,
   "metadata": {},
   "outputs": [
    {
     "name": "stdout",
     "output_type": "stream",
     "text": [
      "Duration of the bigram building\n",
      "102.34177756309509\n"
     ]
    }
   ],
   "source": [
    "# Build the bigram model\n",
    "start = time.time()\n",
    "bigram = gensim.models.Phrases(data_words, min_count=5, threshold=100) # higher threshold fewer phrases.\n",
    "end = time.time()\n",
    "print ('Duration of the bigram building')\n",
    "print(end - start)"
   ]
  },
  {
   "cell_type": "markdown",
   "metadata": {},
   "source": [
    "### Cell duration 422s"
   ]
  },
  {
   "cell_type": "code",
   "execution_count": 6,
   "metadata": {},
   "outputs": [
    {
     "name": "stdout",
     "output_type": "stream",
     "text": [
      "Duration of the trigram building\n",
      "401.48244047164917\n"
     ]
    }
   ],
   "source": [
    "# Build the trigram model\n",
    "start = time.time()\n",
    "trigram = gensim.models.Phrases(bigram[data_words], threshold=100) \n",
    "end = time.time()\n",
    "print ('Duration of the trigram building')\n",
    "print(end - start)"
   ]
  },
  {
   "cell_type": "markdown",
   "metadata": {},
   "source": [
    "### Cell duration 77s"
   ]
  },
  {
   "cell_type": "code",
   "execution_count": 16,
   "metadata": {},
   "outputs": [
    {
     "name": "stdout",
     "output_type": "stream",
     "text": [
      "Duration of the trigram building\n",
      "62.84939098358154\n"
     ]
    }
   ],
   "source": [
    "# Faster way to get a sentence clubbed as a trigram/bigram\n",
    "start = time.time()\n",
    "bigram_mod = gensim.models.phrases.Phraser(bigram)\n",
    "end = time.time()\n",
    "print ('Duration of the trigram building')\n",
    "print(end - start)"
   ]
  },
  {
   "cell_type": "code",
   "execution_count": null,
   "metadata": {},
   "outputs": [],
   "source": []
  },
  {
   "cell_type": "markdown",
   "metadata": {},
   "source": [
    "### Cell duration 84s"
   ]
  },
  {
   "cell_type": "code",
   "execution_count": 8,
   "metadata": {},
   "outputs": [
    {
     "name": "stdout",
     "output_type": "stream",
     "text": [
      "Duration of the trigram building\n",
      "80.29017472267151\n"
     ]
    }
   ],
   "source": [
    "# Faster way to get a sentence clubbed as a trigram/bigram\n",
    "start = time.time()\n",
    "trigram_mod = gensim.models.phrases.Phraser(trigram)\n",
    "end = time.time()\n",
    "print ('Duration of the trigram building')\n",
    "print(end - start)"
   ]
  },
  {
   "cell_type": "code",
   "execution_count": 9,
   "metadata": {},
   "outputs": [
    {
     "name": "stdout",
     "output_type": "stream",
     "text": [
      "['gt', 'wapo', 'hahahah', 'dead', 'people', 'and', 'illegal_immigrants', 'dona', 'count', 'democracies', 'are', 'to', 'protect', 'against', 'tyrants', 'not', 'to', 'make', 'sure', 'every', 'sudden', 'and', 'transient', 'whim', 'of', 'the', 'majority', 'becomes', 'law', 'the', 'people', 'voting', 'for', 'donald', 'trump', 'is', 'what', 'makes', 'him', 'qualified', 'tbh', 'that', 'would', 'be', 'fucking', 'hilarious', 'going', 'to', 'tell', 'my', 'jewish', 'gym', 'buddy', 'that', 'tomorrow', 'evening', 'sure', 'hea', 'll', 'chuckle', 'the', 'usa', 'is', 'not', 'democracy', 'and', 'was', 'never', 'designed', 'or', 'intended', 'to', 'be', 'one', 'only', 'because', 'the', 'left', 'is', 'so', 'violent', 'lol', 'you', 'honestly', 'need', 'source', 'for', 'why', 'dead', 'people', 'and', 'illegal_immigrants', 'dona', 'count']\n",
      "['gt', 'wapo', 'hahahah', 'dead', 'people', 'and', 'illegal', 'immigrants', 'dona', 'count', 'democracies', 'are', 'to', 'protect', 'against', 'tyrants', 'not', 'to', 'make', 'sure', 'every', 'sudden', 'and', 'transient', 'whim', 'of', 'the', 'majority', 'becomes', 'law', 'the', 'people', 'voting', 'for', 'donald', 'trump', 'is', 'what', 'makes', 'him', 'qualified', 'tbh', 'that', 'would', 'be', 'fucking', 'hilarious', 'going', 'to', 'tell', 'my', 'jewish', 'gym', 'buddy', 'that', 'tomorrow', 'evening', 'sure', 'hea', 'll', 'chuckle', 'the', 'usa', 'is', 'not', 'democracy', 'and', 'was', 'never', 'designed', 'or', 'intended', 'to', 'be', 'one', 'only', 'because', 'the', 'left', 'is', 'so', 'violent', 'lol', 'you', 'honestly', 'need', 'source', 'for', 'why', 'dead', 'people', 'and', 'illegal', 'immigrants', 'dona', 'count']\n"
     ]
    }
   ],
   "source": [
    "# See bigram example and trigram example\n",
    "print(trigram_mod[bigram_mod[data_words[2]]])\n",
    "print(data_words[2])"
   ]
  },
  {
   "cell_type": "markdown",
   "metadata": {},
   "source": [
    "# 5. Remove stopwords, make Bigrams, Lemmatize"
   ]
  },
  {
   "cell_type": "code",
   "execution_count": 13,
   "metadata": {},
   "outputs": [],
   "source": [
    "# Define functions for stopwords, bigrams, trigrams and lemmatization\n",
    "def remove_stopwords(texts):\n",
    "    return [[word for word in simple_preprocess(str(doc)) if word not in stop_words] for doc in texts]\n",
    "\n",
    "def make_bigrams(texts):\n",
    "    return [bigram_mod[doc] for doc in texts]\n",
    "\n",
    "def make_trigrams(texts):\n",
    "    return [trigram_mod[bigram_mod[doc]] for doc in texts]\n",
    "\n",
    "def lemmatization(texts, allowed_postags=['NOUN', 'ADJ', 'VERB', 'ADV']):\n",
    "    \"\"\"https://spacy.io/api/annotation\"\"\"\n",
    "    texts_out = []\n",
    "    start_index = 0\n",
    "    process_len = 1000\n",
    "    k = len(texts)//process_len\n",
    "    # the process_len and range k are set to prevent the length of processing texts exceeds the spacy limit 1000000\n",
    "    # and the process_len and the number of chunk k is an rough estimation, adjust it if necessary\n",
    "    for num in range(k):\n",
    "        print(\"{} / {}\".format(num,k))\n",
    "        start_index = num * process_len\n",
    "        text_chunk = texts[start_index:(start_index+process_len)]\n",
    "        for text in text_chunk:\n",
    "            doc = nlp(\" \".join(text)) \n",
    "            texts_out.append([token.lemma_ for token in doc if token.pos_ in allowed_postags])\n",
    "    # becuase the k is round down, we need to process the last chunk\n",
    "    text_last_chunk = texts[start_index+process_len:]\n",
    "    for text in text_last_chunk:\n",
    "            doc = nlp(\" \".join(text)) \n",
    "            texts_out.append([token.lemma_ for token in doc if token.pos_ in allowed_postags])\n",
    "    return texts_out"
   ]
  },
  {
   "cell_type": "markdown",
   "metadata": {},
   "source": [
    "### Cell duration 191s"
   ]
  },
  {
   "cell_type": "code",
   "execution_count": 8,
   "metadata": {},
   "outputs": [
    {
     "name": "stdout",
     "output_type": "stream",
     "text": [
      "Duration of the trigram building\n",
      "179.37500834465027\n"
     ]
    }
   ],
   "source": [
    "# Remove Stop Words\n",
    "start = time.time()\n",
    "data_words_nostops = remove_stopwords(data_words)\n",
    "end = time.time()\n",
    "print ('Duration of the trigram building')\n",
    "print(end - start)"
   ]
  },
  {
   "cell_type": "code",
   "execution_count": 9,
   "metadata": {},
   "outputs": [
    {
     "name": "stdout",
     "output_type": "stream",
     "text": [
      "The number of the total words without stop_words\n"
     ]
    },
    {
     "data": {
      "text/plain": [
       "37101073"
      ]
     },
     "execution_count": 9,
     "metadata": {},
     "output_type": "execute_result"
    }
   ],
   "source": [
    "count_nostops = 0\n",
    "for data_word in data_words_nostops:\n",
    "    count_nostops += len(data_word)\n",
    "print('The number of the total words without stop_words')\n",
    "count_nostops"
   ]
  },
  {
   "cell_type": "markdown",
   "metadata": {},
   "source": [
    "### The original corpus contains 66115290 words, by deleting the stop_words, the scale decrease half nearly."
   ]
  },
  {
   "cell_type": "markdown",
   "metadata": {},
   "source": [
    "### Cell duration 94s"
   ]
  },
  {
   "cell_type": "code",
   "execution_count": 17,
   "metadata": {},
   "outputs": [
    {
     "name": "stdout",
     "output_type": "stream",
     "text": [
      "Duration of making bigrams\n",
      "95.84422850608826\n"
     ]
    }
   ],
   "source": [
    "# Form Bigrams\n",
    "start = time.time()\n",
    "data_words_bigrams = make_bigrams(data_words_nostops)\n",
    "end = time.time()\n",
    "print ('Duration of making bigrams')\n",
    "print(end - start)"
   ]
  },
  {
   "cell_type": "code",
   "execution_count": 18,
   "metadata": {
    "scrolled": true
   },
   "outputs": [
    {
     "name": "stdout",
     "output_type": "stream",
     "text": [
      "The number of the total words without bigramss\n"
     ]
    },
    {
     "data": {
      "text/plain": [
       "35705431"
      ]
     },
     "execution_count": 18,
     "metadata": {},
     "output_type": "execute_result"
    }
   ],
   "source": [
    "count_words_bigrams = 0\n",
    "for data_word in data_words_bigrams:\n",
    "    count_words_bigrams += len(data_word)\n",
    "print('The number of the total words without bigramss')\n",
    "count_words_bigrams"
   ]
  },
  {
   "cell_type": "markdown",
   "metadata": {},
   "source": [
    "### After making bigrams, the sclae decreases 4%"
   ]
  },
  {
   "cell_type": "markdown",
   "metadata": {},
   "source": [
    "### Cell duration 1763s"
   ]
  },
  {
   "cell_type": "code",
   "execution_count": 19,
   "metadata": {},
   "outputs": [],
   "source": [
    "# Initialize spacy 'en' model, keeping only tagger component (for efficiency)\n",
    "# python3 -m spacy download en\n",
    "nlp = spacy.load('en', disable=['parser', 'ner'])\n",
    "nlp.max_length = count_words_bigrams"
   ]
  },
  {
   "cell_type": "code",
   "execution_count": 20,
   "metadata": {
    "scrolled": false
   },
   "outputs": [
    {
     "name": "stdout",
     "output_type": "stream",
     "text": [
      "0 / 199\n",
      "1 / 199\n",
      "2 / 199\n",
      "3 / 199\n",
      "4 / 199\n",
      "5 / 199\n",
      "6 / 199\n",
      "7 / 199\n",
      "8 / 199\n",
      "9 / 199\n",
      "10 / 199\n",
      "11 / 199\n",
      "12 / 199\n",
      "13 / 199\n",
      "14 / 199\n",
      "15 / 199\n",
      "16 / 199\n",
      "17 / 199\n",
      "18 / 199\n",
      "19 / 199\n",
      "20 / 199\n",
      "21 / 199\n",
      "22 / 199\n",
      "23 / 199\n",
      "24 / 199\n",
      "25 / 199\n",
      "26 / 199\n",
      "27 / 199\n",
      "28 / 199\n",
      "29 / 199\n",
      "30 / 199\n",
      "31 / 199\n",
      "32 / 199\n",
      "33 / 199\n",
      "34 / 199\n",
      "35 / 199\n",
      "36 / 199\n",
      "37 / 199\n",
      "38 / 199\n",
      "39 / 199\n",
      "40 / 199\n",
      "41 / 199\n",
      "42 / 199\n",
      "43 / 199\n",
      "44 / 199\n",
      "45 / 199\n",
      "46 / 199\n",
      "47 / 199\n",
      "48 / 199\n",
      "49 / 199\n",
      "50 / 199\n",
      "51 / 199\n",
      "52 / 199\n",
      "53 / 199\n",
      "54 / 199\n",
      "55 / 199\n",
      "56 / 199\n",
      "57 / 199\n",
      "58 / 199\n",
      "59 / 199\n",
      "60 / 199\n",
      "61 / 199\n",
      "62 / 199\n",
      "63 / 199\n",
      "64 / 199\n",
      "65 / 199\n",
      "66 / 199\n",
      "67 / 199\n",
      "68 / 199\n",
      "69 / 199\n",
      "70 / 199\n",
      "71 / 199\n",
      "72 / 199\n",
      "73 / 199\n",
      "74 / 199\n",
      "75 / 199\n",
      "76 / 199\n",
      "77 / 199\n",
      "78 / 199\n",
      "79 / 199\n",
      "80 / 199\n",
      "81 / 199\n",
      "82 / 199\n",
      "83 / 199\n",
      "84 / 199\n",
      "85 / 199\n",
      "86 / 199\n",
      "87 / 199\n",
      "88 / 199\n",
      "89 / 199\n",
      "90 / 199\n",
      "91 / 199\n",
      "92 / 199\n",
      "93 / 199\n",
      "94 / 199\n",
      "95 / 199\n",
      "96 / 199\n",
      "97 / 199\n",
      "98 / 199\n",
      "99 / 199\n",
      "100 / 199\n",
      "101 / 199\n",
      "102 / 199\n",
      "103 / 199\n",
      "104 / 199\n",
      "105 / 199\n",
      "106 / 199\n",
      "107 / 199\n",
      "108 / 199\n",
      "109 / 199\n",
      "110 / 199\n",
      "111 / 199\n",
      "112 / 199\n",
      "113 / 199\n",
      "114 / 199\n",
      "115 / 199\n",
      "116 / 199\n",
      "117 / 199\n",
      "118 / 199\n",
      "119 / 199\n",
      "120 / 199\n",
      "121 / 199\n",
      "122 / 199\n",
      "123 / 199\n",
      "124 / 199\n",
      "125 / 199\n",
      "126 / 199\n",
      "127 / 199\n",
      "128 / 199\n",
      "129 / 199\n",
      "130 / 199\n",
      "131 / 199\n",
      "132 / 199\n",
      "133 / 199\n",
      "134 / 199\n",
      "135 / 199\n",
      "136 / 199\n",
      "137 / 199\n",
      "138 / 199\n",
      "139 / 199\n",
      "140 / 199\n",
      "141 / 199\n",
      "142 / 199\n",
      "143 / 199\n",
      "144 / 199\n",
      "145 / 199\n",
      "146 / 199\n",
      "147 / 199\n",
      "148 / 199\n",
      "149 / 199\n",
      "150 / 199\n",
      "151 / 199\n",
      "152 / 199\n",
      "153 / 199\n",
      "154 / 199\n",
      "155 / 199\n",
      "156 / 199\n",
      "157 / 199\n",
      "158 / 199\n",
      "159 / 199\n",
      "160 / 199\n",
      "161 / 199\n",
      "162 / 199\n",
      "163 / 199\n",
      "164 / 199\n",
      "165 / 199\n",
      "166 / 199\n",
      "167 / 199\n",
      "168 / 199\n",
      "169 / 199\n",
      "170 / 199\n",
      "171 / 199\n",
      "172 / 199\n",
      "173 / 199\n",
      "174 / 199\n",
      "175 / 199\n",
      "176 / 199\n",
      "177 / 199\n",
      "178 / 199\n",
      "179 / 199\n",
      "180 / 199\n",
      "181 / 199\n",
      "182 / 199\n",
      "183 / 199\n",
      "184 / 199\n",
      "185 / 199\n",
      "186 / 199\n",
      "187 / 199\n",
      "188 / 199\n",
      "189 / 199\n",
      "190 / 199\n",
      "191 / 199\n",
      "192 / 199\n",
      "193 / 199\n",
      "194 / 199\n",
      "195 / 199\n",
      "196 / 199\n",
      "197 / 199\n",
      "198 / 199\n",
      "Duration of Lemmatization\n",
      "1662.7478997707367\n",
      "[['people', 'downvote', 'see', 'fit', 'posting', 'comment', 'yet', 'complaint', 'downvote', 'bribe', 'conservative', 'government', 'world', 'art', 'throw', 'small', 'bone', 'help', 'short', 'term', 'secure', 'vote', 'propagate', 'misconception', 'manage', 'economy', 'better', 'build', 'mechanism', 'systematically', 'syphon', 'money', 'wealthy', 'decade', 'come']]\n"
     ]
    }
   ],
   "source": [
    "start = time.time()\n",
    "# Do lemmatization keeping only noun, adj, vb, adv\n",
    "data_lemmatized = lemmatization(data_words_bigrams, allowed_postags=['NOUN', 'ADJ', 'VERB', 'ADV'])\n",
    "\n",
    "end = time.time()\n",
    "print ('Duration of Lemmatization')\n",
    "print(end - start)\n",
    "print(data_lemmatized[:1])"
   ]
  },
  {
   "cell_type": "code",
   "execution_count": 21,
   "metadata": {
    "scrolled": true
   },
   "outputs": [
    {
     "name": "stdout",
     "output_type": "stream",
     "text": [
      "[['people', 'downvote', 'see', 'fit', 'posting', 'comment', 'nothing', 'yet', 'another', 'complaint', 'downvotes', 'thata', 'paddlina', 'thata', 'bribe', 'conservative', 'governments', 'world', 'art', 'throw', 'small', 'bone', 'help', 'short', 'term', 'secure', 'votes', 'propagate', 'misconception', 'manage', 'economy', 'better', 'build', 'mechanisms', 'systematically', 'syphon', 'money', 'wealthy', 'decades', 'come']]\n",
      "[['people', 'downvote', 'see', 'fit', 'posting', 'comment', 'yet', 'complaint', 'downvote', 'bribe', 'conservative', 'government', 'world', 'art', 'throw', 'small', 'bone', 'help', 'short', 'term', 'secure', 'vote', 'propagate', 'misconception', 'manage', 'economy', 'better', 'build', 'mechanism', 'systematically', 'syphon', 'money', 'wealthy', 'decade', 'come']]\n",
      "The number of the total lemmalized words\n"
     ]
    },
    {
     "data": {
      "text/plain": [
       "27797154"
      ]
     },
     "execution_count": 21,
     "metadata": {},
     "output_type": "execute_result"
    }
   ],
   "source": [
    "print(data_words_bigrams[:1])\n",
    "\n",
    "print(data_lemmatized[:1])\n",
    "\n",
    "count_words_lemma = 0\n",
    "for data_word in data_lemmatized:\n",
    "    count_words_lemma += len(data_word)\n",
    "print('The number of the total lemmalized words')\n",
    "count_words_lemma"
   ]
  },
  {
   "cell_type": "markdown",
   "metadata": {},
   "source": [
    "### Lemmalized words 27797154"
   ]
  },
  {
   "cell_type": "markdown",
   "metadata": {},
   "source": [
    "# 6. Create the Dictionary and Corpus needed for Topic Modeling"
   ]
  },
  {
   "cell_type": "markdown",
   "metadata": {},
   "source": [
    "### Cell duration 88s"
   ]
  },
  {
   "cell_type": "code",
   "execution_count": 22,
   "metadata": {},
   "outputs": [
    {
     "name": "stdout",
     "output_type": "stream",
     "text": [
      "Duration of creating the dictionary and corpus\n",
      "92.77045607566833\n",
      "[[(0, 1), (1, 1), (2, 1), (3, 1), (4, 1), (5, 1), (6, 1), (7, 1), (8, 1), (9, 1), (10, 2), (11, 1), (12, 1), (13, 1), (14, 1), (15, 1), (16, 1), (17, 1), (18, 1), (19, 1), (20, 1), (21, 1), (22, 1), (23, 1), (24, 1), (25, 1), (26, 1), (27, 1), (28, 1), (29, 1), (30, 1), (31, 1), (32, 1), (33, 1)]]\n"
     ]
    }
   ],
   "source": [
    "# Create Dictionary\n",
    "start = time.time()\n",
    "id2word = corpora.Dictionary(data_lemmatized)\n",
    "\n",
    "# Create Corpus\n",
    "texts = data_lemmatized\n",
    "\n",
    "# Term Document Frequency\n",
    "corpus = [id2word.doc2bow(text) for text in texts]\n",
    "\n",
    "\n",
    "end = time.time()\n",
    "print ('Duration of creating the dictionary and corpus')\n",
    "print(end - start)\n",
    "\n",
    "# View\n",
    "print(corpus[:1])"
   ]
  },
  {
   "cell_type": "markdown",
   "metadata": {},
   "source": [
    "## Save id2word"
   ]
  },
  {
   "cell_type": "code",
   "execution_count": 26,
   "metadata": {},
   "outputs": [],
   "source": [
    "import pickle\n",
    "file_name = 'id2word_2019_02.pkl'\n",
    "with open(file_name,'wb') as file_object:\n",
    "    pickle.dump(id2word,file_object)"
   ]
  },
  {
   "cell_type": "markdown",
   "metadata": {},
   "source": [
    "## Load id2word"
   ]
  },
  {
   "cell_type": "code",
   "execution_count": 30,
   "metadata": {},
   "outputs": [],
   "source": [
    "import pickle\n",
    "file_name = 'id2word_2019_02.pkl'\n",
    "with open(file_name,'rb') as file_object:\n",
    "    foo = pickle.load(file_object)"
   ]
  },
  {
   "cell_type": "markdown",
   "metadata": {},
   "source": [
    "## Save corpus"
   ]
  },
  {
   "cell_type": "code",
   "execution_count": 33,
   "metadata": {},
   "outputs": [],
   "source": [
    "import json\n",
    "file_name = '_corpus_2019_02.json'\n",
    "with open(file_name,'w') as file_object:\n",
    "    json.dump(corpus,file_object)"
   ]
  },
  {
   "cell_type": "markdown",
   "metadata": {},
   "source": [
    "## Load corpus"
   ]
  },
  {
   "cell_type": "code",
   "execution_count": 34,
   "metadata": {},
   "outputs": [],
   "source": [
    "import json\n",
    "file_name = '_corpus_2019_02.json'\n",
    "with open(file_name,'r') as file_object:\n",
    "    corpus_foo = json.load(file_object)"
   ]
  },
  {
   "cell_type": "code",
   "execution_count": 35,
   "metadata": {
    "scrolled": true
   },
   "outputs": [
    {
     "data": {
      "text/plain": [
       "199482"
      ]
     },
     "execution_count": 35,
     "metadata": {},
     "output_type": "execute_result"
    }
   ],
   "source": [
    "len(corpus_foo)"
   ]
  },
  {
   "cell_type": "markdown",
   "metadata": {},
   "source": [
    "## Test loading id2word and corpus"
   ]
  },
  {
   "cell_type": "code",
   "execution_count": 36,
   "metadata": {},
   "outputs": [
    {
     "name": "stdout",
     "output_type": "stream",
     "text": [
      "Duration of creating the dictionary and corpus\n",
      "14.78010082244873\n",
      "[[(0, 1), (1, 1), (2, 1), (3, 1), (4, 1), (5, 1), (6, 1), (7, 1), (8, 1), (9, 1), (10, 2), (11, 1), (12, 1), (13, 1), (14, 1), (15, 1), (16, 1), (17, 1), (18, 1), (19, 1), (20, 1), (21, 1), (22, 1), (23, 1), (24, 1), (25, 1), (26, 1), (27, 1), (28, 1), (29, 1), (30, 1), (31, 1), (32, 1), (33, 1)]]\n"
     ]
    }
   ],
   "source": [
    "# Create Dictionary\n",
    "start = time.time()\n",
    "#id2word = corpora.Dictionary(data_lemmatized)\n",
    "\n",
    "# Create Corpus\n",
    "texts = data_lemmatized\n",
    "\n",
    "# Term Document Frequency\n",
    "foo_corpus = [foo.doc2bow(text) for text in texts]\n",
    "\n",
    "\n",
    "end = time.time()\n",
    "print ('Duration of creating the dictionary and corpus')\n",
    "print(end - start)\n",
    "\n",
    "# View\n",
    "print(foo_corpus[:1])"
   ]
  },
  {
   "cell_type": "markdown",
   "metadata": {},
   "source": [
    "# 7. Building the topic model"
   ]
  },
  {
   "cell_type": "markdown",
   "metadata": {},
   "source": [
    "### Environment GCP 16vCPUs; 60GB RAM\n",
    "### Training time 10798s(i.e. 3h) "
   ]
  },
  {
   "cell_type": "code",
   "execution_count": 59,
   "metadata": {},
   "outputs": [
    {
     "name": "stdout",
     "output_type": "stream",
     "text": [
      "Training Time using the corpus without lemmalization\n",
      "10798.353863716125\n"
     ]
    }
   ],
   "source": [
    "# Build LDA model\n",
    "start = time.time()\n",
    "lda_model = gensim.models.ldamodel.LdaModel(corpus=corpus,\n",
    "                                           id2word=id2word,\n",
    "                                           num_topics=20, \n",
    "                                           random_state=100,\n",
    "                                           update_every=1,\n",
    "                                           chunksize=100,\n",
    "                                           passes=10,\n",
    "                                           alpha='auto',\n",
    "                                           per_word_topics=True)\n",
    "\n",
    "end = time.time()\n",
    "print ('Training Time using the corpus without lemmalization')\n",
    "print(end - start)"
   ]
  },
  {
   "cell_type": "markdown",
   "metadata": {},
   "source": [
    "# 8. View the topics in LDA model"
   ]
  },
  {
   "cell_type": "code",
   "execution_count": 113,
   "metadata": {},
   "outputs": [
    {
     "name": "stdout",
     "output_type": "stream",
     "text": [
      "[(0,\n",
      "  '0.261*\"exclusive\" + 0.171*\"cap\" + 0.072*\"hilarious\" + 0.046*\"yell\" + '\n",
      "  '0.036*\"buddy\" + 0.034*\"huffingtonpost\" + 0.023*\"realistically\" + '\n",
      "  '0.018*\"please\" + 0.016*\"optimistic\" + 0.012*\"tyrant\"'),\n",
      " (1,\n",
      "  '0.049*\"woman\" + 0.045*\"life\" + 0.031*\"kill\" + 0.025*\"war\" + 0.024*\"human\" + '\n",
      "  '0.024*\"die\" + 0.023*\"right\" + 0.022*\"abortion\" + 0.015*\"support\" + '\n",
      "  '0.015*\"death\"'),\n",
      " (2,\n",
      "  '0.683*\"reddit\" + 0.237*\"comment\" + 0.059*\"subreddit\" + 0.003*\"pm\" + '\n",
      "  '0.000*\"submission\" + 0.000*\"question_regarde\" + 0.000*\"moderator\" + '\n",
      "  '0.000*\"redd\" + 0.000*\"explicitly\" + 0.000*\"contribution\"'),\n",
      " (3,\n",
      "  '0.516*\"speech\" + 0.044*\"flood\" + 0.038*\"downplay\" + 0.036*\"incompetence\" + '\n",
      "  '0.027*\"seizure\" + 0.026*\"partial\" + 0.025*\"calculation\" + 0.021*\"assemble\" '\n",
      "  '+ 0.020*\"falsehood\" + 0.017*\"redundant\"'),\n",
      " (4,\n",
      "  '0.061*\"say\" + 0.053*\"article\" + 0.041*\"topic\" + 0.031*\"claim\" + '\n",
      "  '0.030*\"fact\" + 0.030*\"news\" + 0.026*\"post\" + 0.025*\"comment\" + '\n",
      "  '0.024*\"source\" + 0.024*\"story\"'),\n",
      " (5,\n",
      "  '0.265*\"politic\" + 0.219*\"com\" + 0.157*\"message\" + 0.106*\"https\" + '\n",
      "  '0.076*\"thank\" + 0.049*\"article\" + 0.036*\"follow\" + 0.025*\"politics\" + '\n",
      "  '0.014*\"news\" + 0.011*\"http\"'),\n",
      " (6,\n",
      "  '0.123*\"state\" + 0.050*\"law\" + 0.046*\"vote\" + 0.035*\"government\" + '\n",
      "  '0.033*\"power\" + 0.027*\"system\" + 0.027*\"would\" + 0.019*\"citizen\" + '\n",
      "  '0.019*\"population\" + 0.017*\"federal\"'),\n",
      " (7,\n",
      "  '0.215*\"child\" + 0.194*\"kid\" + 0.099*\"parent\" + 0.071*\"immigrant\" + '\n",
      "  '0.052*\"family\" + 0.043*\"photo\" + 0.027*\"ice\" + 0.019*\"copy\" + 0.018*\"adult\" '\n",
      "  '+ 0.017*\"separate\"'),\n",
      " (8,\n",
      "  '0.054*\"vote\" + 0.037*\"support\" + 0.029*\"election\" + 0.029*\"party\" + '\n",
      "  '0.028*\"candidate\" + 0.025*\"win\" + 0.022*\"run\" + 0.021*\"policy\" + '\n",
      "  '0.020*\"democratic\" + 0.020*\"campaign\"'),\n",
      " (9,\n",
      "  '0.024*\"people\" + 0.021*\"make\" + 0.021*\"would\" + 0.019*\"go\" + 0.017*\"get\" + '\n",
      "  '0.016*\"think\" + 0.016*\"say\" + 0.013*\"know\" + 0.011*\"even\" + 0.011*\"want\"'),\n",
      " (10,\n",
      "  '0.210*\"gun\" + 0.040*\"crime\" + 0.032*\"ban\" + 0.030*\"weapon\" + '\n",
      "  '0.026*\"violence\" + 0.025*\"law\" + 0.022*\"police\" + 0.022*\"firearm\" + '\n",
      "  '0.022*\"right\" + 0.021*\"control\"'),\n",
      " (11,\n",
      "  '0.496*\"amp\" + 0.377*\"submit\" + 0.068*\"title\" + 0.013*\"contact\" + '\n",
      "  '0.005*\"appearance\" + 0.002*\"initiate\" + 0.002*\"football\" + 0.002*\"series\" + '\n",
      "  '0.002*\"mate\" + 0.002*\"oversee\"'),\n",
      " (12,\n",
      "  '0.260*\"be\" + 0.209*\"s\" + 0.052*\"can\" + 0.044*\"have\" + 0.039*\"will\" + '\n",
      "  '0.019*\"there\" + 0.018*\"question\" + 0.015*\"mistake\" + 0.014*\"megathread\" + '\n",
      "  '0.012*\"length\"'),\n",
      " (13,\n",
      "  '0.060*\"free\" + 0.056*\"participate\" + 0.052*\"however\" + 0.050*\"reason\" + '\n",
      "  '0.031*\"feel\" + 0.029*\"question\" + 0.020*\"mistake\" + 0.019*\"follow\" + '\n",
      "  '0.015*\"current\" + 0.015*\"rule\"'),\n",
      " (14,\n",
      "  '0.188*\"reporter\" + 0.071*\"possess\" + 0.063*\"guideline\" + 0.049*\"faux\" + '\n",
      "  '0.037*\"proposition\" + 0.036*\"donny\" + 0.034*\"observe\" + 0.033*\"generic\" + '\n",
      "  '0.024*\"coulter\" + 0.016*\"deregulate\"'),\n",
      " (15,\n",
      "  '0.036*\"pay\" + 0.032*\"tax\" + 0.026*\"money\" + 0.017*\"year\" + 0.015*\"taxis\" + '\n",
      "  '0.014*\"work\" + 0.013*\"government\" + 0.013*\"company\" + 0.011*\"high\" + '\n",
      "  '0.011*\"business\"'),\n",
      " (16,\n",
      "  '0.043*\"bot\" + 0.022*\"fuck\" + 0.021*\"shit\" + 0.019*\"racist\" + 0.018*\"lie\" + '\n",
      "  '0.018*\"lol\" + 0.017*\"hate\" + 0.017*\"fucking\" + 0.017*\"trump\" + '\n",
      "  '0.016*\"white\"'),\n",
      " (17,\n",
      "  '0.131*\"wall\" + 0.126*\"emergency\" + 0.108*\"border\" + 0.094*\"national\" + '\n",
      "  '0.058*\"declare\" + 0.050*\"build\" + 0.044*\"security\" + 0.029*\"precedent\" + '\n",
      "  '0.023*\"illegal\" + 0.022*\"court\"'),\n",
      " (18,\n",
      "  '0.914*\"remove\" + 0.008*\"rifle\" + 0.006*\"fringe\" + 0.006*\"disgrace\" + '\n",
      "  '0.004*\"bat\" + 0.004*\"sheep\" + 0.004*\"escalate\" + 0.003*\"colluding\" + '\n",
      "  '0.003*\"outdate\" + 0.002*\"modest\"'),\n",
      " (19,\n",
      "  '0.247*\"removal\" + 0.064*\"trump\" + 0.046*\"question\" + 0.019*\"already\" + '\n",
      "  '0.019*\"crime\" + 0.018*\"investigation\" + 0.017*\"russian\" + 0.015*\"mueller\" + '\n",
      "  '0.015*\"lie\" + 0.012*\"campaign\"')]\n"
     ]
    }
   ],
   "source": [
    "# Print the Keyword in the 10 topics\n",
    "pprint(lda_model.print_topics())\n",
    "doc_lda = lda_model[corpus]"
   ]
  },
  {
   "cell_type": "markdown",
   "metadata": {},
   "source": [
    "### Save model"
   ]
  },
  {
   "cell_type": "code",
   "execution_count": 82,
   "metadata": {},
   "outputs": [],
   "source": [
    "#from gensim.test.utils import datapath\n",
    "#temp_file = datapath(\"C:/Users/79998/Documents/\")\n",
    "#lda_model.save(temp_file)\n",
    "\n",
    "import dill\n",
    "with open(\"lda_model_2019_02.state\",'wb') as f:\n",
    "    dill.dump(lda_model,f)"
   ]
  },
  {
   "cell_type": "markdown",
   "metadata": {},
   "source": [
    "### Load model"
   ]
  },
  {
   "cell_type": "code",
   "execution_count": 1,
   "metadata": {},
   "outputs": [
    {
     "ename": "ModuleNotFoundError",
     "evalue": "No module named 'dill'",
     "output_type": "error",
     "traceback": [
      "\u001b[1;31m---------------------------------------------------------------------------\u001b[0m",
      "\u001b[1;31mModuleNotFoundError\u001b[0m                       Traceback (most recent call last)",
      "\u001b[1;32m<ipython-input-1-d5667293f9bb>\u001b[0m in \u001b[0;36m<module>\u001b[1;34m\u001b[0m\n\u001b[0;32m      1\u001b[0m \u001b[1;32mfrom\u001b[0m \u001b[0mgensim\u001b[0m \u001b[1;32mimport\u001b[0m \u001b[0mcorpora\u001b[0m\u001b[1;33m,\u001b[0m \u001b[0mmodels\u001b[0m\u001b[1;33m,\u001b[0m \u001b[0msimilarities\u001b[0m\u001b[1;33m\u001b[0m\u001b[0m\n\u001b[1;32m----> 2\u001b[1;33m \u001b[0mmodel_foo\u001b[0m \u001b[1;33m=\u001b[0m \u001b[0mmodels\u001b[0m\u001b[1;33m.\u001b[0m\u001b[0mLdaModel\u001b[0m\u001b[1;33m.\u001b[0m\u001b[0mload\u001b[0m\u001b[1;33m(\u001b[0m\u001b[1;34m\"lda_model_2019_02.state\"\u001b[0m\u001b[1;33m)\u001b[0m\u001b[1;33m\u001b[0m\u001b[0m\n\u001b[0m\u001b[0;32m      3\u001b[0m \u001b[1;32mfrom\u001b[0m \u001b[0mpprint\u001b[0m \u001b[1;32mimport\u001b[0m \u001b[0mpprint\u001b[0m\u001b[1;33m\u001b[0m\u001b[0m\n\u001b[0;32m      4\u001b[0m \u001b[0mpprint\u001b[0m\u001b[1;33m(\u001b[0m\u001b[0mmodel_foo\u001b[0m\u001b[1;33m.\u001b[0m\u001b[0mprint_topics\u001b[0m\u001b[1;33m(\u001b[0m\u001b[1;33m)\u001b[0m\u001b[1;33m)\u001b[0m\u001b[1;33m\u001b[0m\u001b[0m\n",
      "\u001b[1;32md:\\python\\python36-64\\lib\\site-packages\\gensim\\models\\ldamodel.py\u001b[0m in \u001b[0;36mload\u001b[1;34m(cls, fname, *args, **kwargs)\u001b[0m\n\u001b[0;32m   1636\u001b[0m         \"\"\"\n\u001b[0;32m   1637\u001b[0m         \u001b[0mkwargs\u001b[0m\u001b[1;33m[\u001b[0m\u001b[1;34m'mmap'\u001b[0m\u001b[1;33m]\u001b[0m \u001b[1;33m=\u001b[0m \u001b[0mkwargs\u001b[0m\u001b[1;33m.\u001b[0m\u001b[0mget\u001b[0m\u001b[1;33m(\u001b[0m\u001b[1;34m'mmap'\u001b[0m\u001b[1;33m,\u001b[0m \u001b[1;32mNone\u001b[0m\u001b[1;33m)\u001b[0m\u001b[1;33m\u001b[0m\u001b[0m\n\u001b[1;32m-> 1638\u001b[1;33m         \u001b[0mresult\u001b[0m \u001b[1;33m=\u001b[0m \u001b[0msuper\u001b[0m\u001b[1;33m(\u001b[0m\u001b[0mLdaModel\u001b[0m\u001b[1;33m,\u001b[0m \u001b[0mcls\u001b[0m\u001b[1;33m)\u001b[0m\u001b[1;33m.\u001b[0m\u001b[0mload\u001b[0m\u001b[1;33m(\u001b[0m\u001b[0mfname\u001b[0m\u001b[1;33m,\u001b[0m \u001b[1;33m*\u001b[0m\u001b[0margs\u001b[0m\u001b[1;33m,\u001b[0m \u001b[1;33m**\u001b[0m\u001b[0mkwargs\u001b[0m\u001b[1;33m)\u001b[0m\u001b[1;33m\u001b[0m\u001b[0m\n\u001b[0m\u001b[0;32m   1639\u001b[0m \u001b[1;33m\u001b[0m\u001b[0m\n\u001b[0;32m   1640\u001b[0m         \u001b[1;31m# check if `random_state` attribute has been set after main pickle load\u001b[0m\u001b[1;33m\u001b[0m\u001b[1;33m\u001b[0m\u001b[0m\n",
      "\u001b[1;32md:\\python\\python36-64\\lib\\site-packages\\gensim\\utils.py\u001b[0m in \u001b[0;36mload\u001b[1;34m(cls, fname, mmap)\u001b[0m\n\u001b[0;32m    424\u001b[0m         \u001b[0mcompress\u001b[0m\u001b[1;33m,\u001b[0m \u001b[0msubname\u001b[0m \u001b[1;33m=\u001b[0m \u001b[0mSaveLoad\u001b[0m\u001b[1;33m.\u001b[0m\u001b[0m_adapt_by_suffix\u001b[0m\u001b[1;33m(\u001b[0m\u001b[0mfname\u001b[0m\u001b[1;33m)\u001b[0m\u001b[1;33m\u001b[0m\u001b[0m\n\u001b[0;32m    425\u001b[0m \u001b[1;33m\u001b[0m\u001b[0m\n\u001b[1;32m--> 426\u001b[1;33m         \u001b[0mobj\u001b[0m \u001b[1;33m=\u001b[0m \u001b[0munpickle\u001b[0m\u001b[1;33m(\u001b[0m\u001b[0mfname\u001b[0m\u001b[1;33m)\u001b[0m\u001b[1;33m\u001b[0m\u001b[0m\n\u001b[0m\u001b[0;32m    427\u001b[0m         \u001b[0mobj\u001b[0m\u001b[1;33m.\u001b[0m\u001b[0m_load_specials\u001b[0m\u001b[1;33m(\u001b[0m\u001b[0mfname\u001b[0m\u001b[1;33m,\u001b[0m \u001b[0mmmap\u001b[0m\u001b[1;33m,\u001b[0m \u001b[0mcompress\u001b[0m\u001b[1;33m,\u001b[0m \u001b[0msubname\u001b[0m\u001b[1;33m)\u001b[0m\u001b[1;33m\u001b[0m\u001b[0m\n\u001b[0;32m    428\u001b[0m         \u001b[0mlogger\u001b[0m\u001b[1;33m.\u001b[0m\u001b[0minfo\u001b[0m\u001b[1;33m(\u001b[0m\u001b[1;34m\"loaded %s\"\u001b[0m\u001b[1;33m,\u001b[0m \u001b[0mfname\u001b[0m\u001b[1;33m)\u001b[0m\u001b[1;33m\u001b[0m\u001b[0m\n",
      "\u001b[1;32md:\\python\\python36-64\\lib\\site-packages\\gensim\\utils.py\u001b[0m in \u001b[0;36munpickle\u001b[1;34m(fname)\u001b[0m\n\u001b[0;32m   1382\u001b[0m         \u001b[1;31m# Because of loading from S3 load can't be used (missing readline in smart_open)\u001b[0m\u001b[1;33m\u001b[0m\u001b[1;33m\u001b[0m\u001b[0m\n\u001b[0;32m   1383\u001b[0m         \u001b[1;32mif\u001b[0m \u001b[0msys\u001b[0m\u001b[1;33m.\u001b[0m\u001b[0mversion_info\u001b[0m \u001b[1;33m>\u001b[0m \u001b[1;33m(\u001b[0m\u001b[1;36m3\u001b[0m\u001b[1;33m,\u001b[0m \u001b[1;36m0\u001b[0m\u001b[1;33m)\u001b[0m\u001b[1;33m:\u001b[0m\u001b[1;33m\u001b[0m\u001b[0m\n\u001b[1;32m-> 1384\u001b[1;33m             \u001b[1;32mreturn\u001b[0m \u001b[0m_pickle\u001b[0m\u001b[1;33m.\u001b[0m\u001b[0mload\u001b[0m\u001b[1;33m(\u001b[0m\u001b[0mf\u001b[0m\u001b[1;33m,\u001b[0m \u001b[0mencoding\u001b[0m\u001b[1;33m=\u001b[0m\u001b[1;34m'latin1'\u001b[0m\u001b[1;33m)\u001b[0m\u001b[1;33m\u001b[0m\u001b[0m\n\u001b[0m\u001b[0;32m   1385\u001b[0m         \u001b[1;32melse\u001b[0m\u001b[1;33m:\u001b[0m\u001b[1;33m\u001b[0m\u001b[0m\n\u001b[0;32m   1386\u001b[0m             \u001b[1;32mreturn\u001b[0m \u001b[0m_pickle\u001b[0m\u001b[1;33m.\u001b[0m\u001b[0mloads\u001b[0m\u001b[1;33m(\u001b[0m\u001b[0mf\u001b[0m\u001b[1;33m.\u001b[0m\u001b[0mread\u001b[0m\u001b[1;33m(\u001b[0m\u001b[1;33m)\u001b[0m\u001b[1;33m)\u001b[0m\u001b[1;33m\u001b[0m\u001b[0m\n",
      "\u001b[1;31mModuleNotFoundError\u001b[0m: No module named 'dill'"
     ]
    }
   ],
   "source": [
    "from gensim import corpora, models, similarities\n",
    "model_foo = models.LdaModel.load(\"lda_model_2019_02.state\")\n",
    "from pprint import pprint\n",
    "pprint(model_foo.print_topics())"
   ]
  },
  {
   "cell_type": "markdown",
   "metadata": {},
   "source": [
    "# 9. Compute Model Perplexity and Coherence Score"
   ]
  },
  {
   "cell_type": "code",
   "execution_count": 89,
   "metadata": {},
   "outputs": [
    {
     "name": "stdout",
     "output_type": "stream",
     "text": [
      "\n",
      "Perplexity:  -10.474324421768227\n",
      "\n",
      "Coherence Score:  0.42084377073517026\n"
     ]
    }
   ],
   "source": [
    "# Compute Perplexity\n",
    "print('\\nPerplexity: ', lda_model.log_perplexity(corpus))  # a measure of how good the model is. lower the better.\n",
    "\n",
    "# Compute Coherence Score\n",
    "coherence_model_lda = CoherenceModel(model=lda_model, texts=data_lemmatized, dictionary=id2word, coherence='c_v')\n",
    "coherence_lda = coherence_model_lda.get_coherence()\n",
    "print('\\nCoherence Score: ', coherence_lda)"
   ]
  },
  {
   "cell_type": "markdown",
   "metadata": {},
   "source": [
    "# 10. Visualization"
   ]
  },
  {
   "cell_type": "code",
   "execution_count": 90,
   "metadata": {},
   "outputs": [
    {
     "name": "stderr",
     "output_type": "stream",
     "text": [
      "/usr/local/lib/python3.5/dist-packages/pyLDAvis/_prepare.py:257: FutureWarning: Sorting because non-concatenation axis is not aligned. A future version\n",
      "of pandas will change to not sort by default.\n",
      "\n",
      "To accept the future behavior, pass 'sort=False'.\n",
      "\n",
      "To retain the current behavior and silence the warning, pass 'sort=True'.\n",
      "\n",
      "  return pd.concat([default_term_info] + list(topic_dfs))\n"
     ]
    },
    {
     "data": {
      "text/html": [
       "\n",
       "<link rel=\"stylesheet\" type=\"text/css\" href=\"https://cdn.rawgit.com/bmabey/pyLDAvis/files/ldavis.v1.0.0.css\">\n",
       "\n",
       "\n",
       "<div id=\"ldavis_el21881405323100768967366668332\"></div>\n",
       "<script type=\"text/javascript\">\n",
       "\n",
       "var ldavis_el21881405323100768967366668332_data = {\"tinfo\": {\"Category\": [\"Default\", \"Default\", \"Default\", \"Default\", \"Default\", \"Default\", \"Default\", \"Default\", \"Default\", \"Default\", \"Default\", \"Default\", \"Default\", \"Default\", \"Default\", \"Default\", \"Default\", \"Default\", \"Default\", \"Default\", \"Default\", \"Default\", \"Default\", \"Default\", \"Default\", \"Default\", \"Default\", \"Default\", \"Default\", \"Default\", \"Topic1\", \"Topic1\", \"Topic1\", \"Topic1\", \"Topic1\", \"Topic1\", \"Topic1\", \"Topic1\", \"Topic1\", \"Topic1\", \"Topic1\", \"Topic1\", \"Topic1\", \"Topic1\", \"Topic1\", \"Topic1\", \"Topic1\", \"Topic1\", \"Topic1\", \"Topic1\", \"Topic1\", \"Topic1\", \"Topic1\", \"Topic1\", \"Topic1\", \"Topic1\", \"Topic1\", \"Topic1\", \"Topic1\", \"Topic1\", \"Topic1\", \"Topic1\", \"Topic1\", \"Topic1\", \"Topic1\", \"Topic1\", \"Topic1\", \"Topic1\", \"Topic1\", \"Topic1\", \"Topic1\", \"Topic1\", \"Topic1\", \"Topic1\", \"Topic1\", \"Topic1\", \"Topic1\", \"Topic1\", \"Topic1\", \"Topic1\", \"Topic1\", \"Topic1\", \"Topic1\", \"Topic1\", \"Topic1\", \"Topic1\", \"Topic1\", \"Topic1\", \"Topic1\", \"Topic1\", \"Topic1\", \"Topic1\", \"Topic1\", \"Topic1\", \"Topic1\", \"Topic2\", \"Topic2\", \"Topic2\", \"Topic2\", \"Topic2\", \"Topic2\", \"Topic2\", \"Topic2\", \"Topic2\", \"Topic2\", \"Topic2\", \"Topic2\", \"Topic2\", \"Topic2\", \"Topic2\", \"Topic2\", \"Topic2\", \"Topic2\", \"Topic2\", \"Topic2\", \"Topic2\", \"Topic2\", \"Topic2\", \"Topic2\", \"Topic2\", \"Topic2\", \"Topic2\", \"Topic2\", \"Topic2\", \"Topic2\", \"Topic2\", \"Topic2\", \"Topic2\", \"Topic2\", \"Topic2\", \"Topic2\", \"Topic2\", \"Topic2\", \"Topic2\", \"Topic2\", \"Topic2\", \"Topic2\", \"Topic2\", \"Topic2\", \"Topic2\", \"Topic2\", \"Topic2\", \"Topic2\", \"Topic2\", \"Topic2\", \"Topic2\", \"Topic2\", \"Topic2\", \"Topic2\", \"Topic2\", \"Topic3\", \"Topic3\", \"Topic3\", \"Topic3\", \"Topic3\", \"Topic3\", \"Topic3\", \"Topic3\", \"Topic3\", \"Topic3\", \"Topic3\", \"Topic3\", \"Topic3\", \"Topic3\", \"Topic3\", \"Topic3\", \"Topic3\", \"Topic3\", \"Topic3\", \"Topic3\", \"Topic3\", \"Topic3\", \"Topic3\", \"Topic3\", \"Topic3\", \"Topic3\", \"Topic3\", \"Topic3\", \"Topic3\", \"Topic3\", \"Topic3\", \"Topic3\", \"Topic3\", \"Topic3\", \"Topic3\", \"Topic3\", \"Topic3\", \"Topic3\", \"Topic3\", \"Topic3\", \"Topic3\", \"Topic3\", \"Topic3\", \"Topic3\", \"Topic3\", \"Topic3\", \"Topic3\", \"Topic3\", \"Topic3\", \"Topic3\", \"Topic3\", \"Topic3\", \"Topic3\", \"Topic3\", \"Topic3\", \"Topic3\", \"Topic4\", \"Topic4\", \"Topic4\", \"Topic4\", \"Topic4\", \"Topic4\", \"Topic4\", \"Topic4\", \"Topic4\", \"Topic4\", \"Topic4\", \"Topic4\", \"Topic4\", \"Topic4\", \"Topic4\", \"Topic4\", \"Topic4\", \"Topic4\", \"Topic4\", \"Topic4\", \"Topic4\", \"Topic4\", \"Topic4\", \"Topic4\", \"Topic4\", \"Topic4\", \"Topic4\", \"Topic4\", \"Topic4\", \"Topic4\", \"Topic4\", \"Topic4\", \"Topic4\", \"Topic4\", \"Topic4\", \"Topic4\", \"Topic4\", \"Topic4\", \"Topic4\", \"Topic4\", \"Topic4\", \"Topic4\", \"Topic4\", \"Topic4\", \"Topic4\", \"Topic4\", \"Topic4\", \"Topic4\", \"Topic4\", \"Topic4\", \"Topic4\", \"Topic4\", \"Topic4\", \"Topic4\", \"Topic4\", \"Topic4\", \"Topic4\", \"Topic4\", \"Topic4\", \"Topic4\", \"Topic4\", \"Topic4\", \"Topic4\", \"Topic4\", \"Topic4\", \"Topic4\", \"Topic4\", \"Topic5\", \"Topic5\", \"Topic5\", \"Topic5\", \"Topic5\", \"Topic5\", \"Topic5\", \"Topic5\", \"Topic5\", \"Topic5\", \"Topic5\", \"Topic5\", \"Topic5\", \"Topic5\", \"Topic5\", \"Topic5\", \"Topic5\", \"Topic5\", \"Topic5\", \"Topic5\", \"Topic5\", \"Topic5\", \"Topic5\", \"Topic5\", \"Topic5\", \"Topic5\", \"Topic5\", \"Topic5\", \"Topic5\", \"Topic5\", \"Topic5\", \"Topic5\", \"Topic5\", \"Topic5\", \"Topic5\", \"Topic5\", \"Topic5\", \"Topic5\", \"Topic5\", \"Topic5\", \"Topic5\", \"Topic5\", \"Topic5\", \"Topic5\", \"Topic5\", \"Topic5\", \"Topic5\", \"Topic5\", \"Topic5\", \"Topic5\", \"Topic5\", \"Topic5\", \"Topic5\", \"Topic5\", \"Topic5\", \"Topic5\", \"Topic5\", \"Topic6\", \"Topic6\", \"Topic6\", \"Topic6\", \"Topic6\", \"Topic6\", \"Topic6\", \"Topic6\", \"Topic6\", \"Topic6\", \"Topic6\", \"Topic6\", \"Topic6\", \"Topic6\", \"Topic6\", \"Topic6\", \"Topic6\", \"Topic6\", \"Topic6\", \"Topic6\", \"Topic6\", \"Topic6\", \"Topic6\", \"Topic6\", \"Topic6\", \"Topic6\", \"Topic6\", \"Topic6\", \"Topic6\", \"Topic6\", \"Topic6\", \"Topic6\", \"Topic6\", \"Topic6\", \"Topic6\", \"Topic6\", \"Topic6\", \"Topic6\", \"Topic6\", \"Topic6\", \"Topic6\", \"Topic6\", \"Topic6\", \"Topic6\", \"Topic6\", \"Topic6\", \"Topic6\", \"Topic6\", \"Topic6\", \"Topic6\", \"Topic6\", \"Topic7\", \"Topic7\", \"Topic7\", \"Topic7\", \"Topic7\", \"Topic7\", \"Topic7\", \"Topic7\", \"Topic7\", \"Topic7\", \"Topic7\", \"Topic7\", \"Topic7\", \"Topic7\", \"Topic7\", \"Topic7\", \"Topic7\", \"Topic7\", \"Topic7\", \"Topic7\", \"Topic7\", \"Topic7\", \"Topic7\", \"Topic7\", \"Topic7\", \"Topic7\", \"Topic7\", \"Topic7\", \"Topic7\", \"Topic7\", \"Topic7\", \"Topic7\", \"Topic7\", \"Topic7\", \"Topic7\", \"Topic7\", \"Topic7\", \"Topic7\", \"Topic7\", \"Topic7\", \"Topic7\", \"Topic7\", \"Topic7\", \"Topic7\", \"Topic7\", \"Topic7\", \"Topic7\", \"Topic7\", \"Topic7\", \"Topic7\", \"Topic7\", \"Topic7\", \"Topic7\", \"Topic7\", \"Topic7\", \"Topic7\", \"Topic7\", \"Topic7\", \"Topic7\", \"Topic7\", \"Topic7\", \"Topic7\", \"Topic7\", \"Topic7\", \"Topic7\", \"Topic7\", \"Topic8\", \"Topic8\", \"Topic8\", \"Topic8\", \"Topic8\", \"Topic8\", \"Topic8\", \"Topic8\", \"Topic8\", \"Topic8\", \"Topic8\", \"Topic8\", \"Topic8\", \"Topic8\", \"Topic8\", \"Topic8\", \"Topic8\", \"Topic8\", \"Topic8\", \"Topic8\", \"Topic8\", \"Topic8\", \"Topic8\", \"Topic8\", \"Topic8\", \"Topic8\", \"Topic8\", \"Topic8\", \"Topic8\", \"Topic8\", \"Topic8\", \"Topic8\", \"Topic8\", \"Topic8\", \"Topic8\", \"Topic8\", \"Topic8\", \"Topic8\", \"Topic8\", \"Topic8\", \"Topic8\", \"Topic8\", \"Topic8\", \"Topic8\", \"Topic8\", \"Topic8\", \"Topic8\", \"Topic8\", \"Topic8\", \"Topic8\", \"Topic8\", \"Topic8\", \"Topic8\", \"Topic8\", \"Topic8\", \"Topic8\", \"Topic8\", \"Topic8\", \"Topic8\", \"Topic8\", \"Topic8\", \"Topic8\", \"Topic8\", \"Topic8\", \"Topic8\", \"Topic9\", \"Topic9\", \"Topic9\", \"Topic9\", \"Topic9\", \"Topic9\", \"Topic9\", \"Topic9\", \"Topic9\", \"Topic9\", \"Topic9\", \"Topic9\", \"Topic9\", \"Topic9\", \"Topic9\", \"Topic9\", \"Topic9\", \"Topic9\", \"Topic9\", \"Topic9\", \"Topic9\", \"Topic9\", \"Topic9\", \"Topic9\", \"Topic9\", \"Topic9\", \"Topic9\", \"Topic9\", \"Topic9\", \"Topic9\", \"Topic9\", \"Topic9\", \"Topic9\", \"Topic9\", \"Topic9\", \"Topic9\", \"Topic9\", \"Topic9\", \"Topic9\", \"Topic9\", \"Topic9\", \"Topic9\", \"Topic9\", \"Topic9\", \"Topic9\", \"Topic9\", \"Topic9\", \"Topic9\", \"Topic9\", \"Topic9\", \"Topic9\", \"Topic9\", \"Topic9\", \"Topic9\", \"Topic9\", \"Topic9\", \"Topic9\", \"Topic9\", \"Topic9\", \"Topic9\", \"Topic9\", \"Topic9\", \"Topic9\", \"Topic9\", \"Topic9\", \"Topic9\", \"Topic9\", \"Topic10\", \"Topic10\", \"Topic10\", \"Topic10\", \"Topic10\", \"Topic10\", \"Topic10\", \"Topic10\", \"Topic10\", \"Topic10\", \"Topic10\", \"Topic10\", \"Topic10\", \"Topic10\", \"Topic10\", \"Topic10\", \"Topic10\", \"Topic10\", \"Topic10\", \"Topic10\", \"Topic10\", \"Topic10\", \"Topic10\", \"Topic10\", \"Topic10\", \"Topic10\", \"Topic10\", \"Topic10\", \"Topic10\", \"Topic10\", \"Topic10\", \"Topic10\", \"Topic10\", \"Topic10\", \"Topic10\", \"Topic10\", \"Topic10\", \"Topic10\", \"Topic10\", \"Topic10\", \"Topic10\", \"Topic10\", \"Topic10\", \"Topic10\", \"Topic10\", \"Topic10\", \"Topic10\", \"Topic10\", \"Topic10\", \"Topic10\", \"Topic10\", \"Topic10\", \"Topic11\", \"Topic11\", \"Topic11\", \"Topic11\", \"Topic11\", \"Topic11\", \"Topic11\", \"Topic11\", \"Topic11\", \"Topic11\", \"Topic11\", \"Topic11\", \"Topic11\", \"Topic11\", \"Topic11\", \"Topic11\", \"Topic11\", \"Topic11\", \"Topic11\", \"Topic11\", \"Topic11\", \"Topic11\", \"Topic11\", \"Topic11\", \"Topic11\", \"Topic11\", \"Topic11\", \"Topic11\", \"Topic11\", \"Topic11\", \"Topic11\", \"Topic11\", \"Topic11\", \"Topic11\", \"Topic11\", \"Topic11\", \"Topic11\", \"Topic11\", \"Topic11\", \"Topic12\", \"Topic12\", \"Topic12\", \"Topic12\", \"Topic12\", \"Topic12\", \"Topic12\", \"Topic12\", \"Topic12\", \"Topic12\", \"Topic12\", \"Topic12\", \"Topic12\", \"Topic12\", \"Topic12\", \"Topic12\", \"Topic12\", \"Topic12\", \"Topic12\", \"Topic12\", \"Topic12\", \"Topic12\", \"Topic12\", \"Topic12\", \"Topic12\", \"Topic12\", \"Topic12\", \"Topic12\", \"Topic12\", \"Topic12\", \"Topic12\", \"Topic12\", \"Topic12\", \"Topic12\", \"Topic12\", \"Topic12\", \"Topic12\", \"Topic13\", \"Topic13\", \"Topic13\", \"Topic13\", \"Topic13\", \"Topic13\", \"Topic13\", \"Topic13\", \"Topic13\", \"Topic13\", \"Topic13\", \"Topic13\", \"Topic13\", \"Topic13\", \"Topic13\", \"Topic13\", \"Topic13\", \"Topic13\", \"Topic13\", \"Topic13\", \"Topic13\", \"Topic13\", \"Topic13\", \"Topic13\", \"Topic13\", \"Topic13\", \"Topic13\", \"Topic13\", \"Topic13\", \"Topic13\", \"Topic13\", \"Topic13\", \"Topic13\", \"Topic13\", \"Topic13\", \"Topic13\", \"Topic13\", \"Topic13\", \"Topic13\", \"Topic13\", \"Topic13\", \"Topic13\", \"Topic13\", \"Topic13\", \"Topic13\", \"Topic13\", \"Topic13\", \"Topic13\", \"Topic13\", \"Topic13\", \"Topic13\", \"Topic14\", \"Topic14\", \"Topic14\", \"Topic14\", \"Topic14\", \"Topic14\", \"Topic14\", \"Topic14\", \"Topic14\", \"Topic14\", \"Topic14\", \"Topic14\", \"Topic14\", \"Topic14\", \"Topic14\", \"Topic14\", \"Topic14\", \"Topic14\", \"Topic14\", \"Topic14\", \"Topic14\", \"Topic14\", \"Topic14\", \"Topic14\", \"Topic14\", \"Topic14\", \"Topic14\", \"Topic14\", \"Topic14\", \"Topic14\", \"Topic15\", \"Topic15\", \"Topic15\", \"Topic15\", \"Topic15\", \"Topic15\", \"Topic15\", \"Topic15\", \"Topic15\", \"Topic15\", \"Topic15\", \"Topic15\", \"Topic15\", \"Topic15\", \"Topic15\", \"Topic15\", \"Topic15\", \"Topic15\", \"Topic15\", \"Topic15\", \"Topic15\", \"Topic15\", \"Topic15\", \"Topic15\", \"Topic15\", \"Topic15\", \"Topic15\", \"Topic15\", \"Topic15\", \"Topic15\", \"Topic15\", \"Topic15\", \"Topic15\", \"Topic15\", \"Topic15\", \"Topic16\", \"Topic16\", \"Topic16\", \"Topic16\", \"Topic16\", \"Topic16\", \"Topic16\", \"Topic16\", \"Topic16\", \"Topic16\", \"Topic16\", \"Topic16\", \"Topic16\", \"Topic16\", \"Topic16\", \"Topic16\", \"Topic16\", \"Topic16\", \"Topic16\", \"Topic16\", \"Topic16\", \"Topic16\", \"Topic16\", \"Topic16\", \"Topic16\", \"Topic16\", \"Topic16\", \"Topic16\", \"Topic16\", \"Topic16\", \"Topic17\", \"Topic17\", \"Topic17\", \"Topic17\", \"Topic17\", \"Topic17\", \"Topic17\", \"Topic17\", \"Topic17\", \"Topic17\", \"Topic17\", \"Topic17\", \"Topic17\", \"Topic17\", \"Topic17\", \"Topic17\", \"Topic17\", \"Topic17\", \"Topic17\", \"Topic17\", \"Topic17\", \"Topic17\", \"Topic17\", \"Topic17\", \"Topic17\", \"Topic17\", \"Topic17\", \"Topic17\", \"Topic17\", \"Topic17\", \"Topic18\", \"Topic18\", \"Topic18\", \"Topic18\", \"Topic18\", \"Topic18\", \"Topic18\", \"Topic18\", \"Topic18\", \"Topic18\", \"Topic18\", \"Topic18\", \"Topic18\", \"Topic18\", \"Topic18\", \"Topic18\", \"Topic18\", \"Topic18\", \"Topic18\", \"Topic18\", \"Topic18\", \"Topic18\", \"Topic18\", \"Topic18\", \"Topic18\", \"Topic18\", \"Topic18\", \"Topic18\", \"Topic18\", \"Topic18\", \"Topic19\", \"Topic19\", \"Topic19\", \"Topic19\", \"Topic19\", \"Topic19\", \"Topic19\", \"Topic19\", \"Topic19\", \"Topic19\", \"Topic19\", \"Topic19\", \"Topic19\", \"Topic19\", \"Topic19\", \"Topic19\", \"Topic19\", \"Topic19\", \"Topic19\", \"Topic19\", \"Topic19\", \"Topic19\", \"Topic19\", \"Topic19\", \"Topic19\", \"Topic19\", \"Topic19\", \"Topic19\", \"Topic19\", \"Topic19\", \"Topic19\", \"Topic19\", \"Topic19\", \"Topic19\", \"Topic19\", \"Topic19\", \"Topic19\", \"Topic19\", \"Topic19\", \"Topic19\", \"Topic19\", \"Topic19\", \"Topic19\", \"Topic19\", \"Topic19\", \"Topic19\", \"Topic19\", \"Topic19\", \"Topic19\", \"Topic19\", \"Topic19\", \"Topic19\", \"Topic19\", \"Topic19\", \"Topic20\", \"Topic20\", \"Topic20\", \"Topic20\", \"Topic20\", \"Topic20\", \"Topic20\", \"Topic20\", \"Topic20\", \"Topic20\", \"Topic20\", \"Topic20\", \"Topic20\", \"Topic20\", \"Topic20\", \"Topic20\", \"Topic20\", \"Topic20\", \"Topic20\", \"Topic20\", \"Topic20\", \"Topic20\", \"Topic20\", \"Topic20\", \"Topic20\", \"Topic20\", \"Topic20\", \"Topic20\", \"Topic20\", \"Topic20\", \"Topic20\", \"Topic20\", \"Topic20\", \"Topic20\", \"Topic20\", \"Topic20\", \"Topic20\", \"Topic20\", \"Topic20\", \"Topic20\", \"Topic20\", \"Topic20\", \"Topic20\", \"Topic20\", \"Topic20\", \"Topic20\", \"Topic20\", \"Topic20\", \"Topic20\", \"Topic20\", \"Topic20\", \"Topic20\", \"Topic20\", \"Topic20\"], \"Freq\": [301423.0, 184031.0, 249025.0, 241845.0, 278722.0, 147411.0, 95324.0, 319194.0, 219625.0, 89234.0, 102136.0, 63673.0, 142519.0, 123948.0, 122649.0, 119817.0, 76432.0, 155774.0, 60677.0, 72004.0, 94379.0, 48488.0, 88847.0, 126647.0, 94112.0, 79006.0, 99083.0, 45552.0, 117998.0, 70593.0, 248119.390625, 217903.0625, 138179.8125, 118305.8671875, 97317.375, 96913.890625, 85654.5546875, 64343.1953125, 54221.1328125, 49793.7890625, 49594.5625, 47477.0078125, 46039.02734375, 40831.41015625, 39629.35546875, 39127.12109375, 37662.15625, 37734.015625, 37248.046875, 31985.326171875, 28985.51171875, 28401.78515625, 27346.291015625, 26594.443359375, 26132.4296875, 25388.68359375, 25314.615234375, 25187.05078125, 23945.552734375, 23017.888671875, 221985.953125, 177152.046875, 141750.46875, 146633.984375, 90878.5, 76217.15625, 82654.1875, 70541.1640625, 75401.4375, 60380.7421875, 41742.02734375, 41190.57421875, 88779.671875, 101031.4921875, 58030.1171875, 146689.03125, 49462.15625, 322097.21875, 279661.5625, 85747.9921875, 86699.8671875, 279002.28125, 90144.328125, 59092.578125, 102554.703125, 99552.6875, 102568.3984375, 110721.1796875, 210534.515625, 96110.625, 114433.2109375, 110783.6953125, 95819.2265625, 103643.6328125, 93886.171875, 99082.4765625, 87587.875, 40503.5625, 35292.06640625, 26184.427734375, 22245.603515625, 20363.970703125, 18949.736328125, 18262.59765625, 15347.318359375, 15246.669921875, 14444.37109375, 14312.3671875, 13187.529296875, 12260.0947265625, 11984.556640625, 12002.1015625, 11647.3330078125, 10621.40234375, 10115.458984375, 9806.361328125, 9634.322265625, 7980.63134765625, 7512.8955078125, 7337.84912109375, 6392.7744140625, 6216.669921875, 6140.54150390625, 5965.45458984375, 5899.23876953125, 21471.5546875, 8548.1494140625, 29198.025390625, 12030.8759765625, 71731.96875, 11058.171875, 17555.8828125, 20835.15234375, 25323.79296875, 30158.017578125, 16812.390625, 14851.9111328125, 35917.2109375, 28514.1953125, 48024.6640625, 18013.92578125, 37181.27734375, 15377.15234375, 17838.025390625, 19925.73046875, 16179.7939453125, 27363.046875, 23671.4140625, 17627.607421875, 15377.8671875, 94111.78125, 40260.59765625, 38198.2265625, 37139.87109375, 36582.5, 33901.93359375, 33254.75, 21938.1484375, 16198.4013671875, 13422.0498046875, 13157.7060546875, 12419.2841796875, 7311.1171875, 7177.498046875, 6972.53076171875, 6205.46533203125, 5672.69287109375, 5638.23046875, 5420.275390625, 5151.501953125, 4967.74755859375, 4849.94189453125, 4536.15625, 4315.68603515625, 4273.0078125, 4213.36572265625, 4205.51708984375, 4179.29345703125, 4094.177490234375, 4041.77978515625, 6536.228515625, 47563.47265625, 10268.861328125, 13322.28515625, 46066.640625, 7382.93896484375, 10600.9755859375, 38896.421875, 13572.0791015625, 22207.037109375, 18964.29296875, 16078.0654296875, 27223.7265625, 9651.001953125, 11812.7421875, 11795.6953125, 11298.1728515625, 24451.033203125, 36010.30859375, 17941.77734375, 19243.1796875, 14348.5283203125, 16945.6796875, 14109.5703125, 12158.6162109375, 11878.8212890625, 94378.484375, 16479.283203125, 14533.7158203125, 12648.068359375, 8641.4208984375, 4883.63720703125, 4340.8623046875, 3677.752197265625, 3673.4736328125, 3497.44970703125, 3186.52880859375, 2924.7392578125, 2760.735595703125, 2649.27294921875, 2220.3046875, 2100.024169921875, 1961.2974853515625, 1956.457763671875, 1885.0611572265625, 1853.6837158203125, 1814.3079833984375, 1652.0927734375, 1588.25927734375, 1479.85546875, 1450.4146728515625, 1439.102783203125, 1424.4488525390625, 1308.1429443359375, 1305.698974609375, 1230.392333984375, 87433.7578125, 19048.06640625, 101350.6796875, 3033.997314453125, 11712.326171875, 25598.56640625, 2963.579345703125, 84376.4453125, 2487.166748046875, 24460.90234375, 2873.80322265625, 11735.7431640625, 5048.0517578125, 4109.669921875, 5104.24072265625, 11704.4697265625, 13130.181640625, 33858.859375, 32608.30859375, 48888.5, 20241.751953125, 52129.84375, 13074.5732421875, 14886.3203125, 9022.7119140625, 5221.974609375, 21860.240234375, 7458.29638671875, 9735.8359375, 14852.3271484375, 7008.08984375, 17805.095703125, 7067.22705078125, 9016.0458984375, 8445.7890625, 8554.7744140625, 8728.7138671875, 45643.58984375, 43530.07421875, 31706.7890625, 27051.3125, 20547.732421875, 19463.77734375, 10406.27734375, 9272.9111328125, 8214.0615234375, 6843.1015625, 6600.197265625, 6297.50537109375, 5762.37890625, 5489.81640625, 4348.921875, 4205.47900390625, 4079.156982421875, 3980.613525390625, 3591.321533203125, 3311.728515625, 2941.5224609375, 2919.9638671875, 2687.3701171875, 2412.046630859375, 2306.8193359375, 2080.83544921875, 1991.2496337890625, 1664.9869384765625, 1626.94873046875, 1559.239013671875, 39678.12890625, 28993.931640625, 2528.17578125, 5038.2958984375, 58212.3828125, 22712.27734375, 5483.76806640625, 46417.0703125, 33061.98828125, 16101.2998046875, 85304.234375, 30717.744140625, 35104.08203125, 6934.97216796875, 10304.140625, 17940.3515625, 19157.794921875, 18526.27734375, 13395.9375, 19119.478515625, 7926.72119140625, 14284.7978515625, 15233.3779296875, 24840.671875, 9793.029296875, 10516.1982421875, 8621.8662109375, 301422.71875, 241845.0625, 50378.1796875, 45692.59765625, 22212.14453125, 16670.1953125, 11570.587890625, 3921.30859375, 3894.60546875, 3407.418701171875, 2420.6103515625, 2242.808837890625, 2158.531982421875, 2152.59326171875, 1865.750244140625, 1807.3128662109375, 1795.3101806640625, 1719.5220947265625, 1615.1982421875, 1602.8079833984375, 1545.3980712890625, 1510.939453125, 1419.761962890625, 1396.8822021484375, 1301.3773193359375, 1297.9464111328125, 1291.6544189453125, 1278.539794921875, 1204.9794921875, 1183.3560791015625, 13812.3564453125, 5154.83935546875, 59767.921875, 13866.15625, 1571.638916015625, 16794.353515625, 21146.380859375, 2647.050537109375, 3008.804443359375, 1887.7760009765625, 3216.780029296875, 3771.26708984375, 4583.234375, 2469.84423828125, 2307.84375, 4020.7587890625, 2799.587646484375, 2787.669921875, 3174.98681640625, 2323.274169921875, 2370.78466796875, 27244.41796875, 24832.701171875, 9713.859375, 7829.2392578125, 5889.35400390625, 5520.85302734375, 5276.22021484375, 4804.181640625, 4752.7021484375, 4345.4482421875, 4707.376953125, 3477.191162109375, 3241.611572265625, 2843.162353515625, 2606.67578125, 2084.65087890625, 1868.5814208984375, 1612.23779296875, 1556.6302490234375, 1405.0841064453125, 1391.1807861328125, 1238.0675048828125, 1198.2501220703125, 1106.942626953125, 1094.43115234375, 1081.3868408203125, 970.9527587890625, 941.2808227539062, 867.8787841796875, 825.8211059570312, 35190.41796875, 7833.1025390625, 17677.181640625, 29389.958984375, 15190.8505859375, 8487.8310546875, 13324.314453125, 8360.6162109375, 5208.9453125, 45636.5390625, 26605.150390625, 8534.755859375, 3127.899658203125, 59167.6796875, 5542.8564453125, 20321.900390625, 19401.091796875, 17580.345703125, 24432.46484375, 33153.3515625, 33708.6015625, 7171.36328125, 12577.51953125, 13105.8212890625, 27481.103515625, 68181.5, 13502.291015625, 9608.4287109375, 20144.388671875, 12692.8544921875, 11403.24609375, 9502.49609375, 11092.16796875, 10536.4794921875, 9550.8818359375, 9611.119140625, 249024.46875, 17681.21875, 15197.2021484375, 6644.76953125, 5842.61474609375, 5417.97607421875, 4966.30712890625, 4748.99560546875, 4061.1953125, 4038.633056640625, 3849.663818359375, 3060.34375, 2988.458740234375, 2901.06884765625, 2360.656494140625, 2333.24609375, 1885.227783203125, 1822.8310546875, 1810.487548828125, 1731.2210693359375, 1694.029541015625, 1496.8614501953125, 1476.0421142578125, 1251.68994140625, 1208.3367919921875, 1175.28466796875, 1042.3992919921875, 1019.3959350585938, 996.6348876953125, 881.3256225585938, 3738.10791015625, 3782.2890625, 3812.92578125, 4246.38427734375, 17630.9296875, 6468.0869140625, 2986.268798828125, 7295.51904296875, 2889.35791015625, 3140.535888671875, 11601.5078125, 18749.205078125, 9976.0615234375, 4908.22900390625, 46104.2578125, 64365.87890625, 11705.3515625, 6999.64013671875, 7014.35986328125, 4860.541015625, 4246.36279296875, 14916.892578125, 6227.03955078125, 11830.6181640625, 19003.61328125, 5247.7216796875, 6034.03466796875, 6984.21484375, 4894.62109375, 5451.90673828125, 7271.66748046875, 7512.78076171875, 6507.1552734375, 6989.40869140625, 6252.18408203125, 102135.65625, 11086.521484375, 9983.3583984375, 6038.12548828125, 3798.6328125, 3720.108154296875, 3642.145751953125, 3369.71533203125, 2388.655029296875, 2020.9617919921875, 1969.7198486328125, 1913.6934814453125, 1721.1385498046875, 1672.045166015625, 1380.42822265625, 1225.133544921875, 1200.287109375, 945.5185546875, 933.7421264648438, 767.5620727539062, 595.0897827148438, 537.7623291015625, 487.9630126953125, 458.3818359375, 395.11944580078125, 380.08349609375, 338.8324890136719, 315.3434143066406, 311.37615966796875, 306.1491394042969, 4199.078125, 1999.5635986328125, 15616.8291015625, 7578.90185546875, 5810.50244140625, 4809.6728515625, 15742.5615234375, 1533.9320068359375, 41828.0625, 13832.6025390625, 11674.8759765625, 2731.47998046875, 5756.48046875, 14512.4873046875, 27569.759765625, 22799.78125, 5061.9892578125, 7374.69580078125, 29278.365234375, 11291.1376953125, 8582.537109375, 7095.3046875, 38643.41796875, 5919.94970703125, 8408.7421875, 7582.39501953125, 9668.53125, 5756.3447265625, 7678.3583984375, 22563.466796875, 7565.173828125, 12508.2021484375, 7376.08056640625, 8200.5224609375, 6978.08984375, 8210.591796875, 6714.5419921875, 35166.75390625, 17333.65625, 15755.240234375, 10679.0791015625, 7849.60888671875, 7017.6201171875, 6986.25634765625, 6923.29150390625, 6924.43603515625, 6700.45361328125, 6625.482421875, 6604.52001953125, 6059.3505859375, 5015.48193359375, 4908.0361328125, 4209.5537109375, 4082.187255859375, 4019.135009765625, 2834.708740234375, 2808.31298828125, 2710.326171875, 2622.40478515625, 2574.718505859375, 1968.2088623046875, 1886.159912109375, 1774.42041015625, 1770.9930419921875, 1743.035888671875, 1606.306884765625, 5339.13037109375, 9822.4560546875, 3451.419189453125, 3620.075927734375, 22248.9375, 32418.384765625, 10356.19140625, 17256.990234375, 5228.1865234375, 6747.1552734375, 10886.767578125, 5014.09619140625, 18002.46484375, 7416.982421875, 10726.8955078125, 7745.85546875, 5668.35107421875, 6339.169921875, 16648.943359375, 11122.71875, 6330.35107421875, 6127.8017578125, 6417.8828125, 89233.953125, 43366.53125, 4557.2998046875, 2981.707275390625, 1484.0682373046875, 1324.3001708984375, 1186.2947998046875, 713.042724609375, 637.9786987304688, 629.107177734375, 612.2966918945312, 405.46600341796875, 396.59783935546875, 310.95404052734375, 285.08502197265625, 264.8736572265625, 191.89093017578125, 176.3983917236328, 170.11474609375, 129.64471435546875, 119.88308715820312, 107.86214447021484, 105.25366973876953, 99.68716430664062, 94.96366119384766, 55.9577751159668, 11.020316123962402, 63929.203125, 10378.791015625, 107937.328125, 30876.046875, 19837.466796875, 14639.982421875, 5737.86865234375, 1497.0789794921875, 652.1425170898438, 602.9224243164062, 228.95965576171875, 185.0438690185547, 28452.033203125, 27444.40234375, 23568.962890625, 12710.5771484375, 6251.400390625, 4234.44970703125, 2168.929931640625, 2123.770751953125, 1841.0084228515625, 934.324951171875, 400.6537170410156, 364.17388916015625, 267.0458984375, 20545.951171875, 3135.111328125, 3783.868896484375, 9634.154296875, 2945.62060546875, 622.4766235351562, 10889.322265625, 818.8973999023438, 1706.5675048828125, 2199.39990234375, 2625.52587890625, 1250.541015625, 4898.12109375, 2229.194091796875, 851.099365234375, 796.2026977539062, 5091.56005859375, 4048.319091796875, 1738.8377685546875, 4003.90234375, 1639.4466552734375, 1196.83056640625, 986.0386962890625, 1111.59521484375, 45551.84765625, 6611.48388671875, 4727.8681640625, 3168.892578125, 2974.72119140625, 2538.8916015625, 1918.8265380859375, 1098.1883544921875, 831.9830932617188, 690.6680908203125, 668.9002685546875, 633.5441284179688, 612.0657348632812, 522.630126953125, 502.2043762207031, 466.66143798828125, 431.8446960449219, 395.5805358886719, 381.2072448730469, 243.41064453125, 213.44989013671875, 201.11477661132812, 187.123046875, 120.1468276977539, 117.92369079589844, 4644.7431640625, 1468.1016845703125, 365.70440673828125, 933.0798950195312, 5648.4453125, 6934.36083984375, 4881.109375, 4120.525390625, 3997.6142578125, 8783.9365234375, 1709.988525390625, 1888.55224609375, 4672.41748046875, 2799.36328125, 5471.12109375, 2464.700439453125, 2245.10546875, 1485.4122314453125, 2788.663818359375, 1713.362060546875, 2349.6279296875, 4705.2333984375, 1453.9501953125, 1564.765869140625, 1798.798095703125, 1573.4852294921875, 184030.984375, 1561.5379638671875, 1283.2470703125, 1136.860107421875, 851.9340209960938, 765.127685546875, 706.1614379882812, 601.3877563476562, 553.0414428710938, 356.1217041015625, 330.82177734375, 267.7013854980469, 0.07495727390050888, 0.0722419023513794, 0.07114333659410477, 0.06965585798025131, 0.06960178166627884, 0.06954449415206909, 0.06949980556964874, 0.06946366280317307, 0.06946387887001038, 0.06946194916963577, 0.06946200132369995, 0.06935928016901016, 0.06935945153236389, 0.06933966279029846, 0.06933747977018356, 0.06933750957250595, 0.0693376287817955, 0.06933469325304031, 27210.724609375, 13888.86328125, 9943.302734375, 6075.88330078125, 3766.905029296875, 2648.997802734375, 2346.27734375, 2066.619873046875, 1679.7113037109375, 1666.465087890625, 1602.32080078125, 1518.8687744140625, 1426.7991943359375, 1419.9820556640625, 1319.9404296875, 1163.8306884765625, 970.4176025390625, 938.5568237304688, 836.4736328125, 824.7293090820312, 816.3406982421875, 758.4662475585938, 668.9942016601562, 631.9183959960938, 571.0882568359375, 544.8321533203125, 377.774169921875, 374.7918395996094, 362.7981872558594, 315.606689453125, 30232.654296875, 2532.412841796875, 7266.7080078125, 2422.490966796875, 788.8414306640625, 95323.6640625, 8239.6376953125, 367.9213562011719, 33110.78125, 0.022302987053990364, 0.020505888387560844, 0.019937051460146904, 0.01919221691787243, 0.019166842103004456, 0.019137606024742126, 0.01911625638604164, 0.019098207354545593, 0.019098356366157532, 0.01909743808209896, 0.0190974660217762, 0.01904701441526413, 0.01904696226119995, 0.019037356600165367, 0.01903628557920456, 0.019036268815398216, 0.019036289304494858, 0.01903490163385868, 0.01903470791876316, 0.01903420500457287, 0.01903420500457287, 0.019034210592508316, 0.01903408393263817, 0.01903383433818817, 0.019033756107091904, 0.01903371512889862, 63672.7890625, 48487.59765625, 8766.27734375, 1615.469482421875, 578.66650390625, 313.1429138183594, 298.6141052246094, 290.16986083984375, 259.2001953125, 253.29954528808594, 227.5382843017578, 207.37339782714844, 193.31666564941406, 182.98483276367188, 169.74046325683594, 167.718017578125, 146.0118408203125, 128.4970703125, 91.73185729980469, 86.17546081542969, 83.98217010498047, 62.98353958129883, 57.75192642211914, 46.70428466796875, 41.38941955566406, 30.643342971801758, 0.017637701705098152, 0.01670609414577484, 0.01633201539516449, 0.015825863927602768, 17424.017578125, 4817.490234375, 3041.87060546875, 2406.978515625, 2295.6572265625, 1543.3388671875, 1170.7474365234375, 1036.2503662109375, 772.3773803710938, 760.4918823242188, 750.9609375, 736.2723388671875, 733.7805786132812, 729.546630859375, 690.2922973632812, 644.2849731445312, 632.8525390625, 630.13671875, 620.2517700195312, 610.4065551757812, 603.7886352539062, 533.0576782226562, 532.4810791015625, 520.4494018554688, 478.489501953125, 419.51409912109375, 322.4576110839844, 249.4473876953125, 244.15753173828125, 11416.310546875, 31305.736328125, 2689.658935546875, 2281.258056640625, 2182.12939453125, 1625.392333984375, 1581.98095703125, 1521.720947265625, 1298.5172119140625, 1191.6424560546875, 1006.9803466796875, 0.1091851070523262, 0.10918308049440384, 0.10918144136667252, 0.10917935520410538, 0.10917936265468597, 0.10917911678552628, 0.10917925834655762, 0.10918022692203522, 0.10917925834655762, 0.10917948186397552, 0.1091817244887352, 0.1091776117682457, 0.10917799919843674, 0.10917740315198898, 0.10917698591947556, 0.10917689651250839, 0.10917689651250839, 0.10917695611715317, 0.10917689651250839, 0.10917689651250839, 0.10917689651250839, 0.10917690396308899, 0.10917689651250839, 0.10917690396308899, 0.10917689651250839, 0.10917726904153824, 0.10917849838733673, 0.10917835682630539, 0.1091771274805069, 0.10917720198631287, 0.1091785579919815, 0.10917717963457108, 0.10917849838733673, 0.1091771349310875, 0.10917843878269196, 0.10917846858501434, 0.1091781035065651, 0.10918404161930084, 0.10926729440689087, 0.10922326147556305, 0.10920566320419312, 0.1091805025935173, 0.10918033868074417, 0.10917891561985016, 2649.26416015625, 999.0022583007812, 890.1768798828125, 683.61865234375, 526.2828979492188, 509.7925720214844, 484.7202453613281, 460.18994140625, 344.25225830078125, 226.17361450195312, 139.28347778320312, 138.0010528564453, 0.04681893065571785, 0.04681796953082085, 0.04681786894798279, 0.04681779816746712, 0.04681767523288727, 0.046817656606435776, 0.04681768640875816, 0.0468176007270813, 0.04681793227791786, 0.04681772366166115, 0.04681766405701637, 0.04681788757443428, 0.04681824520230293, 0.046817801892757416, 0.04681762680411339, 0.046817582100629807, 0.0468178391456604, 0.0468176044523716, 0.046817757189273834, 0.04681827872991562, 0.046817898750305176, 0.04681806638836861, 0.046818021684885025, 0.04681781306862831, 0.04681805148720741, 0.04681773856282234, 0.046818144619464874, 0.04681801050901413, 0.04681820049881935, 0.04681817814707756, 0.04681815207004547, 0.04681834578514099, 0.046817999333143234, 0.046817995607852936, 0.04681790992617607, 0.04681802913546562, 0.04681794345378876, 0.04681877791881561, 0.04683027043938637, 0.046823639422655106, 0.04682141914963722, 0.046818144619464874], \"Term\": [\"be\", \"remove\", \"removal\", \"s\", \"say\", \"politic\", \"reddit\", \"would\", \"trump\", \"com\", \"state\", \"amp\", \"right\", \"vote\", \"reason\", \"free\", \"thank\", \"feel\", \"comment\", \"message\", \"participate\", \"submit\", \"however\", \"question\", \"bot\", \"article\", \"pay\", \"gun\", \"already\", \"can\", \"go\", \"think\", \"thing\", \"good\", \"really\", \"way\", \"still\", \"happen\", \"keep\", \"day\", \"seem\", \"first\", \"start\", \"long\", \"probably\", \"do\", \"great\", \"maybe\", \"always\", \"hard\", \"whole\", \"hope\", \"little\", \"exactly\", \"bring\", \"wait\", \"kind\", \"next\", \"away\", \"line\", \"get\", \"know\", \"time\", \"want\", \"try\", \"actually\", \"look\", \"never\", \"bad\", \"let\", \"agree\", \"pretty\", \"point\", \"could\", \"talk\", \"even\", \"back\", \"people\", \"make\", \"come\", \"well\", \"would\", \"mean\", \"sure\", \"give\", \"much\", \"take\", \"need\", \"say\", \"last\", \"see\", \"right\", \"already\", \"feel\", \"trump\", \"pay\", \"tax\", \"taxis\", \"company\", \"cost\", \"income\", \"increase\", \"dollar\", \"economy\", \"worker\", \"market\", \"profit\", \"wealth\", \"debt\", \"price\", \"insurance\", \"wage\", \"employee\", \"healthcare\", \"wealthy\", \"industry\", \"corporation\", \"loan\", \"stock\", \"earn\", \"expensive\", \"investment\", \"invest\", \"labor\", \"spending\", \"rate\", \"afford\", \"business\", \"program\", \"money\", \"service\", \"benefit\", \"low\", \"rich\", \"high\", \"cut\", \"private\", \"government\", \"job\", \"year\", \"spend\", \"work\", \"amount\", \"cap\", \"less\", \"buy\", \"people\", \"make\", \"would\", \"system\", \"bot\", \"racist\", \"lol\", \"hate\", \"fucking\", \"white\", \"black\", \"bullshit\", \"dude\", \"racism\", \"joke\", \"idiot\", \"headline\", \"downvote\", \"fascist\", \"moron\", \"gay\", \"garbage\", \"color\", \"insult\", \"literal\", \"outrage\", \"hypocrisy\", \"welcome\", \"meme\", \"shock\", \"delete\", \"actor\", \"operation\", \"fellow\", \"ignorant\", \"fuck\", \"corrupt\", \"propaganda\", \"shit\", \"wear\", \"pretend\", \"lie\", \"truth\", \"conservative\", \"stupid\", \"liberal\", \"man\", \"piece\", \"fake\", \"wing\", \"dumb\", \"call\", \"trump\", \"guy\", \"see\", \"news\", \"politic\", \"mistake\", \"republican\", \"love\", \"participate\", \"nature\", \"socialist\", \"socialism\", \"capitalism\", \"ideology\", \"publish\", \"capitalist\", \"union\", \"lobby\", \"establish\", \"approach\", \"institution\", \"global\", \"analysis\", \"entity\", \"climate_change\", \"authoritarian\", \"inherently\", \"racial\", \"merely\", \"pursue\", \"historical\", \"meaningful\", \"domestic\", \"merit\", \"region\", \"solely\", \"european\", \"distinction\", \"however\", \"community\", \"free\", \"define\", \"feature\", \"current\", \"principle\", \"reason\", \"perspective\", \"rule\", \"intend\", \"apply\", \"organization\", \"advocate\", \"definition\", \"social\", \"group\", \"mistake\", \"follow\", \"question\", \"political\", \"feel\", \"currently\", \"due\", \"action\", \"contain\", \"may\", \"exact\", \"example\", \"use\", \"form\", \"politic\", \"result\", \"actual\", \"single\", \"must\", \"idea\", \"party\", \"candidate\", \"democratic\", \"sander\", \"progressive\", \"primary\", \"poll\", \"bernie\", \"independent\", \"platform\", \"moderate\", \"democrat\", \"dnc\", \"donor\", \"centrist\", \"endorse\", \"nomination\", \"rig\", \"nominee\", \"nominate\", \"divisive\", \"biden\", \"smear\", \"legislature\", \"mainstream\", \"unpopular\", \"polling\", \"weekend\", \"disqualify\", \"electorate\", \"win\", \"voter\", \"midterm\", \"opponent\", \"support\", \"dem\", \"announce\", \"election\", \"policy\", \"select\", \"vote\", \"campaign\", \"run\", \"seat\", \"general\", \"politician\", \"republican\", \"lose\", \"supporter\", \"issue\", \"presidential\", \"political\", \"leave\", \"trump\", \"elect\", \"conservative\", \"push\", \"be\", \"s\", \"have\", \"will\", \"there\", \"megathread\", \"ill\", \"leadership\", \"whitaker\", \"safety\", \"meadow\", \"shake\", \"biased\", \"someone\", \"consent\", \"cumming\", \"hannity\", \"separation\", \"yield\", \"angle\", \"famous\", \"spew\", \"briefing\", \"magically\", \"sky\", \"shell\", \"calm\", \"contempt\", \"terrify\", \"redact\", \"should\", \"here\", \"can\", \"length\", \"everyone\", \"mistake\", \"question\", \"letter\", \"aware\", \"youtube\", \"judge\", \"hell\", \"gt\", \"hearing\", \"entirely\", \"lie\", \"clearly\", \"answer\", \"already\", \"truth\", \"message\", \"source\", \"opinion\", \"false\", \"sub\", \"bias\", \"native\", \"website\", \"quote\", \"accusation\", \"conclusion\", \"reference\", \"op\", \"disingenuous\", \"search\", \"whataboutism\", \"dad\", \"allegedly\", \"refute\", \"trail\", \"reporting\", \"heritage\", \"assertion\", \"buzzfeed\", \"professor\", \"reasoning\", \"debunk\", \"baseless\", \"dick\", \"fabricate\", \"ancestor\", \"claim\", \"respond\", \"statement\", \"post\", \"link\", \"thread\", \"video\", \"refer\", \"site\", \"topic\", \"story\", \"proof\", \"text\", \"article\", \"relevant\", \"evidence\", \"argument\", \"discuss\", \"read\", \"news\", \"fact\", \"context\", \"information\", \"prove\", \"comment\", \"say\", \"gt\", \"clearly\", \"find\", \"attack\", \"report\", \"argue\", \"medium\", \"write\", \"provide\", \"show\", \"removal\", \"investigation\", \"mueller\", \"collusion\", \"investigate\", \"testimony\", \"impeach\", \"attorney\", \"indictment\", \"indict\", \"impeachment\", \"violation\", \"treason\", \"subpoena\", \"foxnews\", \"testify\", \"manafort\", \"probe\", \"oath\", \"obstruction\", \"collude\", \"wikileak\", \"investigator\", \"spy\", \"operative\", \"implicate\", \"adviser\", \"putin\", \"inauguration\", \"seal\", \"convict\", \"prosecutor\", \"agent\", \"stone\", \"russian\", \"fraud\", \"witness\", \"lawyer\", \"leak\", \"committee\", \"charge\", \"crime\", \"criminal\", \"email\", \"question\", \"trump\", \"report\", \"release\", \"commit\", \"conspiracy\", \"intelligence\", \"lie\", \"official\", \"campaign\", \"already\", \"judge\", \"court\", \"evidence\", \"former\", \"prison\", \"president\", \"find\", \"case\", \"last\", \"follow\", \"state\", \"immigration\", \"representative\", \"ballot\", \"electoral\", \"representation\", \"ca\", \"forever\", \"gerrymander\", \"port\", \"tyranny\", \"elector\", \"illegal_immigrant\", \"delusional\", \"founder\", \"wyome\", \"circumvent\", \"gerrymandering\", \"provision\", \"undocumented\", \"sovereignty\", \"th_amendment\", \"electoral_college\", \"compact\", \"firing\", \"since\", \"predominantly\", \"bitching\", \"yearbook\", \"gaming\", \"enforce\", \"mandate\", \"population\", \"constitution\", \"requirement\", \"illegally\", \"citizen\", \"restrict\", \"law\", \"democracy\", \"majority\", \"shall\", \"district\", \"federal\", \"power\", \"system\", \"equal\", \"represent\", \"government\", \"legal\", \"process\", \"city\", \"vote\", \"count\", \"require\", \"popular\", \"allow\", \"prevent\", \"pass\", \"would\", \"illegal\", \"country\", \"small\", \"rule\", \"decide\", \"election\", \"number\", \"woman\", \"human\", \"abortion\", \"baby\", \"jewish\", \"sex\", \"religion\", \"body\", \"religious\", \"moral\", \"rape\", \"freedom\", \"mother\", \"feed\", \"girl\", \"treatment\", \"ignorance\", \"birth\", \"punishment\", \"partner\", \"humanity\", \"sexual\", \"daughter\", \"muslim\", \"cultural\", \"cell\", \"procedure\", \"migrant\", \"fetus\", \"violent\", \"bear\", \"peace\", \"alive\", \"kill\", \"life\", \"murder\", \"die\", \"culture\", \"doctor\", \"death\", \"suffer\", \"war\", \"pro\", \"force\", \"choice\", \"abuse\", \"risk\", \"right\", \"support\", \"evil\", \"anti\", \"man\", \"com\", \"https\", \"http\", \"www\", \"index\", \"washingtonpost\", \"html\", \"theguardian\", \"achieve\", \"businessinsider\", \"portion\", \"motherfucker\", \"controversy\", \"practically\", \"axio\", \"ugly\", \"carefully\", \"feminist\", \"crucial\", \"expel\", \"utilize\", \"routine\", \"artist\", \"historian\", \"electronic\", \"unnamed\", \"abundance\", \"message\", \"politics\", \"politic\", \"thank\", \"article\", \"follow\", \"news\", \"contain\", \"youtube\", \"link\", \"here\", \"must\", \"wall\", \"emergency\", \"border\", \"declare\", \"precedent\", \"fence\", \"resolution\", \"construction\", \"veto\", \"bypass\", \"suppression\", \"demonstration\", \"recount\", \"national\", \"entry\", \"shutdown\", \"security\", \"cross\", \"ruling\", \"build\", \"bipartisan\", \"secure\", \"crisis\", \"funding\", \"constitutional\", \"court\", \"executive\", \"seize\", \"appropriate\", \"illegal\", \"fund\", \"promise\", \"president\", \"set\", \"project\", \"abuse\", \"bill\", \"gun\", \"weapon\", \"firearm\", \"section\", \"sleep\", \"proper\", \"shooting\", \"clause\", \"shooter\", \"prohibition\", \"homicide\", \"decry\", \"seller\", \"stadium\", \"parking\", \"commission\", \"pertinent\", \"couch\", \"doc\", \"unarmed\", \"fare\", \"imagery\", \"assault_weapon\", \"capitalistic\", \"evenly\", \"ownership\", \"license\", \"forbid\", \"restriction\", \"violence\", \"ban\", \"police\", \"owner\", \"shoot\", \"crime\", \"purchase\", \"cop\", \"control\", \"death\", \"law\", \"criminal\", \"commit\", \"arm\", \"kill\", \"carry\", \"military\", \"right\", \"regulation\", \"defense\", \"protect\", \"own\", \"remove\", \"rifle\", \"fringe\", \"disgrace\", \"bat\", \"sheep\", \"escalate\", \"colluding\", \"outdate\", \"modest\", \"niche\", \"culpable\", \"submission\", \"question_regarde\", \"moderator\", \"redd\", \"explicitly\", \"contribution\", \"context_hi\", \"breaking\", \"recommend\", \"applied\", \"comprise\", \"calendar_month\", \"thehill\", \"removed\", \"original_content\", \"copy_paste\", \"chunk\", \"summit\", \"kid\", \"parent\", \"immigrant\", \"photo\", \"ice\", \"copy\", \"meat\", \"lawmaker\", \"flee\", \"refugee\", \"cage\", \"detain\", \"custody\", \"husband\", \"deport\", \"username\", \"hamberder\", \"slide\", \"strategic\", \"how\", \"occupy\", \"embarrassed\", \"deadline\", \"stomach\", \"roast\", \"deploy\", \"abide\", \"silver\", \"handcuff\", \"clothing\", \"child\", \"adult\", \"family\", \"separate\", \"wife\", \"reddit\", \"subreddit\", \"pm\", \"comment\", \"submission\", \"question_regarde\", \"moderator\", \"redd\", \"explicitly\", \"contribution\", \"context_hi\", \"breaking\", \"recommend\", \"applied\", \"comprise\", \"calendar_month\", \"thehill\", \"removed\", \"copy_paste\", \"original_content\", \"chunk\", \"summit\", \"abcnew\", \"danishpastry\", \"headee\", \"spur\", \"apnew\", \"iduskcn\", \"av\", \"theweek\", \"amp\", \"submit\", \"title\", \"contact\", \"appearance\", \"initiate\", \"football\", \"series\", \"mate\", \"oversee\", \"coin\", \"joy\", \"postpone\", \"scrap\", \"nonprofit\", \"whistleblower\", \"coordination\", \"cattle\", \"posting\", \"intercept\", \"netflix\", \"cuomo\", \"hardest\", \"sharply\", \"staple\", \"muellers_team\", \"submission\", \"question_regarde\", \"moderator\", \"redd\", \"exclusive\", \"hilarious\", \"yell\", \"buddy\", \"huffingtonpost\", \"realistically\", \"please\", \"optimistic\", \"tyrant\", \"believer\", \"gym\", \"worm\", \"worldview\", \"donnie\", \"refrain\", \"survivor\", \"incite\", \"evening\", \"reconsider\", \"illegal_immigrants\", \"whim\", \"incel\", \"gospel\", \"recieve\", \"unhappy\", \"advertisement\", \"splitting\", \"disown\", \"reproduce\", \"cap\", \"speech\", \"flood\", \"downplay\", \"incompetence\", \"seizure\", \"partial\", \"calculation\", \"assemble\", \"falsehood\", \"redundant\", \"ought\", \"incitement\", \"abridge\", \"peaceably\", \"redress\", \"grievance\", \"expression\", \"prohibit\", \"dealer\", \"permit\", \"establishment\", \"sphere\", \"robust\", \"st_amendment\", \"incitement_violence\", \"conjoin\", \"brandenburg\", \"protagonist\", \"keenly\", \"starver\", \"imminently\", \"unmoleste\", \"orally\", \"offhandedly\", \"dingbat\", \"mill\", \"fundamental\", \"exception\", \"imminent\", \"circulate\", \"genocide\", \"compelling\", \"radical\", \"infringe\", \"ally\", \"trial\", \"occur\", \"explicitly\", \"submission\", \"question_regarde\", \"moderator\", \"contribution\", \"redd\", \"recommend\", \"reporter\", \"possess\", \"guideline\", \"faux\", \"proposition\", \"donny\", \"observe\", \"generic\", \"coulter\", \"deregulate\", \"supersede\", \"efficacy\", \"pentagon_paper\", \"spokesman\", \"wood\", \"mushroom\", \"sexy\", \"adorable\", \"incarceration\", \"epfd\", \"consult\", \"anchor\", \"criminalize\", \"favour\", \"defendant\", \"jar\", \"purity\", \"pipeline\", \"approximately\", \"balanced\", \"guccifer\", \"senior\", \"invade\", \"cooperate\", \"execute\", \"edge\", \"irrelevant\", \"civilized\", \"tear\", \"inform\", \"recognize\", \"ally\", \"radical\", \"food\", \"factor\", \"agreement\", \"healthy\", \"trial\", \"occur\", \"explicitly\", \"submission\", \"question_regarde\", \"moderator\", \"recommend\"], \"logprob\": [30.0, 29.0, 28.0, 27.0, 26.0, 25.0, 24.0, 23.0, 22.0, 21.0, 20.0, 19.0, 18.0, 17.0, 16.0, 15.0, 14.0, 13.0, 12.0, 11.0, 10.0, 9.0, 8.0, 7.0, 6.0, 5.0, 4.0, 3.0, 2.0, 1.0, -3.98009991645813, -4.110000133514404, -4.565499782562256, -4.720799922943115, -4.915999889373779, -4.920199871063232, -5.043700218200684, -5.329800128936768, -5.500999927520752, -5.586100101470947, -5.590099811553955, -5.633800029754639, -5.6645002365112305, -5.784599781036377, -5.814499855041504, -5.827199935913086, -5.8653998374938965, -5.863500118255615, -5.876399993896484, -6.028800010681152, -6.127200126647949, -6.147600173950195, -6.185400009155273, -6.2133002281188965, -6.230899810791016, -6.259699821472168, -6.262599945068359, -6.2677001953125, -6.31820011138916, -6.357800006866455, -4.091400146484375, -4.316999912261963, -4.539999961853027, -4.506100177764893, -4.984499931335449, -5.160399913787842, -5.079400062561035, -5.237800121307373, -5.171199798583984, -5.393400192260742, -5.762499809265137, -5.7758002281188965, -5.007900238037109, -4.878600120544434, -5.43310022354126, -4.50570011138916, -5.592800140380859, -3.7191998958587646, -3.8603999614715576, -5.042600154876709, -5.031599998474121, -3.862799882888794, -4.992599964141846, -5.414899826049805, -4.86359977722168, -4.8933000564575195, -4.863500118255615, -4.7870001792907715, -4.144400119781494, -4.928500175476074, -4.754000186920166, -4.786399841308594, -4.931600093841553, -4.853099822998047, -4.951900005340576, -3.324700117111206, -3.447999954223633, -4.219299793243408, -4.35699987411499, -4.6554999351501465, -4.81850004196167, -4.906899929046631, -4.978899955749512, -5.0157999992370605, -5.189700126647949, -5.196300029754639, -5.250400066375732, -5.259500026702881, -5.341400146484375, -5.414299964904785, -5.437099933624268, -5.4355998039245605, -5.46560001373291, -5.557799816131592, -5.606599807739258, -5.637599945068359, -5.655300140380859, -5.843699932098389, -5.904099941253662, -5.927599906921387, -6.065499782562256, -6.093400001525879, -6.105800151824951, -6.134699821472168, -6.1458001136779785, -4.853899955749512, -5.775000095367432, -4.546599864959717, -5.433199882507324, -3.647700071334839, -5.517499923706055, -5.055300235748291, -4.883999824523926, -4.688899993896484, -4.514200210571289, -5.098599910736084, -5.222499847412109, -4.3394999504089355, -4.570300102233887, -4.048999786376953, -5.0295000076293945, -4.304900169372559, -5.18779993057251, -5.039299964904785, -4.928699970245361, -5.136899948120117, -4.611499786376953, -4.756400108337402, -5.051199913024902, -5.187699794769287, -3.1352999210357666, -3.9844000339508057, -4.0370001792907715, -4.065100193023682, -4.0802001953125, -4.156300067901611, -4.175600051879883, -4.5914998054504395, -4.894899845123291, -5.082900047302246, -5.102799892425537, -5.1605000495910645, -5.690400123596191, -5.708799839019775, -5.737800121307373, -5.854300022125244, -5.9440999031066895, -5.950200080871582, -5.98960018157959, -6.040500164031982, -6.0767998695373535, -6.100800037384033, -6.167699813842773, -6.21750020980835, -6.227499961853027, -6.241499900817871, -6.2434000968933105, -6.249599933624268, -6.270199775695801, -6.283100128173828, -5.8024001121521, -3.817699909210205, -5.3506999015808105, -5.0903000831604, -3.8496999740600586, -5.680600166320801, -5.31879997253418, -4.018899917602539, -5.071800231933594, -4.579400062561035, -4.737199783325195, -4.902299880981445, -4.375699996948242, -5.412700176239014, -5.210599899291992, -5.211999893188477, -5.255099773406982, -4.483099937438965, -4.0960001945495605, -4.792600154876709, -4.722599983215332, -5.01609992980957, -4.849800109863281, -5.032899856567383, -5.181700229644775, -5.204999923706055, -2.87719988822937, -4.622399806976318, -4.7480998039245605, -4.88700008392334, -5.26800012588501, -5.838600158691406, -5.956500053405762, -6.122200012207031, -6.1234002113342285, -6.172500133514404, -6.265600204467773, -6.35129976272583, -6.408999919891357, -6.450300216674805, -6.6269001960754395, -6.682600021362305, -6.750899791717529, -6.753399848937988, -6.790599822998047, -6.807400226593018, -6.828800201416016, -6.922500133514404, -6.961900234222412, -7.032599925994873, -7.052700042724609, -7.060500144958496, -7.070799827575684, -7.155900001525879, -7.157800197601318, -7.217199802398682, -2.953700065612793, -4.47760009765625, -2.8059000968933105, -6.314700126647949, -4.963900089263916, -4.182000160217285, -6.338099956512451, -2.9892001152038574, -6.513400077819824, -4.227499961853027, -6.368899822235107, -4.961900234222412, -5.805500030517578, -6.011199951171875, -5.79449987411499, -4.964600086212158, -4.849599838256836, -3.9022998809814453, -3.940000057220459, -3.5350000858306885, -4.416800022125244, -3.4707999229431152, -4.853899955749512, -4.724100112915039, -5.224800109863281, -5.771699905395508, -4.339900016784668, -5.415200233459473, -5.14870023727417, -4.726399898529053, -5.477499961853027, -4.545100212097168, -5.469099998474121, -5.225500106811523, -5.290900230407715, -5.2779998779296875, -5.257900238037109, -3.5406999588012695, -3.588099956512451, -3.9049999713897705, -4.063799858093262, -4.338799953460693, -4.39300012588501, -5.019100189208984, -5.134399890899658, -5.25570011138916, -5.438300132751465, -5.474400043487549, -5.521399974822998, -5.610199928283691, -5.658599853515625, -5.891600131988525, -5.925099849700928, -5.955599784851074, -5.980100154876709, -6.083000183105469, -6.164000034332275, -6.282599925994873, -6.289899826049805, -6.373000144958496, -6.480999946594238, -6.525599956512451, -6.628699779510498, -6.672800064086914, -6.8516998291015625, -6.874800205230713, -6.917300224304199, -3.6807000637054443, -3.9944000244140625, -6.434000015258789, -5.7444000244140625, -3.2973999977111816, -4.23859977722168, -5.6596999168396, -3.5237998962402344, -3.863100051879883, -4.582600116729736, -2.915299892425537, -3.9367001056671143, -3.8032000064849854, -5.424900054931641, -5.0289998054504395, -4.4745001792907715, -4.40880012512207, -4.442299842834473, -4.766600131988525, -4.410799980163574, -5.291299819946289, -4.702300071716309, -4.638000011444092, -4.14900016784668, -5.079800128936768, -5.008600234985352, -5.207200050354004, -1.3458000421524048, -1.566100001335144, -3.1347999572753906, -3.2323999404907227, -3.953700065612793, -4.240699768066406, -4.605899810791016, -5.687900066375732, -5.694799900054932, -5.828400135040283, -6.170300006866455, -6.246600151062012, -6.284900188446045, -6.287700176239014, -6.430699825286865, -6.462500095367432, -6.469200134277344, -6.51230001449585, -6.574900150299072, -6.582600116729736, -6.619100093841553, -6.641600131988525, -6.70389986038208, -6.720099925994873, -6.790900230407715, -6.793600082397461, -6.798399925231934, -6.808599948883057, -6.8678998947143555, -6.886000156402588, -4.428800106048584, -5.414400100708008, -2.963900089263916, -4.424900054931641, -6.602200031280518, -4.23330020904541, -4.002900123596191, -6.080900192260742, -5.9527997970581055, -6.419000148773193, -5.886000156402588, -5.726900100708008, -5.5320000648498535, -6.150199890136719, -6.2179999351501465, -5.662899971008301, -6.024899959564209, -6.029200077056885, -5.899099826812744, -6.211400032043457, -6.191100120544434, -3.7155001163482666, -3.808199882507324, -4.746799945831299, -4.962500095367432, -5.247200012207031, -5.311800003051758, -5.357100009918213, -5.450900077819824, -5.461599826812744, -5.551199913024902, -5.471199989318848, -5.774099826812744, -5.844299793243408, -5.975399971008301, -6.062300205230713, -6.285799980163574, -6.395199775695801, -6.542699813842773, -6.5777997970581055, -6.680300235748291, -6.690199851989746, -6.80679988861084, -6.8394999504089355, -6.918799877166748, -6.930099964141846, -6.9421000480651855, -7.049799919128418, -7.080900192260742, -7.162099838256836, -7.211699962615967, -3.4595999717712402, -4.961999893188477, -4.148099899291992, -3.639699935913086, -4.299699783325195, -4.881700038909912, -4.430799961090088, -4.8968000411987305, -5.369999885559082, -3.1995999813079834, -3.7392001152038574, -4.876200199127197, -5.880000114440918, -2.940000057220459, -5.307799816131592, -4.008699893951416, -4.054999828338623, -4.153600215911865, -3.824399948120117, -3.519200086593628, -3.5025999546051025, -5.050300121307373, -4.488399982452393, -4.447299957275391, -3.706899881362915, -2.7981998920440674, -4.417500019073486, -4.757699966430664, -4.017399787902832, -4.479300022125244, -4.58650016784668, -4.768799781799316, -4.614099979400635, -4.665500164031982, -4.763700008392334, -4.757400035858154, -1.3980000019073486, -4.043000221252441, -4.194399833679199, -5.021699905395508, -5.150300025939941, -5.225800037384033, -5.31279993057251, -5.357600212097168, -5.513999938964844, -5.519599914550781, -5.567500114440918, -5.796999931335449, -5.820799827575684, -5.850399971008301, -6.056600093841553, -6.068299770355225, -6.281499862670898, -6.315100193023682, -6.321899890899658, -6.366700172424316, -6.388400077819824, -6.5121002197265625, -6.526199817657471, -6.690999984741211, -6.72629976272583, -6.754000186920166, -6.874000072479248, -6.896299839019775, -6.918900012969971, -7.041800022125244, -5.59689998626709, -5.58519983291626, -5.577099800109863, -5.4695000648498535, -4.045899868011475, -5.048600196838379, -5.821499824523926, -4.928299903869629, -5.854499816894531, -5.771100044250488, -4.464399814605713, -3.9844000339508057, -4.615300178527832, -5.3246002197265625, -3.0845999717712402, -2.7509000301361084, -4.45550012588501, -4.969699859619141, -4.967599868774414, -5.334400177001953, -5.4695000648498535, -4.2129998207092285, -5.086599826812744, -4.444799900054932, -3.970900058746338, -5.257699966430664, -5.118100166320801, -4.97189998626709, -5.327400207519531, -5.219600200653076, -4.93149995803833, -4.898900032043457, -5.042600154876709, -4.971099853515625, -5.082600116729736, -2.099400043487549, -4.320000171661377, -4.424799919128418, -4.927599906921387, -5.39109992980957, -5.4120001792907715, -5.433199882507324, -5.510900020599365, -5.855000019073486, -6.022200107574463, -6.047800064086914, -6.076700210571289, -6.182700157165527, -6.211699962615967, -6.403299808502197, -6.52269983291626, -6.5432000160217285, -6.781700134277344, -6.794300079345703, -6.990300178527832, -7.244800090789795, -7.346099853515625, -7.44320011138916, -7.505799770355225, -7.654300212860107, -7.6930999755859375, -7.808000087738037, -7.879799842834473, -7.892499923706055, -7.90939998626709, -5.290900230407715, -6.032800197601318, -3.977400064468384, -4.700399875640869, -4.966100215911865, -5.155099868774414, -3.969399929046631, -6.297900199890137, -2.9921998977661133, -4.098700046539307, -4.2683000564575195, -5.720900058746338, -4.975399971008301, -4.0507001876831055, -3.4089999198913574, -3.5989999771118164, -5.104000091552734, -4.727700233459473, -3.348900079727173, -4.301700115203857, -4.576000213623047, -4.766300201416016, -3.0713000297546387, -4.947400093078613, -4.596499919891357, -4.699900150299072, -4.4567999839782715, -4.975399971008301, -4.687300205230713, -3.6094000339508057, -4.702199935913086, -4.1992998123168945, -4.727499961853027, -4.621500015258789, -4.782899856567383, -4.620299816131592, -4.821400165557861, -3.0162999629974365, -3.72379994392395, -3.8192999362945557, -4.208099842071533, -4.515999794006348, -4.627999782562256, -4.632500171661377, -4.641499996185303, -4.64139986038208, -4.674300193786621, -4.685500144958496, -4.688700199127197, -4.774799823760986, -4.963900089263916, -4.985599994659424, -5.139100074768066, -5.1697998046875, -5.185400009155273, -5.5345001220703125, -5.543900012969971, -5.579400062561035, -5.612299919128418, -5.63070011138916, -5.8993000984191895, -5.94189977645874, -6.002999782562256, -6.004899978637695, -6.0208001136779785, -6.102499961853027, -4.901400089263916, -4.291800022125244, -5.337600231170654, -5.289899826049805, -3.474100112915039, -3.0977001190185547, -4.238800048828125, -3.7281999588012695, -4.922399997711182, -4.667300224304199, -4.188899993896484, -4.964200019836426, -3.6858999729156494, -4.572700023651123, -4.203700065612793, -4.529300212860107, -4.8414998054504395, -4.729700088500977, -3.7641000747680664, -4.167399883270264, -4.731100082397461, -4.763599872589111, -4.717299938201904, -1.5195000171661377, -2.240999937057495, -4.49399995803833, -4.9182000160217285, -5.615900039672852, -5.729800224304199, -5.839900016784668, -6.348899841308594, -6.46019983291626, -6.4741997718811035, -6.501299858093262, -6.913400173187256, -6.9355998039245605, -7.178800106048584, -7.265699863433838, -7.339200019836426, -7.661499977111816, -7.745699882507324, -7.7820000648498535, -8.05370044708252, -8.131999969482422, -8.237600326538086, -8.262100219726562, -8.316399574279785, -8.364999771118164, -8.893899917602539, -10.518699645996094, -1.8529000282287598, -3.6710000038146973, -1.329200029373169, -2.580699920654297, -3.023099899291992, -3.3269999027252197, -4.263599872589111, -5.6072001457214355, -6.438199996948242, -6.51669979095459, -7.484899997711182, -7.69789981842041, -2.0360000133514404, -2.072000026702881, -2.224299907684326, -2.8417999744415283, -3.5513999462127686, -3.9409000873565674, -4.610000133514404, -4.63100004196167, -4.773900032043457, -5.452099800109863, -6.298799991607666, -6.3942999839782715, -6.704500198364258, -2.3615000247955322, -4.241499900817871, -4.053400039672852, -3.1189000606536865, -4.303899765014648, -5.8582000732421875, -2.9964001178741455, -5.584000110626221, -4.849699974060059, -4.5960001945495605, -4.418900012969971, -5.160600185394287, -3.795300006866455, -4.582499980926514, -5.545400142669678, -5.612100124359131, -3.7565999031066895, -3.9858999252319336, -4.830999851226807, -3.9969000816345215, -4.889800071716309, -5.204500198364258, -5.398200035095215, -5.27839994430542, -1.562600016593933, -3.4925999641418457, -3.828000068664551, -4.228000164031982, -4.291299819946289, -4.449699878692627, -4.729700088500977, -5.287799835205078, -5.565400123596191, -5.751500129699707, -5.783599853515625, -5.837900161743164, -5.872300148010254, -6.030300140380859, -6.070199966430664, -6.143599987030029, -6.221099853515625, -6.308800220489502, -6.345799922943115, -6.794400215148926, -6.92579984664917, -6.985300064086914, -7.057400226593018, -7.500500202178955, -7.519100189208984, -3.8457000255584717, -4.997499942779541, -6.387400150299072, -5.450699806213379, -3.650099992752075, -3.4449000358581543, -3.796099901199341, -3.965399980545044, -3.995699882507324, -3.2084999084472656, -4.844900131225586, -4.74560022354126, -3.8397998809814453, -4.3520002365112305, -3.6819000244140625, -4.479400157928467, -4.572700023651123, -4.9857001304626465, -4.355899810791016, -4.8429999351501465, -4.527200222015381, -3.8327999114990234, -5.0071001052856445, -4.933700084686279, -4.794300079345703, -4.928100109100342, -0.08990000188350677, -4.859300136566162, -5.055600166320801, -5.176700115203857, -5.465199947357178, -5.572700023651123, -5.652900218963623, -5.813499927520752, -5.897299766540527, -6.337500095367432, -6.411200046539307, -6.622900009155273, -14.803600311279297, -14.840499877929688, -14.855799674987793, -14.876899719238281, -14.877699851989746, -14.878499984741211, -14.879199981689453, -14.87969970703125, -14.87969970703125, -14.87969970703125, -14.87969970703125, -14.881199836730957, -14.881199836730957, -14.881500244140625, -14.881500244140625, -14.881500244140625, -14.881500244140625, -14.881600379943848, -1.6406999826431274, -2.313199996948242, -2.64739990234375, -3.140000104904175, -3.6180999279022217, -3.970099925994873, -4.0914998054504395, -4.218400001525879, -4.4257001876831055, -4.433599948883057, -4.472899913787842, -4.526400089263916, -4.588900089263916, -4.593699932098389, -4.6666998863220215, -4.792600154876709, -4.974400043487549, -5.007699966430664, -5.122900009155273, -5.13700008392334, -5.147200107574463, -5.220799922943115, -5.34630012512207, -5.403299808502197, -5.504499912261963, -5.551599979400635, -5.917799949645996, -5.9257001876831055, -5.958199977874756, -6.097599983215332, -1.5354000329971313, -4.015200138092041, -2.9609999656677246, -4.059500217437744, -5.18149995803833, -0.3806999921798706, -2.8289999961853027, -5.93779993057251, -1.438099980354309, -15.648699760437012, -15.73270034790039, -15.760899543762207, -15.798999786376953, -15.800299644470215, -15.801799774169922, -15.802900314331055, -15.803899765014648, -15.803899765014648, -15.803899765014648, -15.803899765014648, -15.806500434875488, -15.806500434875488, -15.807100296020508, -15.807100296020508, -15.807100296020508, -15.807100296020508, -15.80720043182373, -15.80720043182373, -15.80720043182373, -15.80720043182373, -15.80720043182373, -15.80720043182373, -15.80720043182373, -15.80720043182373, -15.80720043182373, -0.7020000219345093, -0.974399983882904, -2.684799909591675, -4.376100063323975, -5.4028000831604, -6.0167999267578125, -6.064300060272217, -6.0929999351501465, -6.205900192260742, -6.228899955749512, -6.33620023727417, -6.428999900817871, -6.499199867248535, -6.554100036621094, -6.629199981689453, -6.641200065612793, -6.779799938201904, -6.907599925994873, -7.24459981918335, -7.30709981918335, -7.332900047302246, -7.62060022354126, -7.707300186157227, -7.9197001457214355, -8.040499687194824, -8.341099739074707, -15.801199913024902, -15.855500221252441, -15.878100395202637, -15.909600257873535, -1.344099998474121, -2.629699945449829, -3.089400053024292, -3.3236000537872314, -3.3708999156951904, -3.7679998874664307, -4.044300079345703, -4.166299819946289, -4.46019983291626, -4.4756999015808105, -4.48829984664917, -4.5081000328063965, -4.511499881744385, -4.517300128936768, -4.5725998878479, -4.641499996185303, -4.65939998626709, -4.663700103759766, -4.679599761962891, -4.6956000328063965, -4.706500053405762, -4.830999851226807, -4.832099914550781, -4.855000019073486, -4.939000129699707, -5.0706000328063965, -5.333700180053711, -5.590400218963623, -5.6118998527526855, -1.7668999433517456, -0.6620000004768372, -3.1164000034332275, -3.281100034713745, -3.325500011444092, -3.619999885559082, -3.6470999717712402, -3.686000108718872, -3.844599962234497, -3.930500030517578, -4.098800182342529, -13.228300094604492, -13.228300094604492, -13.228300094604492, -13.228300094604492, -13.228300094604492, -13.228300094604492, -13.228300094604492, -13.228300094604492, -13.228300094604492, -13.228300094604492, -13.228300094604492, -13.228300094604492, -13.228300094604492, -13.228300094604492, -13.228300094604492, -13.228300094604492, -13.228300094604492, -13.228300094604492, -13.228300094604492, -13.228300094604492, -13.228300094604492, -13.228300094604492, -13.228300094604492, -13.228300094604492, -13.228300094604492, -13.228300094604492, -13.228300094604492, -13.228300094604492, -13.228300094604492, -13.228300094604492, -13.228300094604492, -13.228300094604492, -13.228300094604492, -13.228300094604492, -13.228300094604492, -13.228300094604492, -13.228300094604492, -13.228300094604492, -13.227499961853027, -13.227899551391602, -13.228099822998047, -13.228300094604492, -13.228300094604492, -13.228300094604492, -1.6687999963760376, -2.6440999507904053, -2.759399890899658, -3.0234999656677246, -3.2850000858306885, -3.3169000148773193, -3.367300033569336, -3.4191999435424805, -3.7095000743865967, -4.1296000480651855, -4.6143999099731445, -4.623600006103516, -12.612299919128418, -12.61240005493164, -12.61240005493164, -12.61240005493164, -12.61240005493164, -12.61240005493164, -12.61240005493164, -12.61240005493164, -12.61240005493164, -12.61240005493164, -12.61240005493164, -12.61240005493164, -12.612299919128418, -12.61240005493164, -12.61240005493164, -12.61240005493164, -12.61240005493164, -12.61240005493164, -12.61240005493164, -12.612299919128418, -12.61240005493164, -12.61240005493164, -12.61240005493164, -12.61240005493164, -12.61240005493164, -12.61240005493164, -12.612299919128418, -12.61240005493164, -12.612299919128418, -12.612299919128418, -12.612299919128418, -12.612299919128418, -12.61240005493164, -12.61240005493164, -12.61240005493164, -12.61240005493164, -12.61240005493164, -12.612299919128418, -12.612099647521973, -12.612199783325195, -12.612299919128418, -12.612299919128418], \"loglift\": [30.0, 29.0, 28.0, 27.0, 26.0, 25.0, 24.0, 23.0, 22.0, 21.0, 20.0, 19.0, 18.0, 17.0, 16.0, 15.0, 14.0, 13.0, 12.0, 11.0, 10.0, 9.0, 8.0, 7.0, 6.0, 5.0, 4.0, 3.0, 2.0, 1.0, 0.741599977016449, 0.741599977016449, 0.741599977016449, 0.741599977016449, 0.741599977016449, 0.741599977016449, 0.741599977016449, 0.741599977016449, 0.741599977016449, 0.741599977016449, 0.741599977016449, 0.741599977016449, 0.741599977016449, 0.741599977016449, 0.741599977016449, 0.741599977016449, 0.741599977016449, 0.741599977016449, 0.741599977016449, 0.741599977016449, 0.741599977016449, 0.741599977016449, 0.741599977016449, 0.741599977016449, 0.741599977016449, 0.741599977016449, 0.741599977016449, 0.741599977016449, 0.741599977016449, 0.741599977016449, 0.7412999868392944, 0.741599977016449, 0.7415000200271606, 0.7394000291824341, 0.7408999800682068, 0.7411999702453613, 0.7398999929428101, 0.7408999800682068, 0.7384999990463257, 0.7401000261306763, 0.7415000200271606, 0.7411999702453613, 0.7329999804496765, 0.7317000031471252, 0.7371000051498413, 0.7174000144004822, 0.7372000217437744, 0.660099983215332, 0.6603999733924866, 0.7092000246047974, 0.6960999965667725, 0.6069999933242798, 0.677299976348877, 0.7228000164031982, 0.659500002861023, 0.6455000042915344, 0.6308000087738037, 0.607200026512146, 0.4611000120639801, 0.6295999884605408, 0.536300003528595, 0.48969998955726624, 0.5333999991416931, 0.334199994802475, -0.10819999873638153, 2.315000057220459, 2.315000057220459, 2.315000057220459, 2.3148999214172363, 2.3148999214172363, 2.3148999214172363, 2.3148999214172363, 2.3148999214172363, 2.3148999214172363, 2.3148999214172363, 2.3148999214172363, 2.3148999214172363, 2.3148999214172363, 2.3148999214172363, 2.3148999214172363, 2.3148999214172363, 2.3148999214172363, 2.3148999214172363, 2.3148999214172363, 2.3148999214172363, 2.3148999214172363, 2.3148999214172363, 2.3148999214172363, 2.3148999214172363, 2.3148000240325928, 2.3148000240325928, 2.3148000240325928, 2.3148000240325928, 2.3148000240325928, 2.3148000240325928, 2.300299882888794, 2.3076999187469482, 2.265700101852417, 2.2790000438690186, 2.0645999908447266, 2.260200023651123, 2.171600103378296, 2.099100112915039, 2.0455000400543213, 1.992799997329712, 2.1375999450683594, 2.127700090408325, 1.598099946975708, 1.7278000116348267, 1.3377000093460083, 1.9265999794006348, 1.1859999895095825, 2.0255000591278076, 1.820199966430664, 1.6018999814987183, 1.8868999481201172, -0.2321999967098236, -0.23559999465942383, -0.5813999772071838, 1.3454999923706055, 2.5559000968933105, 2.555799961090088, 2.555799961090088, 2.555799961090088, 2.555799961090088, 2.555799961090088, 2.555799961090088, 2.555799961090088, 2.555799961090088, 2.555799961090088, 2.555799961090088, 2.555799961090088, 2.5557000637054443, 2.5557000637054443, 2.5557000637054443, 2.5557000637054443, 2.5557000637054443, 2.5557000637054443, 2.5557000637054443, 2.5557000637054443, 2.5557000637054443, 2.5557000637054443, 2.5557000637054443, 2.5557000637054443, 2.5557000637054443, 2.5557000637054443, 2.5557000637054443, 2.5557000637054443, 2.5555999279022217, 2.5555999279022217, 2.5327000617980957, 2.422600030899048, 2.4725000858306885, 2.43149995803833, 2.277100086212158, 2.4746999740600586, 2.411799907684326, 2.1591999530792236, 2.308300018310547, 2.1682000160217285, 2.1768999099731445, 2.188699960708618, 1.9322999715805054, 2.3359999656677246, 2.1974000930786133, 2.1542999744415283, 2.181299924850464, 1.4227999448776245, 0.7477999925613403, 1.517799973487854, 0.5677000284194946, 1.218400001525879, 0.3926999866962433, 0.9898999929428101, 1.3731000423431396, 1.5587999820709229, 2.8111000061035156, 2.8111000061035156, 2.811000108718872, 2.811000108718872, 2.811000108718872, 2.8108999729156494, 2.8108999729156494, 2.8108999729156494, 2.8108999729156494, 2.810800075531006, 2.810800075531006, 2.810800075531006, 2.810800075531006, 2.810800075531006, 2.810699939727783, 2.810699939727783, 2.8106000423431396, 2.8106000423431396, 2.8106000423431396, 2.8106000423431396, 2.8106000423431396, 2.810499906539917, 2.810499906539917, 2.810499906539917, 2.810499906539917, 2.810499906539917, 2.810499906539917, 2.8104000091552734, 2.8104000091552734, 2.8104000091552734, 2.795099973678589, 2.7146999835968018, 2.643699884414673, 2.7843000888824463, 2.7074999809265137, 2.647599935531616, 2.759399890899658, 2.4370999336242676, 2.7704999446868896, 2.5220000743865967, 2.753999948501587, 2.539400100708008, 2.655900001525879, 2.6737000942230225, 2.629300117492676, 2.43179988861084, 2.3831000328063965, 2.1203999519348145, 2.0924999713897705, 1.8592000007629395, 2.1310999393463135, 1.7164000272750854, 2.237600088119507, 2.1612000465393066, 2.3183999061584473, 2.5501999855041504, 1.5622999668121338, 2.277400016784668, 1.9529000520706177, 1.357300043106079, 2.2230000495910645, 0.6973999738693237, 2.1006999015808105, 1.618499994277954, 1.732300043106079, 1.6563999652862549, 1.4871000051498413, 2.8740999698638916, 2.8740999698638916, 2.8740999698638916, 2.8740999698638916, 2.8740999698638916, 2.8740999698638916, 2.874000072479248, 2.874000072479248, 2.874000072479248, 2.874000072479248, 2.874000072479248, 2.874000072479248, 2.874000072479248, 2.874000072479248, 2.8738999366760254, 2.8738999366760254, 2.8738999366760254, 2.8738999366760254, 2.8738999366760254, 2.8738999366760254, 2.873800039291382, 2.873800039291382, 2.873800039291382, 2.873800039291382, 2.873699903488159, 2.873699903488159, 2.873699903488159, 2.8736000061035156, 2.8736000061035156, 2.873500108718872, 2.872999906539917, 2.8703999519348145, 2.8661000728607178, 2.8401999473571777, 2.6928000450134277, 2.732300043106079, 2.8178999423980713, 2.640199899673462, 2.6589999198913574, 2.7144999504089355, 2.500499963760376, 2.54830002784729, 2.4742000102996826, 2.742799997329712, 2.629499912261963, 2.4737000465393066, 2.1459999084472656, 2.1201999187469482, 2.265500068664551, 1.8818999528884888, 2.52839994430542, 1.8456000089645386, 1.6567000150680542, 0.6947000026702881, 2.1080000400543213, 1.7388999462127686, 2.060499906539917, 3.181299924850464, 3.181299924850464, 3.181299924850464, 3.181299924850464, 3.1812000274658203, 3.1812000274658203, 3.1812000274658203, 3.1810998916625977, 3.1810998916625977, 3.180999994277954, 3.1809000968933105, 3.1809000968933105, 3.1809000968933105, 3.1809000968933105, 3.180799961090088, 3.180799961090088, 3.180799961090088, 3.180799961090088, 3.1807000637054443, 3.1807000637054443, 3.1807000637054443, 3.1807000637054443, 3.1805999279022217, 3.1805999279022217, 3.1805999279022217, 3.1805999279022217, 3.1805999279022217, 3.1805999279022217, 3.180500030517578, 3.180500030517578, 3.135999917984009, 3.137700080871582, 3.0148000717163086, 2.7657999992370605, 3.0889999866485596, 1.7894999980926514, 1.3912999629974365, 2.746000051498413, 2.4535999298095703, 2.884200096130371, 2.1177000999450684, 1.8839999437332153, 1.559499979019165, 2.3970999717712402, 2.3255999088287354, 0.5152000188827515, 1.5430999994277954, 1.1222000122070312, -0.4341000020503998, 1.1686999797821045, -0.2321999967098236, 3.2153000831604004, 3.2153000831604004, 3.2151999473571777, 3.2151999473571777, 3.215100049972534, 3.215100049972534, 3.215100049972534, 3.215100049972534, 3.215100049972534, 3.215100049972534, 3.2149999141693115, 3.2149999141693115, 3.2149999141693115, 3.2149999141693115, 3.214900016784668, 3.214900016784668, 3.2147998809814453, 3.2146999835968018, 3.2146999835968018, 3.214600086212158, 3.214600086212158, 3.214600086212158, 3.2144999504089355, 3.2144999504089355, 3.2144999504089355, 3.214400053024292, 3.2142999172210693, 3.2142999172210693, 3.214200019836426, 3.214200019836426, 3.2116000652313232, 3.2137999534606934, 3.2039999961853027, 3.176100015640259, 3.176300048828125, 3.168800115585327, 3.1528000831604004, 3.161600112915039, 3.170799970626831, 3.0915000438690186, 3.1113998889923096, 3.154900074005127, 3.1823999881744385, 2.926100015640259, 3.1057000160217285, 2.919800043106079, 2.88319993019104, 2.896899938583374, 2.789799928665161, 2.7153000831604004, 2.6882998943328857, 3.0408999919891357, 2.8269999027252197, 2.7911999225616455, 2.4231998920440674, 1.8071999549865723, 2.6740000247955322, 2.8101999759674072, 2.059299945831299, 2.4440999031066895, 2.5088999271392822, 2.735599994659424, 2.2723000049591064, 2.385699987411499, 2.53410005569458, 1.6674000024795532, 3.3201000690460205, 3.3201000690460205, 3.3201000690460205, 3.319999933242798, 3.319999933242798, 3.319999933242798, 3.3199000358581543, 3.3199000358581543, 3.3199000358581543, 3.3199000358581543, 3.3199000358581543, 3.3197999000549316, 3.3197999000549316, 3.3197999000549316, 3.319700002670288, 3.319700002670288, 3.3196001052856445, 3.3196001052856445, 3.3196001052856445, 3.3196001052856445, 3.3196001052856445, 3.319499969482422, 3.319499969482422, 3.3194000720977783, 3.3194000720977783, 3.3192999362945557, 3.319200038909912, 3.319200038909912, 3.319200038909912, 3.3190999031066895, 3.3011999130249023, 3.2948999404907227, 3.2932000160217285, 3.281399965286255, 3.2095000743865967, 3.240799903869629, 3.279599905014038, 3.2309000492095947, 3.276099920272827, 3.248800039291382, 2.9549999237060547, 2.8510000705718994, 2.9488000869750977, 3.093400001525879, 2.3096001148223877, 2.0927999019622803, 2.639899969100952, 2.7994000911712646, 2.760699987411499, 2.984100103378296, 3.0448999404907227, 1.965000033378601, 2.6839001178741455, 2.0401999950408936, 1.4940999746322632, 2.746000051498413, 2.3471999168395996, 1.9565999507904053, 2.8024001121520996, 2.4570999145507812, 1.492400050163269, 1.1778000593185425, 1.6780999898910522, 0.5870000123977661, 0.9498999714851379, 3.5099000930786133, 3.5097999572753906, 3.5097999572753906, 3.5097999572753906, 3.509700059890747, 3.509700059890747, 3.509700059890747, 3.509700059890747, 3.509500026702881, 3.509500026702881, 3.509500026702881, 3.509399890899658, 3.509399890899658, 3.509399890899658, 3.5092999935150146, 3.509200096130371, 3.509200096130371, 3.509000062942505, 3.5088999271392822, 3.508699893951416, 3.5083999633789062, 3.50819993019104, 3.5081000328063965, 3.5078999996185303, 3.5076000690460205, 3.507499933242798, 3.507200002670288, 3.506999969482422, 3.506999969482422, 3.506999969482422, 3.502500057220459, 3.5064001083374023, 3.481600046157837, 3.485599994659424, 3.4691998958587646, 3.4693000316619873, 3.353300094604492, 3.4486000537872314, 3.253000020980835, 3.299999952316284, 3.2462000846862793, 3.386899948120117, 3.287600040435791, 3.082200050354004, 2.9430999755859375, 2.934299945831299, 3.204900026321411, 3.1126999855041504, 2.58870005607605, 2.875200033187866, 2.950900077819824, 3.018899917602539, 2.344399929046631, 3.058300018310547, 2.821700096130371, 2.797600030899048, 2.3315999507904053, 2.9414000511169434, 2.4837000370025635, 0.8604999780654907, 2.504499912261963, 1.6211999654769897, 2.458400011062622, 2.1278998851776123, 2.547499895095825, 1.5437999963760376, 2.1050000190734863, 3.6591999530792236, 3.6591999530792236, 3.6591999530792236, 3.65910005569458, 3.65910005569458, 3.65910005569458, 3.65910005569458, 3.65910005569458, 3.65910005569458, 3.65910005569458, 3.65910005569458, 3.65910005569458, 3.65910005569458, 3.6589999198913574, 3.6589999198913574, 3.6589999198913574, 3.6589999198913574, 3.6589999198913574, 3.658900022506714, 3.658900022506714, 3.658900022506714, 3.658900022506714, 3.658900022506714, 3.6586999893188477, 3.6586999893188477, 3.6586999893188477, 3.6586999893188477, 3.6586999893188477, 3.658600091934204, 3.658600091934204, 3.654599905014038, 3.6570000648498535, 3.6496999263763428, 3.541100025177002, 3.4863998889923096, 3.5392000675201416, 3.4946999549865723, 3.588900089263916, 3.527100086212158, 3.430299997329712, 3.561300039291382, 3.3352999687194824, 3.377700090408325, 2.886399984359741, 3.125699996948242, 3.3475000858306885, 3.197200059890747, 1.5120999813079834, 1.8228000402450562, 2.9900999069213867, 2.950000047683716, 1.5906000137329102, 4.224899768829346, 4.224899768829346, 4.224699974060059, 4.224599838256836, 4.224299907684326, 4.2241997718811035, 4.224100112915039, 4.223599910736084, 4.223400115966797, 4.223400115966797, 4.223400115966797, 4.222599983215332, 4.222499847412109, 4.22189998626709, 4.22160005569458, 4.22130012512207, 4.21999979019165, 4.2195000648498535, 4.219299793243408, 4.217599868774414, 4.2170000076293945, 4.216100215911865, 4.21589994430542, 4.215400218963623, 4.215000152587891, 4.208099842071533, 4.142099857330322, 4.105999946594238, 4.038700103759766, 3.913300037384033, 3.31850004196167, 2.8429999351501465, 2.7054998874664307, 1.970900058746338, 2.714600086212158, 2.8649001121520996, 0.9592999815940857, 1.067199945449829, -0.7634000182151794, 4.851399898529053, 4.851399898529053, 4.851399898529053, 4.851399898529053, 4.85129976272583, 4.851200103759766, 4.85099983215332, 4.85099983215332, 4.85099983215332, 4.850500106811523, 4.8491997718811035, 4.848899841308594, 4.8480000495910645, 4.667500019073486, 4.661300182342529, 4.5971999168396, 4.416100025177002, 4.374599933624268, 4.270199775695801, 4.127200126647949, 4.037799835205078, 4.018799781799316, 3.949399948120117, 3.8921000957489014, 3.6761999130249023, 3.6700000762939453, 3.6033999919891357, 3.5713999271392822, 3.4835000038146973, 3.450000047683716, 3.322000026702881, 3.224299907684326, 2.4270999431610107, 2.43149995803833, 2.917099952697754, 2.790800094604492, 2.0018999576568604, 4.8541998863220215, 4.854100227355957, 4.854000091552734, 4.853899955749512, 4.853899955749512, 4.853899955749512, 4.853700160980225, 4.853400230407715, 4.853099822998047, 4.85290002822876, 4.85290002822876, 4.852799892425537, 4.852700233459473, 4.852499961853027, 4.852399826049805, 4.85230016708374, 4.852099895477295, 4.851900100708008, 4.851799964904785, 4.850500106811523, 4.849899768829346, 4.849699974060059, 4.849299907684326, 4.84660005569458, 4.846499919891357, 4.651299953460693, 4.547800064086914, 4.42519998550415, 4.265999794006348, 4.252999782562256, 4.228400230407715, 4.163599967956543, 4.148099899291992, 3.9574999809265137, 3.6268999576568604, 3.933300018310547, 3.881200075149536, 3.1449999809265137, 3.267199993133545, 2.563199996948242, 3.0848000049591064, 3.155600070953369, 3.602299928665161, 2.65939998626709, 3.3698999881744385, 2.7920000553131104, 1.4434000253677368, 3.387200117111206, 3.2323999404907227, 2.8041000366210938, 3.001300096511841, 4.930699825286865, 4.930099964141846, 4.929999828338623, 4.929900169372559, 4.929599761962891, 4.929500102996826, 4.9293999671936035, 4.929200172424316, 4.928999900817871, 4.928199768066406, 4.927999973297119, 4.927299976348877, 2.361799955368042, 2.332900047302246, 2.3206000328063965, 2.303499937057495, 2.302799940109253, 2.3022000789642334, 2.3017001152038574, 2.3011999130249023, 2.3011999130249023, 2.3011999130249023, 2.3011999130249023, 2.299999952316284, 2.299999952316284, 2.299799919128418, 2.299799919128418, 2.299799919128418, 2.2997000217437744, 2.2997000217437744, 5.291299819946289, 5.291299819946289, 5.291200160980225, 5.291200160980225, 5.291100025177002, 5.290999889373779, 5.290900230407715, 5.290900230407715, 5.290800094604492, 5.290800094604492, 5.290800094604492, 5.2906999588012695, 5.2906999588012695, 5.2906999588012695, 5.290599822998047, 5.290500164031982, 5.29040002822876, 5.29040002822876, 5.290200233459473, 5.290200233459473, 5.290200233459473, 5.29010009765625, 5.289999961853027, 5.289899826049805, 5.289700031280518, 5.289700031280518, 5.288899898529053, 5.288899898529053, 5.28879976272583, 5.288400173187256, 5.280399799346924, 4.648200035095215, 3.970400094985962, 4.350200176239014, 2.961899995803833, 5.297699928283691, 5.297599792480469, 5.295100212097168, 4.691999912261963, 1.5166000127792358, 1.440600037574768, 1.4155000448226929, 1.381500005722046, 1.3802000284194946, 1.3789000511169434, 1.3779000043869019, 1.3770999908447266, 1.3770999908447266, 1.3769999742507935, 1.3769999742507935, 1.3746999502182007, 1.3746000528335571, 1.3741999864578247, 1.3741999864578247, 1.3741999864578247, 1.3740999698638916, 1.3740999698638916, 1.3740999698638916, 1.3740999698638916, 1.3740999698638916, 1.3740999698638916, 1.3739999532699585, 1.3739999532699585, 1.3739999532699585, 1.3739999532699585, 5.379899978637695, 5.379899978637695, 5.379799842834473, 5.379300117492676, 5.378300189971924, 5.3769001960754395, 5.376699924468994, 5.376699924468994, 5.376299858093262, 5.376200199127197, 5.375800132751465, 5.375400066375732, 5.375, 5.37470006942749, 5.374300003051758, 5.374300003051758, 5.3734002113342285, 5.372600078582764, 5.36959981918335, 5.36899995803833, 5.36870002746582, 5.364999771118164, 5.36359977722168, 5.359799861907959, 5.3572998046875, 5.3495001792907715, 1.3641999959945679, 1.3178999423980713, 1.298200011253357, 1.270799994468689, 6.033699989318848, 6.0335001945495605, 6.033400058746338, 6.033400058746338, 6.033299922943115, 6.033100128173828, 6.0329999923706055, 6.032899856567383, 6.032599925994873, 6.032599925994873, 6.03249979019165, 6.03249979019165, 6.03249979019165, 6.03249979019165, 6.032400131225586, 6.032299995422363, 6.032299995422363, 6.032299995422363, 6.032299995422363, 6.032299995422363, 6.032299995422363, 6.032100200653076, 6.032100200653076, 6.0320000648498535, 6.031899929046631, 6.031599998474121, 6.031000137329102, 6.030200004577637, 6.030099868774414, 5.092700004577637, 6.129799842834473, 6.129499912261963, 6.129499912261963, 6.129499912261963, 6.129300117492676, 6.129300117492676, 6.129300117492676, 6.129199981689453, 6.1290998458862305, 6.129000186920166, 3.953000068664551, 3.953000068664551, 3.953000068664551, 3.953000068664551, 3.953000068664551, 3.953000068664551, 3.953000068664551, 3.953000068664551, 3.953000068664551, 3.953000068664551, 3.953000068664551, 3.953000068664551, 3.953000068664551, 3.953000068664551, 3.953000068664551, 3.953000068664551, 3.953000068664551, 3.953000068664551, 3.953000068664551, 3.953000068664551, 3.953000068664551, 3.953000068664551, 3.953000068664551, 3.953000068664551, 3.953000068664551, 3.953000068664551, 3.953000068664551, 3.953000068664551, 3.953000068664551, 3.953000068664551, 3.952899932861328, 3.953000068664551, 3.952899932861328, 3.953000068664551, 3.952899932861328, 3.952899932861328, 3.952899932861328, 3.952199935913086, 3.9379000663757324, 3.945499897003174, 3.9482998847961426, 3.952399969100952, 3.9521000385284424, 3.9526000022888184, 7.592199802398682, 7.591599941253662, 7.5914998054504395, 7.59119987487793, 7.590799808502197, 7.590700149536133, 7.59060001373291, 7.5904998779296875, 7.589900016784668, 7.588500022888184, 7.585999965667725, 7.585899829864502, 4.568999767303467, 4.568900108337402, 4.568900108337402, 4.568900108337402, 4.568900108337402, 4.568900108337402, 4.568900108337402, 4.568900108337402, 4.568900108337402, 4.568900108337402, 4.568900108337402, 4.568900108337402, 4.568900108337402, 4.568900108337402, 4.568900108337402, 4.568900108337402, 4.568900108337402, 4.568900108337402, 4.568900108337402, 4.568900108337402, 4.568900108337402, 4.568900108337402, 4.568900108337402, 4.568900108337402, 4.568900108337402, 4.568900108337402, 4.568900108337402, 4.568900108337402, 4.568900108337402, 4.568900108337402, 4.568900108337402, 4.568900108337402, 4.568900108337402, 4.568900108337402, 4.568900108337402, 4.568900108337402, 4.568900108337402, 4.56820011138916, 4.553299903869629, 4.561100006103516, 4.5640997886657715, 4.568600177764893], \"Total\": [301423.0, 184031.0, 249025.0, 241845.0, 278722.0, 147411.0, 95324.0, 319194.0, 219625.0, 89234.0, 102136.0, 63673.0, 142519.0, 123948.0, 122649.0, 119817.0, 76432.0, 155774.0, 60677.0, 72004.0, 94379.0, 48488.0, 88847.0, 126647.0, 94112.0, 79006.0, 99083.0, 45552.0, 117998.0, 70593.0, 248120.28125, 217903.953125, 138180.703125, 118306.78125, 97318.2890625, 96914.8046875, 85655.46875, 64344.109375, 54222.046875, 49794.703125, 49595.4765625, 47477.921875, 46039.94140625, 40832.32421875, 39630.26953125, 39128.03515625, 37663.0703125, 37734.9296875, 37248.9609375, 31986.23828125, 28986.423828125, 28402.697265625, 27347.203125, 26595.35546875, 26133.341796875, 25389.595703125, 25315.52734375, 25187.962890625, 23946.46484375, 23018.80078125, 222051.546875, 177162.8125, 141760.515625, 146955.421875, 90944.6171875, 76250.125, 82797.5625, 70589.8359375, 75639.453125, 60472.95703125, 41748.5859375, 41207.08984375, 89548.7890625, 102042.328125, 58293.66015625, 150281.796875, 49680.54296875, 349465.09375, 303333.8125, 88573.6875, 90741.8046875, 319194.125, 96129.046875, 60212.21484375, 111330.328125, 109594.9765625, 114583.7109375, 126653.9375, 278722.625, 107504.859375, 140512.9375, 142519.3125, 117998.65625, 155774.34375, 219625.546875, 99083.3828125, 87588.78125, 40504.47265625, 35292.9765625, 26185.3359375, 22246.51171875, 20364.87890625, 18950.64453125, 18263.505859375, 15348.228515625, 15247.580078125, 14445.28125, 14313.27734375, 13188.439453125, 12261.0048828125, 11985.466796875, 12003.01171875, 11648.2431640625, 10622.3125, 10116.369140625, 9807.271484375, 9635.232421875, 7981.54052734375, 7513.8046875, 7338.75830078125, 6393.68359375, 6217.5791015625, 6141.45068359375, 5966.36376953125, 5900.14794921875, 21789.490234375, 8610.6103515625, 30673.580078125, 12471.9345703125, 92141.15625, 11680.6923828125, 20262.892578125, 25854.33984375, 33154.6171875, 41622.82421875, 20075.181640625, 17911.2890625, 73560.6640625, 51292.80078125, 127612.1171875, 26562.36328125, 114977.375, 20540.310546875, 29255.169921875, 40654.3046875, 24824.58984375, 349465.09375, 303333.8125, 319194.125, 40543.8984375, 94112.6875, 40261.5, 38199.12890625, 37140.7734375, 36583.40234375, 33902.8359375, 33255.65234375, 21939.052734375, 16199.306640625, 13422.955078125, 13158.611328125, 12420.189453125, 7312.02197265625, 7178.40283203125, 6973.435546875, 6206.3701171875, 5673.59765625, 5639.13525390625, 5421.18017578125, 5152.40673828125, 4968.65234375, 4850.8466796875, 4537.06103515625, 4316.5908203125, 4273.91259765625, 4214.2705078125, 4206.421875, 4180.1982421875, 4095.082275390625, 4042.6845703125, 6689.25244140625, 54346.65234375, 11161.732421875, 15085.8974609375, 60876.93359375, 8007.560546875, 12243.24609375, 57834.8984375, 17383.93359375, 32724.087890625, 27702.37109375, 23211.8125, 50789.1640625, 12023.8193359375, 16905.228515625, 17624.162109375, 16432.21484375, 75925.8515625, 219625.546875, 50661.375, 140512.9375, 54659.82421875, 147411.1875, 67549.5, 39679.0, 32195.83203125, 94379.421875, 16480.212890625, 14534.646484375, 12648.9990234375, 8642.3515625, 4884.56689453125, 4341.7919921875, 3678.681884765625, 3674.4033203125, 3498.37939453125, 3187.45849609375, 2925.6689453125, 2761.665283203125, 2650.20263671875, 2221.234375, 2100.953857421875, 1962.2269287109375, 1957.38720703125, 1885.9906005859375, 1854.6131591796875, 1815.2374267578125, 1653.022216796875, 1589.188720703125, 1480.784912109375, 1451.3441162109375, 1440.0322265625, 1425.3782958984375, 1309.0723876953125, 1306.62841796875, 1231.32177734375, 88847.6796875, 20974.95703125, 119817.75, 3116.57568359375, 12990.35546875, 30145.126953125, 3120.79150390625, 122649.9453125, 2590.34521484375, 32662.302734375, 3042.572998046875, 15399.380859375, 5895.4013671875, 4714.931640625, 6121.7607421875, 17103.03515625, 20143.578125, 67549.5, 66900.171875, 126647.8984375, 39954.23046875, 155774.34375, 23201.34765625, 28512.35546875, 14767.4482421875, 6778.884765625, 76209.6171875, 12718.1396484375, 22966.98046875, 63556.8359375, 12618.5634765625, 147411.1875, 14380.1494140625, 29714.474609375, 24840.474609375, 27145.486328125, 32807.34765625, 45644.50390625, 43530.98828125, 31707.701171875, 27052.224609375, 20548.64453125, 19464.689453125, 10407.189453125, 9273.8232421875, 8214.9736328125, 6844.0126953125, 6601.1083984375, 6298.41650390625, 5763.2900390625, 5490.7275390625, 4349.8330078125, 4206.39013671875, 4080.068359375, 3981.52490234375, 3592.23291015625, 3312.639892578125, 2942.433837890625, 2920.875244140625, 2688.281494140625, 2412.9580078125, 2307.730712890625, 2081.746826171875, 1992.16064453125, 1665.89794921875, 1627.8597412109375, 1560.1500244140625, 39722.62890625, 29101.490234375, 2548.49609375, 5212.30712890625, 69786.921875, 26172.0234375, 5800.87646484375, 58650.296875, 40996.6015625, 18887.453125, 123948.5078125, 42549.25, 52364.796875, 7908.5791015625, 13160.2587890625, 26774.3515625, 39679.0, 39376.28515625, 24620.810546875, 51568.8125, 11201.1455078125, 39954.23046875, 51467.24609375, 219625.546875, 21068.341796875, 32724.087890625, 19452.146484375, 301423.625, 241845.96875, 50379.1015625, 45693.51953125, 22213.0625, 16671.11328125, 11571.5068359375, 3922.2275390625, 3895.5244140625, 3408.337646484375, 2421.529296875, 2243.727783203125, 2159.450927734375, 2153.51220703125, 1866.6688232421875, 1808.2314453125, 1796.228759765625, 1720.440673828125, 1616.1168212890625, 1603.7265625, 1546.316650390625, 1511.8580322265625, 1420.6805419921875, 1397.80078125, 1302.2958984375, 1298.864990234375, 1292.572998046875, 1279.4583740234375, 1205.8980712890625, 1184.274658203125, 14452.5078125, 5384.7060546875, 70593.40625, 21009.51171875, 1723.6728515625, 67549.5, 126647.8984375, 4090.635986328125, 6229.26416015625, 2540.82568359375, 9318.0693359375, 13800.7216796875, 23200.92578125, 5410.41162109375, 5430.1162109375, 57834.8984375, 14406.6767578125, 21852.68359375, 117998.65625, 17383.93359375, 72004.625, 27245.3359375, 24833.619140625, 9714.7783203125, 7830.15771484375, 5890.2724609375, 5521.771484375, 5277.138671875, 4805.10009765625, 4753.62060546875, 4346.36669921875, 4708.5478515625, 3478.1123046875, 3242.52978515625, 2844.08056640625, 2607.593994140625, 2085.569091796875, 1869.49951171875, 1613.1558837890625, 1557.54833984375, 1406.002197265625, 1392.098876953125, 1238.985595703125, 1199.168212890625, 1107.8607177734375, 1095.3492431640625, 1082.304931640625, 971.87109375, 942.1991577148438, 868.797119140625, 826.7394409179688, 35321.94140625, 7844.80810546875, 17878.6328125, 30563.873046875, 15794.6806640625, 8891.8408203125, 14183.2392578125, 8821.896484375, 5446.1953125, 51651.046875, 29519.126953125, 9066.3642578125, 3232.4091796875, 79006.0546875, 6184.9462890625, 27307.00390625, 27043.166015625, 24170.52734375, 37390.96484375, 54659.82421875, 57099.015625, 8537.2802734375, 18545.423828125, 20028.689453125, 60677.4609375, 278722.625, 23200.92578125, 14406.6767578125, 64000.8828125, 27446.685546875, 23109.486328125, 15352.4228515625, 28482.00390625, 24153.453125, 18875.435546875, 45185.578125, 249025.375, 17682.15234375, 15198.134765625, 6645.703125, 5843.54833984375, 5418.90966796875, 4967.24072265625, 4749.92919921875, 4062.12841796875, 4039.566162109375, 3850.596923828125, 3061.27685546875, 2989.391845703125, 2902.001953125, 2361.589599609375, 2334.17919921875, 1886.16064453125, 1823.763916015625, 1811.42041015625, 1732.1539306640625, 1694.96240234375, 1497.7943115234375, 1476.9749755859375, 1252.622802734375, 1209.2696533203125, 1176.217529296875, 1043.3321533203125, 1020.3289794921875, 997.5679321289062, 882.2586669921875, 3809.635498046875, 3878.936767578125, 3916.821533203125, 4413.8759765625, 19693.39453125, 7001.86474609375, 3109.6474609375, 7976.16259765625, 3019.503662109375, 3372.861572265625, 16713.48828125, 29972.302734375, 14461.5859375, 6157.45166015625, 126647.8984375, 219625.546875, 23109.486328125, 11782.583984375, 12272.669921875, 6801.7900390625, 5591.908203125, 57834.8984375, 11765.279296875, 42549.25, 117998.65625, 9318.0693359375, 15963.8662109375, 27307.00390625, 8214.435546875, 12923.0390625, 45226.01953125, 64000.8828125, 33613.55859375, 107504.859375, 66900.171875, 102136.5625, 11087.431640625, 9984.2685546875, 6039.03564453125, 3799.542724609375, 3721.01806640625, 3643.0556640625, 3370.625244140625, 2389.56494140625, 2021.8714599609375, 1970.6295166015625, 1914.6031494140625, 1722.0482177734375, 1672.954833984375, 1381.337890625, 1226.043212890625, 1201.19677734375, 946.428466796875, 934.6520385742188, 768.4719848632812, 595.9996948242188, 538.6722412109375, 488.87286376953125, 459.29168701171875, 396.029296875, 380.99334716796875, 339.7423400878906, 316.2532653808594, 312.2860107421875, 307.0589904785156, 4230.35205078125, 2006.5517578125, 16064.6884765625, 7765.59619140625, 6051.81103515625, 5009.11767578125, 18411.884765625, 1630.9384765625, 54080.515625, 17063.09765625, 15197.884765625, 3089.0654296875, 7189.4833984375, 22259.65625, 48595.20703125, 40543.8984375, 6867.39306640625, 10971.0791015625, 73560.6640625, 21300.779296875, 15010.3427734375, 11593.58203125, 123948.5078125, 9299.4326171875, 16734.240234375, 15457.859375, 31412.28515625, 10164.0234375, 21426.580078125, 319194.125, 20676.681640625, 82692.328125, 21109.7890625, 32662.302734375, 18268.28515625, 58650.296875, 27362.359375, 35167.6640625, 17334.56640625, 15756.1494140625, 10679.98828125, 7850.5185546875, 7018.52978515625, 6987.166015625, 6924.201171875, 6925.345703125, 6701.36328125, 6626.39208984375, 6605.4296875, 6060.26025390625, 5016.3916015625, 4908.94580078125, 4210.46337890625, 4083.0966796875, 4020.04443359375, 2835.6181640625, 2809.222412109375, 2711.235595703125, 2623.314208984375, 2575.6279296875, 1969.1181640625, 1887.0692138671875, 1775.3297119140625, 1771.90234375, 1743.9451904296875, 1607.2161865234375, 5342.21435546875, 9867.6845703125, 3459.1689453125, 3654.803955078125, 25038.4609375, 38534.5234375, 11676.150390625, 20342.130859375, 5609.05078125, 7700.3837890625, 13686.990234375, 5529.8291015625, 24888.212890625, 9828.935546875, 23231.68359375, 13206.0478515625, 7741.57763671875, 10061.876953125, 142519.3125, 69786.921875, 12360.119140625, 12454.1279296875, 50789.1640625, 89234.8984375, 43367.484375, 4558.2509765625, 2982.65869140625, 1485.01953125, 1325.25146484375, 1187.24609375, 713.9940795898438, 638.9300537109375, 630.0585327148438, 613.248046875, 406.41729736328125, 397.54913330078125, 311.90533447265625, 286.03631591796875, 265.824951171875, 192.84222412109375, 177.3496856689453, 171.0660400390625, 130.59600830078125, 120.83436584472656, 108.81342315673828, 106.20494842529297, 100.63844299316406, 95.9149398803711, 56.9090690612793, 11.971603393554688, 72004.625, 12502.9521484375, 147411.1875, 76432.0078125, 79006.0546875, 66900.171875, 54659.82421875, 6778.884765625, 2540.82568359375, 15794.6806640625, 5384.7060546875, 27145.486328125, 28452.951171875, 27445.3203125, 23569.880859375, 12711.494140625, 6252.31884765625, 4235.3681640625, 2169.84814453125, 2124.68896484375, 1841.9266357421875, 935.2432250976562, 401.57196044921875, 365.0921325683594, 267.9641418457031, 24694.40625, 3791.798828125, 4879.2724609375, 14889.1689453125, 4745.212890625, 1113.2166748046875, 22467.314453125, 1847.609130859375, 3924.248291015625, 5421.0458984375, 6852.40380859375, 4050.344482421875, 15963.8662109375, 7765.5166015625, 3061.33544921875, 3127.062255859375, 20676.681640625, 18685.9296875, 8849.3623046875, 45226.01953125, 18436.5625, 8281.3466796875, 7741.57763671875, 19209.263671875, 45552.76171875, 6612.39697265625, 4728.78125, 3169.8056640625, 2975.63427734375, 2539.8046875, 1919.739501953125, 1099.101318359375, 832.8961181640625, 691.5811157226562, 669.8132934570312, 634.4571533203125, 612.978759765625, 523.5431518554688, 503.1173400878906, 467.57440185546875, 432.7576599121094, 396.4934997558594, 382.1202087402344, 244.3236083984375, 214.36285400390625, 202.02774047851562, 188.0360107421875, 121.05977630615234, 118.83663940429688, 5689.85107421875, 1994.385986328125, 561.602783203125, 1680.2109375, 10304.134765625, 12965.2080078125, 9737.701171875, 8348.8486328125, 9800.052734375, 29972.302734375, 4294.9970703125, 4997.11962890625, 25813.9140625, 13686.990234375, 54080.515625, 14461.5859375, 12272.669921875, 5194.4716796875, 25038.4609375, 7559.1650390625, 18476.208984375, 142519.3125, 6304.79296875, 7920.9443359375, 13973.8837890625, 10036.396484375, 184031.875, 1562.4315185546875, 1284.140625, 1137.753662109375, 852.8275146484375, 766.0211791992188, 707.054931640625, 602.28125, 553.9349365234375, 357.01519775390625, 331.71527099609375, 268.5948791503906, 0.9782663583755493, 0.9704668521881104, 0.9675695896148682, 0.9636713266372681, 0.9635688066482544, 0.9633989930152893, 0.9632685780525208, 0.9631818532943726, 0.9631910920143127, 0.9631727337837219, 0.9631744623184204, 0.9629032611846924, 0.9629120230674744, 0.962852954864502, 0.9628452658653259, 0.9628461599349976, 0.9628510475158691, 0.9628440737724304, 27211.63671875, 13889.7734375, 9944.212890625, 6076.79443359375, 3767.816162109375, 2649.908935546875, 2347.1884765625, 2067.531005859375, 1680.6224365234375, 1667.376220703125, 1603.23193359375, 1519.7799072265625, 1427.7103271484375, 1420.8931884765625, 1320.8515625, 1164.7418212890625, 971.3286743164062, 939.4678955078125, 837.3847045898438, 825.640380859375, 817.2517700195312, 759.3773193359375, 669.9052734375, 632.8294677734375, 571.9993286132812, 545.7432250976562, 378.6852111816406, 375.702880859375, 363.709228515625, 316.5177307128906, 30564.12890625, 4817.5146484375, 27226.80078125, 6208.22998046875, 8103.1259765625, 95324.6015625, 8240.5810546875, 368.8651123046875, 60677.4609375, 0.9782663583755493, 0.9704668521881104, 0.9675695896148682, 0.9636713266372681, 0.9635688066482544, 0.9633989930152893, 0.9632685780525208, 0.9631818532943726, 0.9631910920143127, 0.9631727337837219, 0.9631744623184204, 0.9629032611846924, 0.9629120230674744, 0.962852954864502, 0.9628461599349976, 0.9628452658653259, 0.9628510475158691, 0.9628440737724304, 0.9628426432609558, 0.9628340005874634, 0.9628340005874634, 0.9628365635871887, 0.9628369212150574, 0.9628341794013977, 0.9628317356109619, 0.9628326892852783, 63673.73828125, 48488.546875, 8767.224609375, 1616.41650390625, 579.6136474609375, 314.0899963378906, 299.5611877441406, 291.116943359375, 260.14727783203125, 254.2466278076172, 228.48536682128906, 208.3204803466797, 194.2637481689453, 183.93191528320312, 170.6875457763672, 168.66510009765625, 146.95892333984375, 129.44415283203125, 92.678955078125, 87.12255859375, 84.92926788330078, 63.930641174316406, 58.69902801513672, 47.65138626098633, 42.33652114868164, 31.59044075012207, 0.9782663583755493, 0.9704668521881104, 0.9675695896148682, 0.9636713266372681, 17424.90625, 4818.3798828125, 3042.759765625, 2407.86767578125, 2296.54638671875, 1544.22802734375, 1171.6365966796875, 1037.1395263671875, 773.2665405273438, 761.3810424804688, 751.85009765625, 737.1614990234375, 734.6697387695312, 730.435791015625, 691.1814575195312, 645.1741333007812, 633.74169921875, 631.02587890625, 621.1409301757812, 611.2957153320312, 604.6777954101562, 533.9468383789062, 533.3702392578125, 521.3385620117188, 479.378662109375, 420.40325927734375, 323.3467712402344, 250.3365478515625, 245.04669189453125, 29255.169921875, 31306.58984375, 2690.5126953125, 2282.11181640625, 2182.983154296875, 1626.2459716796875, 1582.8345947265625, 1522.5745849609375, 1299.370849609375, 1192.49609375, 1007.833984375, 0.9628250002861023, 0.9628193378448486, 0.9628174901008606, 0.9628147482872009, 0.9628149271011353, 0.9628155827522278, 0.9628185629844666, 0.9628276824951172, 0.9628206491470337, 0.9628235697746277, 0.9628447890281677, 0.9628148078918457, 0.9628192782402039, 0.9628149271011353, 0.9628117680549622, 0.9628112316131592, 0.9628111720085144, 0.9628116488456726, 0.9628111720085144, 0.9628111720085144, 0.9628111720085144, 0.9628112316131592, 0.9628112316131592, 0.9628113508224487, 0.962811291217804, 0.9628149271011353, 0.9628269672393799, 0.9628266096115112, 0.9628136157989502, 0.9628145098686218, 0.9628377556800842, 0.9628154039382935, 0.9628412127494812, 0.9628147482872009, 0.9628456234931946, 0.9628483653068542, 0.9628446698188782, 0.9635688066482544, 0.9782663583755493, 0.9704668521881104, 0.9675695896148682, 0.9633989930152893, 0.9636713266372681, 0.9631910920143127, 2650.18017578125, 999.9182739257812, 891.0928955078125, 684.53466796875, 527.1989135742188, 510.70855712890625, 485.63623046875, 461.1059265136719, 345.1682434082031, 227.089599609375, 140.199462890625, 138.9170379638672, 0.9628113508224487, 0.9628123044967651, 0.9628136157989502, 0.9628130197525024, 0.9628109931945801, 0.9628104567527771, 0.9628117084503174, 0.9628096222877502, 0.9628164768218994, 0.9628126621246338, 0.9628114700317383, 0.9628166556358337, 0.9628242254257202, 0.9628153443336487, 0.9628121256828308, 0.9628114104270935, 0.9628165364265442, 0.9628122448921204, 0.9628158211708069, 0.9628289341926575, 0.9628201723098755, 0.9628263115882874, 0.9628251194953918, 0.9628188610076904, 0.9628326296806335, 0.9628163576126099, 0.9628390669822693, 0.9628320932388306, 0.9628444910049438, 0.9628456234931946, 0.9628412127494812, 0.9628633260726929, 0.9628422260284424, 0.9628413915634155, 0.9628336429595947, 0.9628483653068542, 0.9628446698188782, 0.9635688066482544, 0.9782663583755493, 0.9704668521881104, 0.9675695896148682, 0.9631910920143127]}, \"plot.opts\": {\"ylab\": \"PC2\", \"xlab\": \"PC1\"}, \"R\": 30, \"lambda.step\": 0.01, \"mdsDat\": {\"y\": [0.08856798221125406, 0.18078537552689947, -0.1716614483798168, -0.0872754507255637, 0.042175756564119884, -0.2068105056933049, -0.17011373412635022, -0.06466074159352915, 0.21329299626454803, 0.15332264398977302, -0.21897929441776492, 0.07741634695644618, 0.18906850918916573, -0.016020376795858566, 0.0005141378289895235, -0.09900201928273832, -0.05720515326279312, 0.04468590882069044, 0.047070494806916316, 0.05482857211891667], \"Freq\": [47.634239196777344, 9.8768892288208, 7.762465000152588, 6.013822078704834, 5.646518707275391, 4.153207302093506, 4.01436185836792, 3.61482310295105, 2.9899260997772217, 2.575282096862793, 1.4626424312591553, 0.781695544719696, 0.7795448303222656, 0.7221736311912537, 0.5035098195075989, 0.5003085136413574, 0.4608236849308014, 0.23965534567832947, 0.21769081056118011, 0.05042002350091934], \"cluster\": [1, 1, 1, 1, 1, 1, 1, 1, 1, 1, 1, 1, 1, 1, 1, 1, 1, 1, 1, 1], \"topics\": [1, 2, 3, 4, 5, 6, 7, 8, 9, 10, 11, 12, 13, 14, 15, 16, 17, 18, 19, 20], \"x\": [0.2213926118145103, 0.17832510274269583, 0.14274097321492876, 0.18427040586788132, 0.16541938557139094, 0.048549716827150674, 0.05989406403582866, 0.14555905396422114, 0.11884562437311993, 0.05384191530518823, 0.008316644825108039, -0.051361268775844515, 0.027549924847626087, -0.15978216635695414, -0.15750687589008544, -0.09511549716729648, -0.09642237729870112, -0.24040840139883665, -0.2707138054726968, -0.2833950310292347]}, \"token.table\": {\"Topic\": [15, 10, 11, 1, 8, 10, 12, 7, 11, 3, 4, 8, 3, 1, 4, 7, 1, 2, 1, 10, 15, 18, 8, 4, 13, 1, 2, 4, 8, 1, 4, 1, 10, 7, 1, 2, 4, 9, 10, 13, 1, 6, 8, 1, 1, 2, 9, 17, 4, 7, 6, 1, 5, 12, 1, 6, 8, 3, 5, 10, 13, 17, 1, 2, 4, 9, 13, 4, 3, 6, 12, 2, 4, 6, 7, 2, 4, 6, 7, 9, 10, 13, 1, 13, 7, 11, 11, 13, 19, 7, 3, 5, 7, 8, 4, 3, 4, 6, 1, 11, 10, 1, 2, 1, 3, 9, 3, 4, 10, 13, 7, 14, 6, 9, 10, 18, 1, 2, 5, 7, 6, 5, 1, 2, 5, 10, 12, 13, 3, 4, 12, 10, 9, 3, 10, 12, 3, 6, 1, 18, 1, 2, 12, 3, 2, 8, 11, 1, 2, 13, 7, 12, 9, 15, 19, 1, 3, 6, 5, 8, 1, 2, 6, 5, 2, 18, 4, 4, 13, 11, 1, 2, 10, 13, 1, 4, 8, 10, 13, 17, 10, 5, 1, 2, 8, 13, 10, 15, 1, 2, 5, 10, 9, 1, 2, 9, 13, 2, 9, 2, 7, 13, 3, 6, 7, 4, 15, 17, 8, 14, 8, 3, 11, 1, 3, 3, 7, 16, 13, 3, 8, 10, 13, 6, 8, 1, 2, 4, 9, 2, 7, 6, 3, 5, 3, 8, 9, 13, 4, 12, 13, 12, 17, 4, 6, 11, 6, 4, 7, 1, 2, 4, 9, 10, 13, 11, 8, 13, 17, 1, 3, 13, 15, 2, 3, 4, 8, 2, 13, 1, 2, 20, 1, 8, 9, 1, 2, 9, 1, 5, 8, 12, 13, 3, 8, 13, 1, 3, 8, 13, 1, 2, 4, 12, 1, 12, 11, 14, 10, 4, 10, 6, 17, 1, 2, 4, 9, 1, 2, 4, 9, 15, 1, 2, 7, 10, 1, 15, 10, 13, 2, 7, 1, 5, 9, 10, 12, 13, 1, 6, 8, 13, 4, 13, 4, 10, 3, 9, 1, 3, 5, 3, 4, 9, 5, 5, 12, 15, 15, 20, 15, 7, 1, 10, 4, 7, 8, 14, 7, 18, 5, 4, 5, 9, 5, 5, 1, 13, 2, 10, 2, 4, 18, 20, 5, 19, 3, 3, 1, 2, 4, 10, 13, 1, 3, 2, 2, 20, 1, 5, 9, 5, 8, 9, 9, 9, 9, 5, 11, 5, 8, 15, 12, 2, 5, 4, 9, 4, 6, 4, 2, 12, 2, 9, 10, 14, 4, 4, 1, 4, 18, 13, 2, 6, 7, 8, 3, 10, 1, 4, 1, 2, 4, 7, 18, 1, 2, 12, 11, 2, 7, 1, 7, 3, 7, 7, 19, 1, 2, 10, 15, 6, 13, 3, 20, 4, 5, 6, 2, 8, 9, 10, 1, 4, 3, 11, 12, 10, 1, 4, 7, 8, 13, 9, 1, 15, 19, 1, 4, 8, 11, 17, 13, 15, 1, 2, 4, 10, 9, 2, 3, 4, 1, 5, 8, 9, 8, 2, 8, 1, 2, 4, 10, 14, 1, 3, 3, 2, 8, 12, 2, 12, 9, 3, 3, 3, 4, 5, 20, 9, 9, 1, 2, 10, 1, 2, 4, 4, 1, 1, 18, 1, 2, 4, 9, 1, 3, 4, 2, 5, 6, 7, 13, 20, 13, 1, 3, 18, 15, 15, 6, 1, 1, 17, 3, 6, 3, 2, 6, 8, 1, 6, 6, 11, 7, 1, 2, 13, 18, 11, 4, 13, 1, 15, 1, 4, 11, 11, 11, 18, 10, 10, 15, 3, 15, 1, 2, 3, 4, 5, 4, 3, 10, 3, 4, 6, 1, 8, 9, 10, 12, 13, 9, 18, 9, 13, 13, 15, 9, 8, 8, 8, 8, 18, 18, 2, 19, 2, 5, 11, 8, 8, 2, 4, 7, 8, 4, 17, 4, 3, 2, 3, 8, 4, 8, 17, 2, 8, 8, 8, 2, 1, 2, 4, 5, 13, 10, 1, 2, 3, 17, 3, 6, 8, 1, 15, 10, 13, 1, 1, 3, 2, 1, 5, 8, 2, 8, 9, 10, 13, 15, 1, 6, 8, 6, 6, 8, 1, 3, 5, 1, 8, 9, 10, 12, 13, 5, 3, 6, 1, 2, 9, 1, 3, 4, 6, 10, 3, 5, 1, 13, 3, 6, 8, 1, 10, 1, 7, 11, 3, 1, 2, 4, 3, 1, 1, 3, 1, 2, 5, 1, 3, 1, 2, 6, 5, 2, 5, 9, 1, 2, 1, 3, 10, 8, 4, 9, 2, 17, 1, 4, 8, 1, 6, 1, 2, 9, 4, 15, 3, 5, 7, 6, 3, 4, 4, 3, 5, 6, 11, 1, 5, 10, 1, 4, 12, 13, 3, 4, 5, 6, 5, 14, 1, 2, 10, 3, 10, 11, 1, 2, 8, 17, 10, 13, 10, 1, 3, 4, 8, 11, 5, 9, 12, 7, 4, 1, 2, 4, 17, 1, 3, 3, 7, 8, 11, 1, 14, 5, 5, 5, 17, 1, 2, 4, 5, 7, 9, 13, 8, 20, 8, 15, 5, 7, 8, 9, 7, 3, 8, 7, 5, 8, 18, 3, 4, 14, 3, 17, 1, 2, 3, 13, 2, 13, 4, 13, 15, 13, 19, 4, 10, 5, 1, 2, 5, 9, 12, 13, 2, 6, 10, 1, 2, 3, 3, 4, 13, 15, 1, 3, 5, 18, 16, 1, 4, 1, 4, 13, 4, 5, 3, 4, 5, 11, 3, 4, 5, 2, 3, 5, 3, 11, 5, 5, 5, 9, 2, 9, 9, 11, 20, 3, 7, 17, 17, 1, 4, 9, 12, 11, 12, 9, 1, 5, 8, 9, 12, 5, 8, 9, 3, 5, 1, 6, 1, 2, 9, 10, 13, 2, 5, 3, 4, 1, 8, 2, 4, 8, 13, 5, 10, 13, 1, 8, 10, 1, 4, 8, 9, 13, 7, 2, 2, 4, 5, 13, 1, 2, 12, 1, 2, 5, 12, 1, 7, 3, 5, 13, 20, 5, 8, 1, 8, 9, 10, 13, 1, 7, 8, 2, 7, 9, 4, 10, 2, 13, 4, 1, 5, 8, 3, 4, 6, 8, 7, 4, 3, 3, 10, 2, 13, 1, 7, 18, 1, 1, 4, 6, 7, 18, 18, 12, 6, 16, 19, 6, 7, 7, 18, 15, 7, 4, 2, 4, 13, 2, 5, 7, 8, 4, 7, 10, 10, 8, 14, 7, 8, 20, 7, 3, 5, 9, 9, 9, 18, 1, 3, 5, 8, 2, 4, 9, 10, 13, 9, 13, 12, 6, 7, 4, 9, 4, 13, 2, 4, 5, 8, 1, 2, 3, 14, 5, 1, 3, 5, 10, 13, 1, 2, 10, 15, 11, 4, 9, 5, 12, 1, 5, 5, 8, 6, 6, 5, 1, 6, 7, 17, 8, 7, 5, 9, 13, 2, 5, 9, 12, 1, 2, 4, 8, 12, 1, 3, 4, 1, 1, 4, 12, 19, 3, 5, 13, 1, 4, 8, 9, 15, 6, 17, 2, 4, 1, 2, 12, 10, 10, 6, 8, 9, 13, 17, 14, 6, 1, 3, 3, 1, 13, 13, 13, 2, 6, 9, 1, 5, 7, 1, 12, 15, 9, 1, 2, 4, 9, 2, 7, 6, 13, 15, 1, 2, 9, 5, 2, 4, 4, 4, 4, 6, 7, 9, 19, 1, 2, 2, 6, 18, 8, 13, 17, 1, 9, 7, 8, 1, 2, 15, 6, 8, 1, 7, 8, 15, 1, 3, 7, 17, 8, 16, 1, 10, 20, 3, 5, 10, 3, 5, 12, 1, 6, 18, 2, 4, 9, 1, 2, 3, 4, 1, 3, 6, 2, 2, 6, 8, 8, 6, 7, 9, 1, 3, 11, 11, 6, 1, 1, 6, 7, 1, 3, 17, 4, 7, 7, 8, 10, 1, 3, 5, 8, 12, 3, 6, 8, 1, 3, 9, 18, 11, 13, 9, 18, 4, 11, 5, 1, 2, 4, 13, 15, 11, 12, 1, 7, 8, 3, 13, 3, 10, 5, 9, 5, 9, 2, 1, 12, 1, 2, 5, 1, 10, 11, 1, 2, 2, 13, 1, 3, 7, 5, 3, 1, 2, 4, 7, 18, 17, 6, 3, 1, 1, 15, 8, 6, 1, 5, 3, 5, 6, 8, 10, 1, 2, 2, 18, 18, 1, 2, 9, 1, 7, 8, 11, 9, 1, 2, 9, 18, 6, 6, 11], \"Freq\": [0.9981905817985535, 0.9999270439147949, 0.9188410043716431, 0.09042084962129593, 0.0498606376349926, 0.7321504950523376, 0.12736421823501587, 0.9998694658279419, 0.9985443353652954, 0.2947022318840027, 0.6110060214996338, 0.09426137804985046, 0.9997133612632751, 0.48797765374183655, 0.30342113971710205, 0.2085852175951004, 0.999565601348877, 0.0004196714435238391, 0.346859335899353, 0.1272440403699875, 0.5255821943283081, 0.9990407824516296, 0.9987231492996216, 0.8716987371444702, 0.12810365855693817, 0.007200418505817652, 0.9927287101745605, 0.02629683166742325, 0.9734933972358704, 0.9998422265052795, 0.00014371743600349873, 0.00930282473564148, 0.9904772043228149, 0.9997327923774719, 0.37399381399154663, 0.09232056885957718, 0.04071655496954918, 0.3078095018863678, 0.17155708372592926, 0.013625242747366428, 0.8120346665382385, 0.02690708637237549, 0.1610526740550995, 0.9999741911888123, 0.242157980799675, 0.7486255168914795, 0.009201418608427048, 0.9999883770942688, 0.999444305896759, 0.9991055727005005, 0.9995469450950623, 0.033270835876464844, 0.9453743696212769, 0.021203693002462387, 0.8330327272415161, 0.12758158147335052, 0.039354436099529266, 0.18612302839756012, 0.29861584305763245, 0.49204570055007935, 0.02320515736937523, 0.9989413022994995, 0.05454764887690544, 0.04682006314396858, 0.762108564376831, 0.13578468561172485, 0.0007143144612200558, 0.9997713565826416, 0.31243380904197693, 0.43267446756362915, 0.2545520067214966, 0.13997790217399597, 0.18589898943901062, 0.055105309933423996, 0.6189250946044922, 0.09617956727743149, 0.003956637345254421, 0.003549880115315318, 0.7174085974693298, 0.12043707817792892, 0.05546687915921211, 0.002995211398229003, 0.7138358354568481, 0.2858808636665344, 0.7489046454429626, 0.25108203291893005, 0.9886544942855835, 0.994490385055542, 0.9997146129608154, 0.9992045164108276, 0.37396135926246643, 0.16355344653129578, 0.4624602198600769, 0.9998043775558472, 0.9992913007736206, 0.25958120822906494, 0.25717324018478394, 0.4830425977706909, 0.9999805688858032, 0.9963769912719727, 0.9999074935913086, 0.9956010580062866, 0.004388035740703344, 0.9968475103378296, 0.0031332855578511953, 0.9998285174369812, 0.35194191336631775, 0.011029518209397793, 0.10204232484102249, 0.5348159670829773, 0.9991036653518677, 0.9990296959877014, 0.9999979138374329, 0.004458999261260033, 0.9953702688217163, 0.9981861114501953, 0.13354460895061493, 0.8664113283157349, 0.9999112486839294, 0.999783992767334, 0.9997912049293518, 0.9997003674507141, 0.10661522299051285, 0.48997193574905396, 0.24545449018478394, 0.08058612048625946, 0.057888735085725784, 0.01952183060348034, 0.24031056463718414, 0.3160841763019562, 0.4432755708694458, 0.9997401833534241, 0.9960371255874634, 0.9999803900718689, 0.9998265504837036, 0.9999626278877258, 0.9999926686286926, 0.9995209574699402, 0.9999486804008484, 0.999639630317688, 0.29789942502975464, 0.21738246083259583, 0.4846596121788025, 0.9999520182609558, 0.9518941044807434, 0.0480869859457016, 0.9983199238777161, 0.29591625928878784, 0.6517730951309204, 0.052286867052316666, 0.999025821685791, 0.9986706972122192, 0.999710202217102, 0.9992315769195557, 0.999622642993927, 0.677950918674469, 0.32203787565231323, 0.9995567202568054, 0.7219398617744446, 0.27805426716804504, 0.11212095618247986, 0.0412219800055027, 0.8466513156890869, 0.9999772906303406, 0.6097384095191956, 0.39022162556648254, 0.9998435974121094, 0.9998146295547485, 0.9912458658218384, 0.9956325888633728, 0.2861427068710327, 0.15544044971466064, 0.33165037631988525, 0.22661232948303223, 0.5740838050842285, 0.14776775240898132, 0.19358259439468384, 0.07993797957897186, 0.004611234646290541, 0.9888434410095215, 0.9992510080337524, 0.9998084902763367, 0.07227694988250732, 0.22024127840995789, 0.6941698789596558, 0.013282684609293938, 0.010829688981175423, 0.9891660809516907, 0.0024231323041021824, 0.040814634412527084, 0.3701334595680237, 0.5865494608879089, 0.9990037083625793, 0.06446922570466995, 0.042201001197099686, 0.8550455570220947, 0.03823617100715637, 0.38788703083992004, 0.6119765043258667, 0.0037087430246174335, 0.9962645769119263, 0.9989979863166809, 0.1386857032775879, 0.1943543255329132, 0.6669129729270935, 0.9993747472763062, 0.998364269733429, 0.9978757500648499, 0.9994322061538696, 0.9978726506233215, 0.9998942017555237, 0.9997823238372803, 0.999989926815033, 0.9680978655815125, 0.03189434856176376, 0.0014008496655151248, 0.4529029428958893, 0.5456886291503906, 0.9987715482711792, 0.0011407460551708937, 0.5715137720108032, 0.24428261816501617, 0.18292677402496338, 0.06848783791065216, 0.9312567114830017, 0.04324204474687576, 0.048581745475530624, 0.9081305861473083, 0.9971876740455627, 0.9999723434448242, 0.999685525894165, 0.9996417164802551, 0.6786132454872131, 0.3213534951210022, 0.2852190434932709, 0.7146648168563843, 0.9759714007377625, 0.023951798677444458, 0.4152733087539673, 0.3088626265525818, 0.27577900886535645, 0.9996757507324219, 0.9991236925125122, 0.7703332304954529, 0.008703496307134628, 0.22083278000354767, 0.9996417164802551, 0.15988698601722717, 0.8399630784988403, 0.34675097465515137, 0.09095869958400726, 0.002324327826499939, 0.23254899680614471, 0.14639391005039215, 0.1809876710176468, 0.9986187219619751, 0.9811962246894836, 0.018636953085660934, 0.9934749007225037, 0.2921683192253113, 0.32978999614715576, 0.37801775336265564, 0.9996569752693176, 0.999872088432312, 0.9200184941291809, 0.026698363944888115, 0.05321754515171051, 0.9999489784240723, 0.9987553358078003, 0.9900891184806824, 0.009897853247821331, 0.9966154098510742, 0.3048573136329651, 0.05849819257855415, 0.6365979909896851, 0.7636862993240356, 0.08503811806440353, 0.15125949680805206, 0.2601500153541565, 0.03100752644240856, 0.3779786229133606, 0.3068179190158844, 0.02399168163537979, 0.08134176582098007, 0.6255441904067993, 0.29307058453559875, 0.1394037902355194, 0.000276594830211252, 0.6898275017738342, 0.1704515665769577, 0.24515564739704132, 0.2846314311027527, 0.06437872350215912, 0.4056412875652313, 0.3791189193725586, 0.6208361983299255, 0.9937682747840881, 0.997785210609436, 0.9994333982467651, 0.06774764508008957, 0.9320650100708008, 0.9993189573287964, 0.9854429364204407, 0.06289573758840561, 0.05337512865662575, 0.8491919636726379, 0.03453294560313225, 0.28976765275001526, 0.08908965438604355, 0.5635448694229126, 0.05753976106643677, 0.9995024800300598, 0.16248919069766998, 0.8374519348144531, 0.9997271299362183, 0.9997562170028687, 0.9999858736991882, 0.9986486434936523, 0.7954269051551819, 0.20450076460838318, 0.9999666810035706, 0.9987943172454834, 0.5199174284934998, 0.03180375322699547, 0.3819734454154968, 0.0662350058555603, 0.9999611377716064, 0.9992794394493103, 0.6609060168266296, 0.00366117968223989, 0.13786235451698303, 0.19757744669914246, 0.973504364490509, 0.026310928165912628, 0.8337470293045044, 0.16612868010997772, 0.999899685382843, 0.9994292259216309, 0.0010316359112039208, 0.13113239407539368, 0.8677968978881836, 0.006915508769452572, 0.18232327699661255, 0.8106968998908997, 0.9999338984489441, 0.9999778866767883, 0.9970086216926575, 0.9986381530761719, 0.9993553161621094, 0.9952018857002258, 0.9994868040084839, 0.9987272620201111, 0.15160652995109558, 0.8483378887176514, 0.18232949078083038, 0.7273320555686951, 0.09027523547410965, 0.9993376135826111, 0.9998366236686707, 0.9946609735488892, 0.9994718432426453, 0.9989265203475952, 0.19917981326580048, 0.8006138801574707, 0.9998525381088257, 0.9997761845588684, 0.9999735355377197, 0.997068464756012, 0.12363020330667496, 0.8761900663375854, 0.9999659657478333, 0.99907386302948, 0.9994033575057983, 0.9986125826835632, 0.9998674988746643, 0.999512791633606, 0.9998045563697815, 0.9999193549156189, 0.291522741317749, 0.15526601672172546, 0.522089421749115, 0.02858409844338894, 0.002490148413926363, 0.31237420439720154, 0.6875518560409546, 0.9998966455459595, 0.9999722838401794, 0.9933986663818359, 0.3031562864780426, 0.46482062339782715, 0.23200686275959015, 0.7914196848869324, 0.06857595592737198, 0.13999928534030914, 0.9996849894523621, 0.9998571872711182, 0.9982145428657532, 0.9992628693580627, 0.9904609322547913, 0.20268124341964722, 0.7970830202102661, 0.9981862306594849, 0.9999518990516663, 0.9998932480812073, 0.9996694922447205, 0.007091608364135027, 0.9925887584686279, 0.5747575163841248, 0.4250369369983673, 0.9995459914207458, 0.17300495505332947, 0.8267843723297119, 0.12464700639247894, 0.7371065020561218, 0.13804364204406738, 0.9985079765319824, 0.999856173992157, 0.9995190501213074, 0.9760929346084595, 0.023901764303445816, 0.9983742833137512, 0.99295973777771, 0.0876036286354065, 0.9120060205459595, 0.7442046999931335, 0.2557585537433624, 0.4877784550189972, 0.5121309757232666, 0.41350388526916504, 0.5864065289497375, 0.999949038028717, 0.24522161483764648, 0.4239129424095154, 0.33082276582717896, 0.9999479651451111, 0.5635169148445129, 0.14924956858158112, 0.2870382070541382, 0.9954362511634827, 0.999893069267273, 0.9990825057029724, 0.4096217751502991, 0.5903604626655579, 0.6987779140472412, 0.30120858550071716, 0.9999198913574219, 0.9995839595794678, 0.6067550778388977, 0.12377510219812393, 0.0025342677254229784, 0.26690614223480225, 0.9991485476493835, 0.9936423301696777, 0.9999375343322754, 0.9992189407348633, 0.901591956615448, 0.023017076775431633, 0.0752866268157959, 0.26747941970825195, 0.08054931461811066, 0.6519417762756348, 0.9997225999832153, 0.6653470396995544, 0.33465075492858887, 0.9998306632041931, 0.9923896789550781, 0.9996769428253174, 0.9992433190345764, 0.5673984289169312, 0.0004531187587417662, 0.3147456645965576, 0.1173890084028244, 0.9998347759246826, 0.9974009394645691, 0.9999805688858032, 0.9996296167373657, 0.9998094439506531, 0.2002834975719452, 0.48741281032562256, 0.09345267713069916, 0.21883352100849152, 0.9981266260147095, 0.6517061591148376, 0.3472205102443695, 0.3167226314544678, 0.21870993077754974, 0.002754858462139964, 0.461740106344223, 0.999814510345459, 0.31421959400177, 0.13036349415779114, 0.5553722381591797, 0.1296498030424118, 0.2743949890136719, 0.595902144908905, 0.9990314245223999, 0.9997503161430359, 0.07612258195877075, 0.9237539172172546, 0.07668312638998032, 0.07744261622428894, 0.8458763360977173, 0.99993497133255, 0.9991117715835571, 0.12479149550199509, 0.8751780986785889, 0.9999616742134094, 0.7588597536087036, 0.02445690520107746, 0.21663358807563782, 0.6167178750038147, 0.38322317600250244, 0.9965511560440063, 0.9997986555099487, 0.9998946785926819, 0.0031914266292005777, 0.21382558345794678, 0.7829633355140686, 0.9976015686988831, 0.9997636079788208, 0.9995473027229309, 0.9997048377990723, 0.00029272481333464384, 0.9998073577880859, 0.9211775660514832, 0.04792943596839905, 0.030890055000782013, 0.999546229839325, 0.9999948143959045, 0.9999933838844299, 0.9974309802055359, 0.0948740765452385, 0.48826366662979126, 0.018841592594981194, 0.39801162481307983, 0.9999715685844421, 0.34815067052841187, 0.6518206596374512, 0.1935267597436905, 0.008016921579837799, 0.1975352168083191, 0.5819595456123352, 0.018921658396720886, 0.9987735152244568, 0.9999832510948181, 0.6458371877670288, 0.35415542125701904, 0.9988692998886108, 0.9986321330070496, 0.9980500340461731, 0.9993159174919128, 0.9999827742576599, 0.9999613165855408, 0.9880912899971008, 0.9999791979789734, 0.9999781250953674, 0.9998602271080017, 0.9998764395713806, 0.4565271735191345, 0.5433967113494873, 0.7267011404037476, 0.2732465863227844, 0.9573410153388977, 0.042527854442596436, 0.9992106556892395, 0.2735518217086792, 0.7245543599128723, 0.0018739717779681087, 0.9997135996818542, 0.9936560988426208, 0.9992520213127136, 0.9987857937812805, 0.9999754428863525, 0.9992243647575378, 0.015903623774647713, 0.9840887188911438, 0.9989504218101501, 0.9997255802154541, 0.999988853931427, 0.9997620582580566, 0.9999673366546631, 0.9995442628860474, 0.9993714094161987, 0.9997661113739014, 0.9997833967208862, 0.29118478298187256, 0.07717783004045486, 0.23409390449523926, 0.2660684585571289, 0.13143397867679596, 0.9998839497566223, 0.999904215335846, 0.9997314214706421, 0.9770897626876831, 0.022723017260432243, 0.9999561905860901, 0.2119295597076416, 0.08802185952663422, 0.3658711016178131, 0.044494565576314926, 0.24626775085926056, 0.043382201343774796, 0.9993913173675537, 0.9978803992271423, 0.9602489471435547, 0.039727553725242615, 0.99491286277771, 0.9998780488967896, 0.9999610781669617, 0.9997501969337463, 0.9998449683189392, 0.9989649057388306, 0.9994306564331055, 0.9982267022132874, 0.9988296627998352, 0.9999769926071167, 0.9995496273040771, 0.9999568462371826, 0.9998815059661865, 0.999313473701477, 0.9998598694801331, 0.9997221827507019, 0.9998703598976135, 0.05154910683631897, 0.6782265901565552, 0.2702014148235321, 0.9994747638702393, 0.9965296983718872, 0.9997590780258179, 0.9999210834503174, 0.9999610781669617, 0.24052612483501434, 0.7593114376068115, 0.9445952773094177, 0.05521642416715622, 0.987115204334259, 0.9999266266822815, 0.9999061822891235, 0.9999348521232605, 0.9993398785591125, 0.9999068379402161, 0.45040789246559143, 0.07527805864810944, 0.08206510543823242, 0.37074732780456543, 0.02148585394024849, 0.9999339580535889, 0.44407790899276733, 0.5559064745903015, 0.99995356798172, 0.9936612844467163, 0.0915425717830658, 0.3452431857585907, 0.5632067918777466, 0.9999806880950928, 0.9999765753746033, 0.8885929584503174, 0.11138863861560822, 0.9999791979789734, 0.99993896484375, 5.644525299430825e-05, 0.9997714161872864, 0.894015371799469, 0.04096559062600136, 0.06501101702451706, 0.0017381490906700492, 0.053179968148469925, 0.773439347743988, 0.07046899944543839, 0.10116397589445114, 0.9997431635856628, 0.05742109566926956, 0.027832932770252228, 0.9147256016731262, 0.9996870160102844, 0.04272225499153137, 0.9567797780036926, 0.702174723148346, 0.0018264043610543013, 0.29597464203834534, 0.14360976219177246, 0.1755334883928299, 0.5300744771957397, 0.09511388838291168, 0.04243976250290871, 0.013238952495157719, 0.9996029734611511, 0.33994126319885254, 0.6599867939949036, 0.442609965801239, 0.490132600069046, 0.06724995374679565, 0.9984793663024902, 0.0015048048226162791, 0.1434984654188156, 0.6470876336097717, 0.20925840735435486, 0.6926645636558533, 0.3073004186153412, 0.26323890686035156, 0.7360661625862122, 0.6725351214408875, 0.06952549517154694, 0.25792384147644043, 0.15868887305259705, 0.8412715792655945, 0.9999651908874512, 0.9617794752120972, 0.038177408277988434, 0.9998686909675598, 0.9999560117721558, 0.9999322891235352, 0.9996057152748108, 0.9999704360961914, 0.9999675750732422, 0.9982661008834839, 0.001727103954181075, 0.5044660568237305, 0.025040453299880028, 0.47048622369766235, 0.6310133337974548, 0.36896079778671265, 0.19408734142780304, 0.8058608174324036, 0.9994271397590637, 0.9996833801269531, 0.026911640539765358, 0.20483113825321198, 0.7681990265846252, 0.9219611883163452, 0.07803613692522049, 0.3376113772392273, 0.5360198616981506, 0.1263655424118042, 0.9993846416473389, 0.0029902043752372265, 0.9967347979545593, 0.9999619722366333, 0.9955899119377136, 0.6740094423294067, 0.28684043884277344, 0.03914204239845276, 0.9999753832817078, 0.9997814297676086, 0.9377394318580627, 0.05660099908709526, 0.005648656748235226, 0.9994699358940125, 0.9994936585426331, 0.34983494877815247, 0.26069092750549316, 0.3894388973712921, 0.9999332427978516, 0.9997864961624146, 0.9993183016777039, 0.9992831945419312, 0.03369228169322014, 0.045524854212999344, 0.03292844071984291, 0.8878457546234131, 0.007455377373844385, 0.9919575452804565, 0.9994580149650574, 0.7347827553749084, 0.10278082638978958, 0.03523449972271919, 0.12719058990478516, 0.2088838517665863, 0.501247227191925, 0.04124382883310318, 0.24861767888069153, 0.9998320937156677, 0.9971564412117004, 0.22148625552654266, 0.7785012125968933, 0.9997965693473816, 0.999779224395752, 0.9997920393943787, 0.9965127110481262, 0.9083719253540039, 0.09161916375160217, 0.9999253153800964, 0.9813095331192017, 0.8869361877441406, 0.11296531558036804, 0.9994321465492249, 0.5215968489646912, 0.10896839201450348, 0.31515368819236755, 0.04744803532958031, 0.006815129425376654, 0.11136125028133392, 0.056612011045217514, 0.8320102691650391, 0.9998602867126465, 0.9999263882637024, 0.8742009997367859, 0.05845850706100464, 0.06733307987451553, 0.9890583157539368, 0.999308168888092, 0.0006799845723435283, 0.26251456141471863, 0.6065332293510437, 0.025960566475987434, 0.10497655719518661, 0.999961793422699, 0.9978437423706055, 0.999806821346283, 0.9997381567955017, 0.9996567964553833, 0.9959719181060791, 0.12224823236465454, 0.3293575644493103, 0.00705348514020443, 0.0956423357129097, 0.17651987075805664, 0.24541012942790985, 0.023755261674523354, 0.999215841293335, 0.9986898899078369, 0.9993337988853455, 0.9984683394432068, 0.05150748789310455, 0.20271511375904083, 0.5292692184448242, 0.2164844423532486, 0.99968022108078, 0.9997357130050659, 0.9989500641822815, 0.9999750852584839, 0.966558575630188, 0.03319067507982254, 0.9989013075828552, 0.14350168406963348, 0.8562605977058411, 0.9983121752738953, 0.9998254776000977, 0.9950968027114868, 0.2460046261548996, 0.5166196823120117, 0.08040734380483627, 0.1567295640707016, 0.5062973499298096, 0.493600994348526, 0.18348458409309387, 0.8163658380508423, 0.9999443292617798, 0.9977791905403137, 0.9994727373123169, 0.9999849200248718, 0.9995648860931396, 0.9999889731407166, 0.31656941771507263, 0.07556035369634628, 0.22686775028705597, 0.35833996534347534, 0.003313641296699643, 0.01936846598982811, 0.9999860525131226, 0.0020236074924468994, 0.997638463973999, 0.9216857552528381, 0.07829966396093369, 1.1446064490883145e-05, 0.03937699273228645, 0.9601036906242371, 0.9982492327690125, 0.9998692870140076, 0.1972750872373581, 0.8026567697525024, 0.9998520612716675, 0.9994566440582275, 0.9976546764373779, 0.9914148449897766, 0.008576330728828907, 0.4502089321613312, 0.048471398651599884, 0.5012476444244385, 0.19352823495864868, 0.8064571022987366, 0.11495735496282578, 0.12078458815813065, 0.03203284740447998, 0.7322171330451965, 0.13583041727542877, 0.5066297054290771, 0.35753411054611206, 0.09755604714155197, 0.23238657414913177, 0.6700442433357239, 0.16979989409446716, 0.8301239609718323, 0.9998857378959656, 0.9994173645973206, 0.5094496011734009, 0.49049481749534607, 0.02782500348985195, 0.97213214635849, 0.9995689988136292, 0.9979648590087891, 0.9990816712379456, 0.03837864473462105, 0.9615927934646606, 0.9926741123199463, 0.9934946894645691, 0.4144030213356018, 0.002675160998478532, 0.5673398971557617, 0.015577668324112892, 0.9970974326133728, 0.9997890591621399, 0.9978150129318237, 0.5639674067497253, 0.09450311958789825, 0.16079239547252655, 0.09220355749130249, 0.08853310346603394, 0.707695484161377, 0.20694312453269958, 0.08525913953781128, 0.8658651113510132, 0.13403308391571045, 0.9996095299720764, 0.0003882827004417777, 0.03374647721648216, 0.09966525435447693, 0.5663111805915833, 0.24173498153686523, 0.05834303796291351, 0.9999180436134338, 0.9999645948410034, 0.049987319856882095, 0.9497590661048889, 0.5780373811721802, 0.42188218235969543, 0.8291977047920227, 0.056221526116132736, 0.04231967777013779, 0.07224494218826294, 0.2422439306974411, 0.754608690738678, 0.003052212530747056, 0.9999679923057556, 0.9995811581611633, 0.9994907379150391, 0.30892032384872437, 0.003930623177438974, 0.10832531005144119, 0.5718057155609131, 0.00706179765984416, 0.9992230534553528, 0.9999113082885742, 0.9646458625793457, 0.03527921065688133, 0.9999686479568481, 0.9991597533226013, 0.3672108054161072, 0.4880848824977875, 0.14454171061515808, 0.4665873050689697, 0.05593623220920563, 0.2809242010116577, 0.19651132822036743, 0.05856813117861748, 0.9413917064666748, 0.8830763697624207, 0.11686411499977112, 0.999683141708374, 0.9977259039878845, 0.02474904991686344, 0.9750094413757324, 0.23415108025074005, 0.11149369925260544, 0.28882449865341187, 0.23672731220722198, 0.12874016165733337, 0.295925498008728, 0.6543613076210022, 0.049678735435009, 0.49397537112236023, 0.5060015916824341, 0.9993023872375488, 0.9998176097869873, 0.9997820258140564, 0.6016302108764648, 0.398137629032135, 0.9993816018104553, 0.5566995143890381, 0.44324156641960144, 0.9986975193023682, 0.08297018706798553, 0.3860150873661041, 0.16696684062480927, 0.36403289437294006, 0.9997710585594177, 0.9996693730354309, 0.9999288320541382, 0.9999876022338867, 0.9997898936271667, 0.9854292273521423, 0.014548297971487045, 0.34655430912971497, 0.6534199118614197, 0.9992047548294067, 0.9999867677688599, 0.30746039748191833, 0.6879416108131409, 0.004582146182656288, 0.9987682104110718, 0.9974324703216553, 0.9981631636619568, 0.9964019656181335, 0.998923659324646, 0.9999936819076538, 0.9991725087165833, 0.05214298143982887, 0.9477553963661194, 0.9996712803840637, 0.9982906579971313, 0.9991745948791504, 0.999283492565155, 0.9990330338478088, 0.6236525177955627, 0.1456035077571869, 0.2306181937456131, 0.03403327986598015, 0.36876460909843445, 0.0030553569085896015, 0.5940971970558167, 0.10363873094320297, 0.8962082862854004, 0.9998331069946289, 0.9998056888580322, 0.9999944567680359, 0.999995231628418, 0.49343371391296387, 0.5065019726753235, 0.9995546936988831, 0.9992871880531311, 0.009935212321579456, 0.31783565878868103, 0.6722219586372375, 0.999726414680481, 0.9998729228973389, 0.995728611946106, 0.15494342148303986, 0.30643412470817566, 0.4828246533870697, 0.0557725764811039, 0.28139910101890564, 0.11001395434141159, 0.5025026202201843, 0.04804520308971405, 0.05802474543452263, 0.9602084159851074, 0.03965755179524422, 0.999609112739563, 0.0014022012474015355, 0.9984948039054871, 0.05886181443929672, 0.9405627846717834, 0.44399186968803406, 0.5552874207496643, 0.23678474128246307, 0.4914413392543793, 0.24951061606407166, 0.022183358669281006, 0.06900999695062637, 0.76381516456604, 0.16715620458126068, 0.9997237920761108, 0.9998681545257568, 0.777326226234436, 0.026761285960674286, 0.046070948243141174, 0.11681925505399704, 0.03301306813955307, 0.00019877006707247347, 0.36971232295036316, 0.6300017237663269, 0.9982529282569885, 0.9925246238708496, 0.7489061951637268, 0.251084566116333, 0.4401658773422241, 0.5587411522865295, 0.32961076498031616, 0.6703740358352661, 0.10470516234636307, 0.895274817943573, 0.9999960064888, 0.9996075630187988, 0.9999547600746155, 0.7553566694259644, 2.1526777345570736e-05, 0.2446231245994568, 0.9949333667755127, 0.998573362827301, 0.9996200799942017, 0.8768958449363708, 0.12303095310926437, 0.9997458457946777, 0.20309622585773468, 0.13174498081207275, 0.23010776937007904, 0.43498775362968445, 0.0013432583073154092, 0.29887497425079346, 0.010746066458523273, 0.041976820677518845, 0.6470475196838379, 0.8143947720527649, 0.13694824278354645, 0.04865032434463501, 0.9999904036521912, 0.6052913665771484, 0.11661577224731445, 0.27798324823379517, 0.9992338418960571, 0.14745238423347473, 0.8524706959724426, 0.9984032511711121, 0.14351916313171387, 0.13417673110961914, 0.03189314901828766, 0.30008554458618164, 0.3901273012161255, 0.9997438788414001, 0.9961632490158081, 0.9466904401779175, 0.0532502681016922, 0.8111056685447693, 0.09991016238927841, 0.08889943361282349, 0.9999245405197144, 0.9994990229606628, 0.9996756315231323, 0.06668683886528015, 0.8840861916542053, 0.04855837672948837, 0.9863301515579224, 0.9986668825149536, 0.9993340373039246, 0.24326126277446747, 0.7567234039306641, 0.9996985197067261, 0.5920376181602478, 0.4079569876194, 0.9989240765571594, 0.9996147751808167, 0.03293545916676521, 0.9556819200515747, 0.011347511783242226, 0.7749817967414856, 0.012304810807108879, 0.21270060539245605, 0.22441869974136353, 0.7755254507064819, 0.99812912940979, 0.9973927736282349, 0.594835638999939, 0.0533403642475605, 0.3400095999240875, 0.011795265600085258, 0.04333300516009331, 0.9564475417137146, 0.9990049004554749, 0.9997868537902832, 0.9995019435882568, 0.18076921999454498, 0.4697820544242859, 0.34941136837005615, 0.9995232820510864, 0.3156164884567261, 0.6843229532241821, 0.9999210238456726, 0.9999555349349976, 0.999180793762207, 0.9997621774673462, 0.9999509453773499, 0.9983226656913757, 0.999981164932251, 0.32180872559547424, 0.6781775951385498, 0.9998054504394531, 0.9994324445724487, 0.9958348870277405, 0.9995027780532837, 0.9989625215530396, 0.9684309959411621, 0.999979555606842, 0.9999945163726807, 0.9887221455574036, 0.01124247070401907, 0.9999945163726807, 0.9998928904533386, 0.9986892938613892, 0.03783522546291351, 0.961966335773468, 0.006436504889279604, 0.9012800455093384, 0.09224527329206467, 0.9983463883399963, 0.31538817286491394, 0.6845623254776001, 0.9998521208763123, 0.9999887347221375, 0.9996547102928162, 0.9999294877052307, 0.09313126653432846, 0.9067187905311584, 0.9914445877075195, 0.006462528835982084, 0.8341391086578369, 0.15938515961170197, 0.455874502658844, 0.54409259557724, 0.9985756874084473, 0.9814121723175049, 0.018584268167614937, 0.9981801509857178, 0.3792925775051117, 0.05833183601498604, 0.5623534321784973, 0.8951359391212463, 0.09169714897871017, 0.011074872687458992, 0.00207708403468132, 0.995477020740509, 0.004117085598409176, 0.0003945540520362556, 0.9999910593032837, 0.999988317489624, 0.9992552399635315, 0.9994947910308838, 0.9998321533203125, 0.03217414394021034, 0.9676992893218994, 0.9987520575523376, 0.587868869304657, 0.008164118975400925, 0.40396687388420105, 0.9986076951026917, 0.9999521970748901, 0.9999949336051941, 0.9999956488609314, 0.04532244801521301, 0.9545829892158508, 0.9999257922172546, 6.34873504168354e-05, 0.9998603463172913, 0.11643519997596741, 0.8835638761520386, 0.9996479749679565, 0.9995344281196594, 0.9998899698257446, 0.42748215794563293, 0.16396088898181915, 0.1131061464548111, 0.29307153820991516, 0.0023767726961523294, 0.7807208895683289, 0.13362912833690643, 0.08559627830982208, 0.9992675185203552, 0.0007147206924855709, 0.9996805787086487, 0.9983620643615723, 0.9968966245651245, 0.9945825338363647, 0.9993858337402344, 0.9971240758895874, 0.9996180534362793, 0.9840259552001953, 0.9996412396430969, 0.679816722869873, 0.07094437628984451, 0.2336806058883667, 0.015545140951871872, 0.999363124370575, 0.9930949807167053, 0.9994969367980957, 0.060493938624858856, 0.9394186735153198, 0.9995828866958618, 0.4517603814601898, 0.5481294989585876, 0.0003743765992112458, 0.9993982911109924, 0.688221275806427, 0.3117665648460388, 0.9963063597679138, 0.003676787717267871, 0.9999157190322876, 0.9999765157699585, 0.999966561794281, 0.997812807559967, 0.00012248611892573535, 0.002055044984444976, 0.2766369879245758, 0.7233142852783203, 0.9990556836128235, 0.9999917149543762, 0.9999107718467712, 0.9998646378517151, 0.999788761138916, 0.07792635262012482, 0.9220036268234253, 0.9997842311859131, 0.9994609951972961, 0.9998631477355957, 0.9554581642150879, 0.04430152103304863, 0.000231425859965384, 0.9997721910476685, 0.998879075050354, 0.9960566759109497, 0.9998653531074524, 0.999975323677063, 0.99998539686203, 0.9024912118911743, 0.09736982733011246, 0.9994696974754333, 0.9999886155128479, 0.0011076809605583549, 0.9988765120506287, 0.6693084239959717, 0.3306823968887329, 0.03923274204134941, 0.960237443447113, 0.9999811053276062, 0.6766113638877869, 0.3233766555786133, 0.9999199509620667, 0.9990884065628052, 0.9984243512153625, 0.8740825057029724, 0.05522657930850983, 0.07068739086389542, 0.5358654260635376, 0.4362109303474426, 0.027863509953022003, 0.9997791647911072, 0.9991491436958313, 0.6236633658409119, 0.3763357400894165, 0.995881974697113, 0.9997503161430359, 0.9993089437484741, 0.7430655360221863, 0.2566094994544983], \"Term\": [\"abide\", \"abortion\", \"abundance\", \"abuse\", \"abuse\", \"abuse\", \"abuse\", \"accusation\", \"achieve\", \"action\", \"action\", \"action\", \"actor\", \"actual\", \"actual\", \"actual\", \"actually\", \"actually\", \"adult\", \"adult\", \"adult\", \"advertisement\", \"adviser\", \"advocate\", \"advocate\", \"afford\", \"afford\", \"agent\", \"agent\", \"agree\", \"agree\", \"alive\", \"alive\", \"allegedly\", \"allow\", \"allow\", \"allow\", \"allow\", \"allow\", \"allow\", \"already\", \"already\", \"already\", \"always\", \"amount\", \"amount\", \"amount\", \"amp\", \"analysis\", \"ancestor\", \"angle\", \"announce\", \"announce\", \"announce\", \"answer\", \"answer\", \"answer\", \"anti\", \"anti\", \"anti\", \"anti\", \"appearance\", \"apply\", \"apply\", \"apply\", \"apply\", \"apply\", \"approach\", \"appropriate\", \"appropriate\", \"appropriate\", \"argue\", \"argue\", \"argue\", \"argue\", \"argument\", \"argument\", \"argument\", \"argument\", \"argument\", \"argument\", \"argument\", \"arm\", \"arm\", \"article\", \"article\", \"artist\", \"assault_weapon\", \"assemble\", \"assertion\", \"attack\", \"attack\", \"attack\", \"attorney\", \"authoritarian\", \"aware\", \"aware\", \"aware\", \"away\", \"axio\", \"baby\", \"back\", \"back\", \"bad\", \"bad\", \"ballot\", \"ban\", \"ban\", \"ban\", \"ban\", \"baseless\", \"bat\", \"be\", \"bear\", \"bear\", \"believer\", \"benefit\", \"benefit\", \"bernie\", \"bias\", \"biased\", \"biden\", \"bill\", \"bill\", \"bill\", \"bill\", \"bill\", \"bill\", \"bipartisan\", \"bipartisan\", \"bipartisan\", \"birth\", \"bitching\", \"black\", \"body\", \"border\", \"bot\", \"briefing\", \"bring\", \"buddy\", \"build\", \"build\", \"build\", \"bullshit\", \"business\", \"business\", \"businessinsider\", \"buy\", \"buy\", \"buy\", \"buzzfeed\", \"bypass\", \"ca\", \"cage\", \"calculation\", \"call\", \"call\", \"calm\", \"campaign\", \"campaign\", \"can\", \"can\", \"can\", \"candidate\", \"cap\", \"cap\", \"capitalism\", \"capitalist\", \"capitalistic\", \"carefully\", \"carry\", \"carry\", \"carry\", \"carry\", \"case\", \"case\", \"case\", \"case\", \"case\", \"cattle\", \"cell\", \"centrist\", \"charge\", \"charge\", \"charge\", \"charge\", \"child\", \"child\", \"choice\", \"choice\", \"choice\", \"choice\", \"circumvent\", \"citizen\", \"citizen\", \"citizen\", \"citizen\", \"city\", \"city\", \"claim\", \"claim\", \"clause\", \"clearly\", \"clearly\", \"clearly\", \"climate_change\", \"clothing\", \"coin\", \"collude\", \"colluding\", \"collusion\", \"color\", \"com\", \"come\", \"come\", \"comment\", \"comment\", \"comment\", \"commission\", \"commit\", \"commit\", \"commit\", \"commit\", \"committee\", \"committee\", \"community\", \"community\", \"community\", \"compact\", \"company\", \"conclusion\", \"consent\", \"conservative\", \"conservative\", \"conspiracy\", \"conspiracy\", \"constitution\", \"constitution\", \"constitutional\", \"constitutional\", \"constitutional\", \"construction\", \"contact\", \"contain\", \"contain\", \"contain\", \"contempt\", \"context\", \"context\", \"control\", \"control\", \"control\", \"control\", \"control\", \"control\", \"controversy\", \"convict\", \"convict\", \"coordination\", \"cop\", \"cop\", \"cop\", \"copy\", \"corporation\", \"corrupt\", \"corrupt\", \"corrupt\", \"cost\", \"couch\", \"could\", \"could\", \"coulter\", \"count\", \"count\", \"count\", \"country\", \"country\", \"country\", \"court\", \"court\", \"court\", \"court\", \"court\", \"crime\", \"crime\", \"crime\", \"criminal\", \"criminal\", \"criminal\", \"criminal\", \"crisis\", \"crisis\", \"crisis\", \"crisis\", \"cross\", \"cross\", \"crucial\", \"culpable\", \"cultural\", \"culture\", \"culture\", \"cumming\", \"cuomo\", \"current\", \"current\", \"current\", \"current\", \"currently\", \"currently\", \"currently\", \"currently\", \"custody\", \"cut\", \"cut\", \"dad\", \"daughter\", \"day\", \"deadline\", \"death\", \"death\", \"debt\", \"debunk\", \"decide\", \"decide\", \"decide\", \"decide\", \"declare\", \"decry\", \"defense\", \"defense\", \"defense\", \"defense\", \"define\", \"define\", \"definition\", \"definition\", \"delete\", \"delusional\", \"dem\", \"dem\", \"dem\", \"democracy\", \"democracy\", \"democracy\", \"democrat\", \"democratic\", \"demonstration\", \"deploy\", \"deport\", \"deregulate\", \"detain\", \"dick\", \"die\", \"die\", \"discuss\", \"discuss\", \"discuss\", \"disgrace\", \"disingenuous\", \"disown\", \"disqualify\", \"distinction\", \"district\", \"district\", \"divisive\", \"dnc\", \"do\", \"doc\", \"doctor\", \"doctor\", \"dollar\", \"domestic\", \"donnie\", \"donny\", \"donor\", \"downplay\", \"downvote\", \"dude\", \"due\", \"due\", \"due\", \"due\", \"due\", \"dumb\", \"dumb\", \"earn\", \"economy\", \"efficacy\", \"elect\", \"elect\", \"elect\", \"election\", \"election\", \"election\", \"elector\", \"electoral\", \"electoral_college\", \"electorate\", \"electronic\", \"email\", \"email\", \"embarrassed\", \"emergency\", \"employee\", \"endorse\", \"enforce\", \"enforce\", \"entirely\", \"entirely\", \"entity\", \"entry\", \"entry\", \"equal\", \"equal\", \"equal\", \"escalate\", \"establish\", \"european\", \"even\", \"even\", \"evening\", \"evenly\", \"everyone\", \"everyone\", \"evidence\", \"evidence\", \"evil\", \"evil\", \"exact\", \"exact\", \"exactly\", \"example\", \"example\", \"example\", \"exclusive\", \"executive\", \"executive\", \"executive\", \"expel\", \"expensive\", \"fabricate\", \"fact\", \"fact\", \"fake\", \"fake\", \"false\", \"falsehood\", \"family\", \"family\", \"family\", \"family\", \"famous\", \"fare\", \"fascist\", \"faux\", \"feature\", \"feature\", \"feature\", \"federal\", \"federal\", \"federal\", \"feed\", \"feel\", \"feel\", \"fellow\", \"feminist\", \"fence\", \"fetus\", \"find\", \"find\", \"find\", \"find\", \"firearm\", \"firing\", \"first\", \"flee\", \"flood\", \"follow\", \"follow\", \"follow\", \"follow\", \"football\", \"forbid\", \"forbid\", \"force\", \"force\", \"force\", \"force\", \"forever\", \"form\", \"form\", \"form\", \"former\", \"former\", \"former\", \"founder\", \"foxnews\", \"fraud\", \"fraud\", \"free\", \"free\", \"free\", \"freedom\", \"fringe\", \"fuck\", \"fuck\", \"fucking\", \"fund\", \"fund\", \"fund\", \"funding\", \"funding\", \"gaming\", \"garbage\", \"gay\", \"general\", \"general\", \"general\", \"generic\", \"gerrymander\", \"gerrymandering\", \"get\", \"get\", \"girl\", \"give\", \"give\", \"give\", \"global\", \"go\", \"good\", \"gospel\", \"government\", \"government\", \"government\", \"government\", \"great\", \"group\", \"group\", \"gt\", \"gt\", \"gt\", \"gt\", \"gt\", \"guideline\", \"gun\", \"guy\", \"guy\", \"gym\", \"hamberder\", \"handcuff\", \"hannity\", \"happen\", \"hard\", \"hardest\", \"hate\", \"have\", \"headline\", \"healthcare\", \"hearing\", \"hearing\", \"hell\", \"hell\", \"here\", \"here\", \"heritage\", \"high\", \"high\", \"high\", \"hilarious\", \"historian\", \"historical\", \"homicide\", \"hope\", \"how\", \"however\", \"however\", \"html\", \"http\", \"https\", \"huffingtonpost\", \"human\", \"humanity\", \"husband\", \"hypocrisy\", \"ice\", \"idea\", \"idea\", \"idea\", \"idea\", \"idea\", \"ideology\", \"idiot\", \"ignorance\", \"ignorant\", \"ignorant\", \"ill\", \"illegal\", \"illegal\", \"illegal\", \"illegal\", \"illegal\", \"illegal\", \"illegal_immigrant\", \"illegal_immigrants\", \"illegally\", \"illegally\", \"imagery\", \"immigrant\", \"immigration\", \"impeach\", \"impeachment\", \"implicate\", \"inauguration\", \"incel\", \"incite\", \"income\", \"incompetence\", \"increase\", \"independent\", \"index\", \"indict\", \"indictment\", \"industry\", \"information\", \"information\", \"information\", \"inherently\", \"initiate\", \"institution\", \"insult\", \"insurance\", \"intelligence\", \"intelligence\", \"intend\", \"intend\", \"intercept\", \"invest\", \"investigate\", \"investigation\", \"investigator\", \"investment\", \"issue\", \"issue\", \"issue\", \"issue\", \"issue\", \"jewish\", \"job\", \"job\", \"joke\", \"joy\", \"judge\", \"judge\", \"judge\", \"keep\", \"kid\", \"kill\", \"kill\", \"kind\", \"know\", \"know\", \"labor\", \"last\", \"last\", \"last\", \"law\", \"law\", \"law\", \"law\", \"law\", \"lawmaker\", \"lawyer\", \"lawyer\", \"lawyer\", \"leadership\", \"leak\", \"leak\", \"leave\", \"leave\", \"leave\", \"legal\", \"legal\", \"legal\", \"legal\", \"legal\", \"legal\", \"legislature\", \"length\", \"length\", \"less\", \"less\", \"less\", \"let\", \"let\", \"letter\", \"letter\", \"letter\", \"liberal\", \"liberal\", \"license\", \"license\", \"lie\", \"lie\", \"lie\", \"life\", \"life\", \"line\", \"link\", \"link\", \"literal\", \"little\", \"loan\", \"lobby\", \"lol\", \"long\", \"look\", \"look\", \"lose\", \"lose\", \"lose\", \"love\", \"love\", \"low\", \"low\", \"magically\", \"mainstream\", \"majority\", \"majority\", \"majority\", \"make\", \"make\", \"man\", \"man\", \"man\", \"manafort\", \"mandate\", \"mandate\", \"market\", \"mate\", \"may\", \"may\", \"may\", \"maybe\", \"meadow\", \"mean\", \"mean\", \"mean\", \"meaningful\", \"meat\", \"medium\", \"medium\", \"medium\", \"megathread\", \"meme\", \"merely\", \"merit\", \"message\", \"message\", \"message\", \"message\", \"midterm\", \"midterm\", \"migrant\", \"military\", \"military\", \"military\", \"military\", \"mistake\", \"mistake\", \"mistake\", \"mistake\", \"moderate\", \"modest\", \"money\", \"money\", \"moral\", \"moron\", \"mother\", \"motherfucker\", \"much\", \"much\", \"mueller\", \"muellers_team\", \"murder\", \"murder\", \"muslim\", \"must\", \"must\", \"must\", \"must\", \"must\", \"national\", \"national\", \"national\", \"native\", \"nature\", \"need\", \"need\", \"need\", \"netflix\", \"never\", \"never\", \"news\", \"news\", \"news\", \"news\", \"next\", \"niche\", \"nominate\", \"nomination\", \"nominee\", \"nonprofit\", \"number\", \"number\", \"number\", \"number\", \"number\", \"number\", \"number\", \"oath\", \"observe\", \"obstruction\", \"occupy\", \"official\", \"official\", \"official\", \"official\", \"op\", \"operation\", \"operative\", \"opinion\", \"opponent\", \"opponent\", \"optimistic\", \"organization\", \"organization\", \"outdate\", \"outrage\", \"oversee\", \"own\", \"own\", \"own\", \"own\", \"owner\", \"owner\", \"ownership\", \"ownership\", \"parent\", \"parking\", \"partial\", \"participate\", \"partner\", \"party\", \"pass\", \"pass\", \"pass\", \"pass\", \"pass\", \"pass\", \"pay\", \"peace\", \"peace\", \"people\", \"people\", \"people\", \"perspective\", \"perspective\", \"pertinent\", \"photo\", \"piece\", \"piece\", \"platform\", \"please\", \"pm\", \"point\", \"point\", \"police\", \"police\", \"police\", \"policy\", \"policy\", \"politic\", \"politic\", \"politic\", \"politic\", \"political\", \"political\", \"political\", \"politician\", \"politician\", \"politician\", \"politics\", \"politics\", \"poll\", \"polling\", \"popular\", \"popular\", \"population\", \"population\", \"port\", \"portion\", \"possess\", \"post\", \"post\", \"posting\", \"postpone\", \"power\", \"power\", \"power\", \"power\", \"practically\", \"precedent\", \"predominantly\", \"president\", \"president\", \"president\", \"president\", \"president\", \"presidential\", \"presidential\", \"presidential\", \"pretend\", \"pretend\", \"pretty\", \"pretty\", \"prevent\", \"prevent\", \"prevent\", \"prevent\", \"prevent\", \"price\", \"primary\", \"principle\", \"principle\", \"prison\", \"prison\", \"private\", \"private\", \"private\", \"private\", \"pro\", \"pro\", \"pro\", \"probably\", \"probe\", \"procedure\", \"process\", \"process\", \"process\", \"process\", \"process\", \"professor\", \"profit\", \"program\", \"program\", \"progressive\", \"prohibition\", \"project\", \"project\", \"project\", \"promise\", \"promise\", \"promise\", \"promise\", \"proof\", \"proof\", \"propaganda\", \"propaganda\", \"proper\", \"proposition\", \"prosecutor\", \"prosecutor\", \"protect\", \"protect\", \"protect\", \"protect\", \"protect\", \"prove\", \"prove\", \"prove\", \"provide\", \"provide\", \"provision\", \"publish\", \"punishment\", \"purchase\", \"purchase\", \"pursue\", \"push\", \"push\", \"putin\", \"question\", \"question\", \"question\", \"question\", \"quote\", \"racial\", \"racism\", \"racist\", \"rape\", \"rate\", \"rate\", \"read\", \"read\", \"realistically\", \"really\", \"reason\", \"reason\", \"reason\", \"reasoning\", \"recieve\", \"reconsider\", \"recount\", \"redact\", \"reddit\", \"redundant\", \"refer\", \"refer\", \"reference\", \"refrain\", \"refugee\", \"refute\", \"region\", \"regulation\", \"regulation\", \"regulation\", \"release\", \"release\", \"release\", \"release\", \"relevant\", \"relevant\", \"religion\", \"religious\", \"removal\", \"remove\", \"report\", \"report\", \"reporter\", \"reporting\", \"represent\", \"represent\", \"represent\", \"representation\", \"representative\", \"reproduce\", \"republican\", \"republican\", \"republican\", \"republican\", \"require\", \"require\", \"require\", \"require\", \"require\", \"requirement\", \"requirement\", \"resolution\", \"respond\", \"respond\", \"restrict\", \"restrict\", \"restriction\", \"restriction\", \"result\", \"result\", \"result\", \"result\", \"rich\", \"rich\", \"rich\", \"rifle\", \"rig\", \"right\", \"right\", \"right\", \"right\", \"right\", \"risk\", \"risk\", \"risk\", \"roast\", \"routine\", \"rule\", \"rule\", \"ruling\", \"ruling\", \"run\", \"run\", \"russian\", \"russian\", \"s\", \"safety\", \"sander\", \"say\", \"say\", \"say\", \"scrap\", \"seal\", \"search\", \"seat\", \"seat\", \"section\", \"secure\", \"secure\", \"secure\", \"secure\", \"security\", \"security\", \"security\", \"security\", \"security\", \"see\", \"see\", \"see\", \"seem\", \"seize\", \"seize\", \"seize\", \"seizure\", \"select\", \"select\", \"seller\", \"separate\", \"separate\", \"separate\", \"separate\", \"separate\", \"separation\", \"series\", \"service\", \"service\", \"set\", \"set\", \"set\", \"sex\", \"sexual\", \"shake\", \"shall\", \"shall\", \"shall\", \"sharply\", \"sheep\", \"shell\", \"shit\", \"shit\", \"shock\", \"shoot\", \"shoot\", \"shooter\", \"shooting\", \"should\", \"should\", \"should\", \"show\", \"show\", \"show\", \"shutdown\", \"shutdown\", \"silver\", \"since\", \"single\", \"single\", \"single\", \"single\", \"site\", \"site\", \"sky\", \"sleep\", \"slide\", \"small\", \"small\", \"small\", \"smear\", \"social\", \"social\", \"socialism\", \"socialist\", \"solely\", \"someone\", \"source\", \"sovereignty\", \"speech\", \"spend\", \"spend\", \"spending\", \"spew\", \"splitting\", \"spy\", \"stadium\", \"staple\", \"start\", \"state\", \"statement\", \"statement\", \"still\", \"stock\", \"stomach\", \"stone\", \"stone\", \"story\", \"story\", \"story\", \"strategic\", \"stupid\", \"stupid\", \"sub\", \"submit\", \"subpoena\", \"subreddit\", \"suffer\", \"suffer\", \"supersede\", \"support\", \"support\", \"support\", \"supporter\", \"supporter\", \"suppression\", \"sure\", \"sure\", \"survivor\", \"system\", \"system\", \"system\", \"take\", \"take\", \"take\", \"take\", \"talk\", \"talk\", \"talk\", \"tax\", \"taxis\", \"terrify\", \"testify\", \"testimony\", \"text\", \"text\", \"th_amendment\", \"thank\", \"thank\", \"thank\", \"theguardian\", \"there\", \"thing\", \"think\", \"thread\", \"thread\", \"time\", \"time\", \"title\", \"topic\", \"topic\", \"trail\", \"treason\", \"treatment\", \"trump\", \"trump\", \"trump\", \"trump\", \"trump\", \"truth\", \"truth\", \"truth\", \"try\", \"try\", \"tyranny\", \"tyrant\", \"ugly\", \"unarmed\", \"undocumented\", \"unhappy\", \"union\", \"unnamed\", \"unpopular\", \"use\", \"use\", \"use\", \"use\", \"username\", \"utilize\", \"veto\", \"video\", \"video\", \"violation\", \"violence\", \"violence\", \"violent\", \"violent\", \"vote\", \"vote\", \"voter\", \"voter\", \"wage\", \"wait\", \"wall\", \"want\", \"want\", \"want\", \"war\", \"war\", \"washingtonpost\", \"way\", \"wealth\", \"wealthy\", \"weapon\", \"wear\", \"wear\", \"website\", \"weekend\", \"welcome\", \"well\", \"well\", \"well\", \"whataboutism\", \"whim\", \"whistleblower\", \"whitaker\", \"white\", \"whole\", \"wife\", \"wife\", \"wikileak\", \"will\", \"win\", \"win\", \"wing\", \"wing\", \"witness\", \"witness\", \"woman\", \"work\", \"work\", \"worker\", \"worldview\", \"worm\", \"would\", \"would\", \"would\", \"write\", \"write\", \"write\", \"www\", \"wyome\", \"year\", \"year\", \"yearbook\", \"yell\", \"yield\", \"youtube\", \"youtube\"]}, \"topic.order\": [10, 16, 17, 14, 9, 13, 5, 20, 7, 2, 6, 18, 11, 19, 8, 3, 12, 1, 4, 15]};\n",
       "\n",
       "function LDAvis_load_lib(url, callback){\n",
       "  var s = document.createElement('script');\n",
       "  s.src = url;\n",
       "  s.async = true;\n",
       "  s.onreadystatechange = s.onload = callback;\n",
       "  s.onerror = function(){console.warn(\"failed to load library \" + url);};\n",
       "  document.getElementsByTagName(\"head\")[0].appendChild(s);\n",
       "}\n",
       "\n",
       "if(typeof(LDAvis) !== \"undefined\"){\n",
       "   // already loaded: just create the visualization\n",
       "   !function(LDAvis){\n",
       "       new LDAvis(\"#\" + \"ldavis_el21881405323100768967366668332\", ldavis_el21881405323100768967366668332_data);\n",
       "   }(LDAvis);\n",
       "}else if(typeof define === \"function\" && define.amd){\n",
       "   // require.js is available: use it to load d3/LDAvis\n",
       "   require.config({paths: {d3: \"https://cdnjs.cloudflare.com/ajax/libs/d3/3.5.5/d3.min\"}});\n",
       "   require([\"d3\"], function(d3){\n",
       "      window.d3 = d3;\n",
       "      LDAvis_load_lib(\"https://cdn.rawgit.com/bmabey/pyLDAvis/files/ldavis.v1.0.0.js\", function(){\n",
       "        new LDAvis(\"#\" + \"ldavis_el21881405323100768967366668332\", ldavis_el21881405323100768967366668332_data);\n",
       "      });\n",
       "    });\n",
       "}else{\n",
       "    // require.js not available: dynamically load d3 & LDAvis\n",
       "    LDAvis_load_lib(\"https://cdnjs.cloudflare.com/ajax/libs/d3/3.5.5/d3.min.js\", function(){\n",
       "         LDAvis_load_lib(\"https://cdn.rawgit.com/bmabey/pyLDAvis/files/ldavis.v1.0.0.js\", function(){\n",
       "                 new LDAvis(\"#\" + \"ldavis_el21881405323100768967366668332\", ldavis_el21881405323100768967366668332_data);\n",
       "            })\n",
       "         });\n",
       "}\n",
       "</script>"
      ],
      "text/plain": [
       "PreparedData(topic_coordinates=            Freq  cluster  topics         x         y\n",
       "topic                                                \n",
       "9      47.634239        1       1  0.221393  0.088568\n",
       "15      9.876889        1       2  0.178325  0.180785\n",
       "16      7.762465        1       3  0.142741 -0.171661\n",
       "13      6.013822        1       4  0.184270 -0.087275\n",
       "8       5.646519        1       5  0.165419  0.042176\n",
       "12      4.153207        1       6  0.048550 -0.206811\n",
       "4       4.014362        1       7  0.059894 -0.170114\n",
       "19      3.614823        1       8  0.145559 -0.064661\n",
       "6       2.989926        1       9  0.118846  0.213293\n",
       "1       2.575282        1      10  0.053842  0.153323\n",
       "5       1.462642        1      11  0.008317 -0.218979\n",
       "17      0.781696        1      12 -0.051361  0.077416\n",
       "10      0.779545        1      13  0.027550  0.189069\n",
       "18      0.722174        1      14 -0.159782 -0.016020\n",
       "7       0.503510        1      15 -0.157507  0.000514\n",
       "2       0.500309        1      16 -0.095115 -0.099002\n",
       "11      0.460824        1      17 -0.096422 -0.057205\n",
       "0       0.239655        1      18 -0.240408  0.044686\n",
       "3       0.217691        1      19 -0.270714  0.047070\n",
       "14      0.050420        1      20 -0.283395  0.054829, topic_info=      Category           Freq              Term          Total  loglift  \\\n",
       "16328  Default  301423.000000                be  301423.000000  30.0000   \n",
       "49231  Default  184031.000000            remove  184031.000000  29.0000   \n",
       "81786  Default  249025.000000           removal  249025.000000  28.0000   \n",
       "81455  Default  241845.000000                 s  241845.000000  27.0000   \n",
       "30066  Default  278722.000000               say  278722.000000  26.0000   \n",
       "...        ...            ...               ...            ...      ...   \n",
       "47871  Topic20       0.046819        explicitly       0.963569   4.5682   \n",
       "30010  Topic20       0.046830        submission       0.978266   4.5533   \n",
       "11061  Topic20       0.046824  question_regarde       0.970467   4.5611   \n",
       "36816  Topic20       0.046821         moderator       0.967570   4.5641   \n",
       "21944  Topic20       0.046818         recommend       0.963191   4.5686   \n",
       "\n",
       "       logprob  \n",
       "16328  30.0000  \n",
       "49231  29.0000  \n",
       "81786  28.0000  \n",
       "81455  27.0000  \n",
       "30066  26.0000  \n",
       "...        ...  \n",
       "47871 -12.6123  \n",
       "30010 -12.6121  \n",
       "11061 -12.6122  \n",
       "36816 -12.6123  \n",
       "21944 -12.6123  \n",
       "\n",
       "[1021 rows x 6 columns], token_table=       Topic      Freq       Term\n",
       "term                             \n",
       "84052     15  0.998191      abide\n",
       "9060      10  0.999927   abortion\n",
       "50910     11  0.918841  abundance\n",
       "74374      1  0.090421      abuse\n",
       "74374      8  0.049861      abuse\n",
       "...      ...       ...        ...\n",
       "83478      9  0.995882   yearbook\n",
       "61482     18  0.999750       yell\n",
       "54335      6  0.999309      yield\n",
       "59199      6  0.743066    youtube\n",
       "59199     11  0.256609    youtube\n",
       "\n",
       "[1352 rows x 3 columns], R=30, lambda_step=0.01, plot_opts={'ylab': 'PC2', 'xlab': 'PC1'}, topic_order=[10, 16, 17, 14, 9, 13, 5, 20, 7, 2, 6, 18, 11, 19, 8, 3, 12, 1, 4, 15])"
      ]
     },
     "execution_count": 90,
     "metadata": {},
     "output_type": "execute_result"
    }
   ],
   "source": [
    "# Visualize the topics\n",
    "pyLDAvis.enable_notebook()\n",
    "vis = pyLDAvis.gensim.prepare(lda_model, corpus, id2word)\n",
    "vis"
   ]
  },
  {
   "cell_type": "markdown",
   "metadata": {},
   "source": [
    "# 11. Find the optimal number of topics for LDA"
   ]
  },
  {
   "cell_type": "markdown",
   "metadata": {},
   "source": [
    "# 12. Find the dominant topic for each sentece"
   ]
  },
  {
   "cell_type": "code",
   "execution_count": 91,
   "metadata": {},
   "outputs": [],
   "source": [
    "def format_topics_sentences(ldamodel=lda_model, corpus=corpus, texts=data):\n",
    "    # Init output\n",
    "    sent_topics_df = pd.DataFrame()\n",
    "\n",
    "    # Get main topic in each document\n",
    "    for i, row in enumerate(ldamodel[corpus]):\n",
    "        row = sorted(row, key=lambda x: (x[1]), reverse=True)\n",
    "        # Get the Dominant topic, Perc Contribution and Keywords for each document\n",
    "        for j, (topic_num, prop_topic) in enumerate(row):\n",
    "            if j == 0:  # => dominant topic\n",
    "                wp = ldamodel.show_topic(topic_num)\n",
    "                topic_keywords = \", \".join([word for word, prop in wp])\n",
    "                sent_topics_df = sent_topics_df.append(pd.Series([int(topic_num), round(prop_topic,4), topic_keywords]), ignore_index=True)\n",
    "            else:\n",
    "                break\n",
    "    sent_topics_df.columns = ['Dominant_Topic', 'Perc_Contribution', 'Topic_Keywords']\n",
    "\n",
    "    # Add original text to the end of the output\n",
    "    contents = pd.Series(texts)\n",
    "    sent_topics_df = pd.concat([sent_topics_df, contents], axis=1)\n",
    "    return(sent_topics_df)"
   ]
  },
  {
   "cell_type": "code",
   "execution_count": 117,
   "metadata": {},
   "outputs": [
    {
     "ename": "TypeError",
     "evalue": "unorderable types: int() < tuple()",
     "output_type": "error",
     "traceback": [
      "\u001b[0;31m---------------------------------------------------------------------------\u001b[0m",
      "\u001b[0;31mTypeError\u001b[0m                                 Traceback (most recent call last)",
      "\u001b[0;32m<ipython-input-117-375a8dcdbddf>\u001b[0m in \u001b[0;36m<module>\u001b[0;34m\u001b[0m\n\u001b[0;32m----> 1\u001b[0;31m \u001b[0mdf_topic_sents_keywords\u001b[0m \u001b[0;34m=\u001b[0m \u001b[0mformat_topics_sentences\u001b[0m\u001b[0;34m(\u001b[0m\u001b[0mldamodel\u001b[0m\u001b[0;34m=\u001b[0m\u001b[0mlda_model\u001b[0m\u001b[0;34m,\u001b[0m \u001b[0mcorpus\u001b[0m\u001b[0;34m=\u001b[0m\u001b[0mcorpus\u001b[0m\u001b[0;34m,\u001b[0m \u001b[0mtexts\u001b[0m\u001b[0;34m=\u001b[0m\u001b[0mdata\u001b[0m\u001b[0;34m)\u001b[0m\u001b[0;34m\u001b[0m\u001b[0m\n\u001b[0m\u001b[1;32m      2\u001b[0m \u001b[0;34m\u001b[0m\u001b[0m\n\u001b[1;32m      3\u001b[0m \u001b[0;31m# Format\u001b[0m\u001b[0;34m\u001b[0m\u001b[0;34m\u001b[0m\u001b[0m\n\u001b[1;32m      4\u001b[0m \u001b[0mdf_dominant_topic\u001b[0m \u001b[0;34m=\u001b[0m \u001b[0mdf_topic_sents_keywords\u001b[0m\u001b[0;34m.\u001b[0m\u001b[0mreset_index\u001b[0m\u001b[0;34m(\u001b[0m\u001b[0;34m)\u001b[0m\u001b[0;34m\u001b[0m\u001b[0m\n\u001b[1;32m      5\u001b[0m \u001b[0mdf_dominant_topic\u001b[0m\u001b[0;34m.\u001b[0m\u001b[0mcolumns\u001b[0m \u001b[0;34m=\u001b[0m \u001b[0;34m[\u001b[0m\u001b[0;34m'Document_No'\u001b[0m\u001b[0;34m,\u001b[0m \u001b[0;34m'Dominant_Topic'\u001b[0m\u001b[0;34m,\u001b[0m \u001b[0;34m'Topic_Perc_Contrib'\u001b[0m\u001b[0;34m,\u001b[0m \u001b[0;34m'Keywords'\u001b[0m\u001b[0;34m,\u001b[0m \u001b[0;34m'Text'\u001b[0m\u001b[0;34m]\u001b[0m\u001b[0;34m\u001b[0m\u001b[0m\n",
      "\u001b[0;32m<ipython-input-91-4652deb95dfa>\u001b[0m in \u001b[0;36mformat_topics_sentences\u001b[0;34m(ldamodel, corpus, texts)\u001b[0m\n\u001b[1;32m      5\u001b[0m     \u001b[0;31m# Get main topic in each document\u001b[0m\u001b[0;34m\u001b[0m\u001b[0;34m\u001b[0m\u001b[0m\n\u001b[1;32m      6\u001b[0m     \u001b[0;32mfor\u001b[0m \u001b[0mi\u001b[0m\u001b[0;34m,\u001b[0m \u001b[0mrow\u001b[0m \u001b[0;32min\u001b[0m \u001b[0menumerate\u001b[0m\u001b[0;34m(\u001b[0m\u001b[0mldamodel\u001b[0m\u001b[0;34m[\u001b[0m\u001b[0mcorpus\u001b[0m\u001b[0;34m]\u001b[0m\u001b[0;34m)\u001b[0m\u001b[0;34m:\u001b[0m\u001b[0;34m\u001b[0m\u001b[0m\n\u001b[0;32m----> 7\u001b[0;31m         \u001b[0mrow\u001b[0m \u001b[0;34m=\u001b[0m \u001b[0msorted\u001b[0m\u001b[0;34m(\u001b[0m\u001b[0mrow\u001b[0m\u001b[0;34m,\u001b[0m \u001b[0mkey\u001b[0m\u001b[0;34m=\u001b[0m\u001b[0;32mlambda\u001b[0m \u001b[0mx\u001b[0m\u001b[0;34m:\u001b[0m \u001b[0;34m(\u001b[0m\u001b[0mx\u001b[0m\u001b[0;34m[\u001b[0m\u001b[0;36m1\u001b[0m\u001b[0;34m]\u001b[0m\u001b[0;34m)\u001b[0m\u001b[0;34m,\u001b[0m \u001b[0mreverse\u001b[0m\u001b[0;34m=\u001b[0m\u001b[0;32mTrue\u001b[0m\u001b[0;34m)\u001b[0m\u001b[0;34m\u001b[0m\u001b[0m\n\u001b[0m\u001b[1;32m      8\u001b[0m         \u001b[0;31m# Get the Dominant topic, Perc Contribution and Keywords for each document\u001b[0m\u001b[0;34m\u001b[0m\u001b[0;34m\u001b[0m\u001b[0m\n\u001b[1;32m      9\u001b[0m         \u001b[0;32mfor\u001b[0m \u001b[0mj\u001b[0m\u001b[0;34m,\u001b[0m \u001b[0;34m(\u001b[0m\u001b[0mtopic_num\u001b[0m\u001b[0;34m,\u001b[0m \u001b[0mprop_topic\u001b[0m\u001b[0;34m)\u001b[0m \u001b[0;32min\u001b[0m \u001b[0menumerate\u001b[0m\u001b[0;34m(\u001b[0m\u001b[0mrow\u001b[0m\u001b[0;34m)\u001b[0m\u001b[0;34m:\u001b[0m\u001b[0;34m\u001b[0m\u001b[0m\n",
      "\u001b[0;31mTypeError\u001b[0m: unorderable types: int() < tuple()"
     ]
    }
   ],
   "source": [
    "df_topic_sents_keywords = format_topics_sentences(ldamodel=lda_model, corpus=corpus, texts=data)\n",
    "\n",
    "# Format\n",
    "df_dominant_topic = df_topic_sents_keywords.reset_index()\n",
    "df_dominant_topic.columns = ['Document_No', 'Dominant_Topic', 'Topic_Perc_Contrib', 'Keywords', 'Text']\n",
    "\n",
    "# Show\n",
    "df_dominant_topic.head(10)"
   ]
  },
  {
   "cell_type": "code",
   "execution_count": 99,
   "metadata": {},
   "outputs": [
    {
     "name": "stdout",
     "output_type": "stream",
     "text": [
      "([(1, 0.039706282), (2, 0.011873434), (4, 0.024813917), (6, 0.039462317), (8, 0.043480113), (9, 0.43017164), (11, 0.015641183), (12, 0.026787803), (13, 0.05003716), (15, 0.17303813), (16, 0.092475235), (17, 0.019927787), (19, 0.018837687)], [(0, [1, 15]), (1, [9, 8]), (2, [1, 12]), (3, [15, 16, 19]), (4, [17, 15, 9]), (5, [9, 16]), (6, [2, 4]), (7, [16, 8]), (8, [16, 8]), (9, [9, 15]), (10, [16]), (11, [15]), (12, [9]), (13, [15, 6, 9, 13]), (14, [9, 15, 8]), (15, [9, 15]), (16, [13, 6]), (17, [15]), (18, [15, 9]), (19, []), (20, [9, 15]), (21, [11]), (22, [13]), (23, [17, 15, 6, 8]), (24, [9, 16, 13]), (25, [9, 15]), (26, [15, 6, 9]), (27, []), (28, [15]), (29, [9, 15, 1, 8, 13]), (30, [9]), (31, [8, 6]), (32, [15]), (33, [9, 15]), (34, [9])], [(0, [(1, 0.8036822), (15, 0.19518264)]), (1, [(8, 0.037463937), (9, 0.9623667)]), (2, [(1, 0.77516407), (12, 0.22134107)]), (3, [(15, 0.7164559), (16, 0.23787117), (19, 0.04428897)]), (4, [(9, 0.18026282), (15, 0.24947219), (17, 0.570165)]), (5, [(9, 0.96058464), (16, 0.03937376)]), (6, [(2, 0.7555131), (4, 0.24262351)]), (7, [(8, 0.21288748), (16, 0.78454816)]), (8, [(8, 0.21837366), (16, 0.7815214)]), (9, [(9, 0.71507204), (15, 0.28472382)]), (10, [(16, 1.9991689)]), (11, [(15, 0.99989283)]), (12, [(9, 0.9993309)]), (13, [(6, 0.3205609), (9, 0.06220109), (13, 0.010011219), (15, 0.6071937)]), (14, [(8, 0.030302264), (9, 0.73212296), (15, 0.2374987)]), (15, [(9, 0.5388058), (15, 0.46071625)]), (16, [(6, 0.48387715), (13, 0.5119283)]), (17, [(15, 0.9954825)]), (18, [(9, 0.13043785), (15, 0.8695384)]), (19, []), (20, [(9, 0.86122084), (15, 0.13875753)]), (21, [(11, 0.98256075)]), (22, [(13, 0.98576003)]), (23, [(6, 0.17537458), (8, 0.06002814), (15, 0.23910706), (17, 0.5249027)]), (24, [(9, 0.79508555), (13, 0.038502928), (16, 0.16638578)]), (25, [(9, 0.6160006), (15, 0.3836174)]), (26, [(6, 0.28591925), (9, 0.120426424), (15, 0.5935372)]), (27, []), (28, [(15, 0.9942572)]), (29, [(1, 0.24087489), (8, 0.10703146), (9, 0.36410716), (13, 0.038831808), (15, 0.24903002)]), (30, [(9, 0.999761)]), (31, [(6, 0.43107536), (8, 0.56889087)]), (32, [(15, 0.99980646)]), (33, [(9, 0.8318966), (15, 0.16560672)]), (34, [(9, 0.9998091)])])\n"
     ]
    }
   ],
   "source": [
    "for i,row in enumerate(lda_model[corpus[:1]]):\n",
    "    print(row)"
   ]
  },
  {
   "cell_type": "code",
   "execution_count": 112,
   "metadata": {},
   "outputs": [
    {
     "name": "stdout",
     "output_type": "stream",
     "text": [
      "<gensim.interfaces.TransformedCorpus object at 0x7fd084e1df60>\n"
     ]
    }
   ],
   "source": [
    "infer_topics = lda_model[corpus[:2]]\n",
    "print(infer_topics)"
   ]
  },
  {
   "cell_type": "code",
   "execution_count": 109,
   "metadata": {
    "collapsed": true,
    "jupyter": {
     "outputs_hidden": true,
     "source_hidden": true
    }
   },
   "outputs": [
    {
     "name": "stderr",
     "output_type": "stream",
     "text": [
      "/usr/local/lib/python3.5/dist-packages/gensim/models/ldamodel.py:1224: FutureWarning: Using a non-tuple sequence for multidimensional indexing is deprecated; use `arr[tuple(seq)]` instead of `arr[seq]`. In the future this will be interpreted as an array index, `arr[np.array(seq)]`, which will result either in an error or a different result.\n",
      "  topic = self.get_topics()[topicid]\n"
     ]
    },
    {
     "ename": "IndexError",
     "evalue": "only integers, slices (`:`), ellipsis (`...`), numpy.newaxis (`None`) and integer or boolean arrays are valid indices",
     "output_type": "error",
     "traceback": [
      "\u001b[0;31m---------------------------------------------------------------------------\u001b[0m",
      "\u001b[0;31mIndexError\u001b[0m                                Traceback (most recent call last)",
      "\u001b[0;32m<ipython-input-109-45d9752544ae>\u001b[0m in \u001b[0;36m<module>\u001b[0;34m\u001b[0m\n\u001b[1;32m      1\u001b[0m \u001b[0;32mfor\u001b[0m \u001b[0minfer_topic\u001b[0m \u001b[0;32min\u001b[0m \u001b[0minfer_topics\u001b[0m\u001b[0;34m:\u001b[0m\u001b[0;34m\u001b[0m\u001b[0m\n\u001b[0;32m----> 2\u001b[0;31m     \u001b[0mprint\u001b[0m\u001b[0;34m(\u001b[0m\u001b[0;34m\"{}\\t{}\\n\"\u001b[0m\u001b[0;34m.\u001b[0m\u001b[0mformat\u001b[0m\u001b[0;34m(\u001b[0m\u001b[0mlda_model\u001b[0m\u001b[0;34m.\u001b[0m\u001b[0mprint_topic\u001b[0m\u001b[0;34m(\u001b[0m\u001b[0minfer_topic\u001b[0m\u001b[0;34m[\u001b[0m\u001b[0;36m0\u001b[0m\u001b[0;34m]\u001b[0m\u001b[0;34m)\u001b[0m\u001b[0;34m,\u001b[0m \u001b[0minfer_topic\u001b[0m\u001b[0;34m[\u001b[0m\u001b[0;36m1\u001b[0m\u001b[0;34m]\u001b[0m\u001b[0;34m)\u001b[0m\u001b[0;34m)\u001b[0m\u001b[0;34m\u001b[0m\u001b[0m\n\u001b[0m",
      "\u001b[0;32m/usr/local/lib/python3.5/dist-packages/gensim/models/basemodel.py\u001b[0m in \u001b[0;36mprint_topic\u001b[0;34m(self, topicno, topn)\u001b[0m\n\u001b[1;32m     16\u001b[0m \u001b[0;34m\u001b[0m\u001b[0m\n\u001b[1;32m     17\u001b[0m         \"\"\"\n\u001b[0;32m---> 18\u001b[0;31m         \u001b[0;32mreturn\u001b[0m \u001b[0;34m' + '\u001b[0m\u001b[0;34m.\u001b[0m\u001b[0mjoin\u001b[0m\u001b[0;34m(\u001b[0m\u001b[0;34m'%.3f*\"%s\"'\u001b[0m \u001b[0;34m%\u001b[0m \u001b[0;34m(\u001b[0m\u001b[0mv\u001b[0m\u001b[0;34m,\u001b[0m \u001b[0mk\u001b[0m\u001b[0;34m)\u001b[0m \u001b[0;32mfor\u001b[0m \u001b[0mk\u001b[0m\u001b[0;34m,\u001b[0m \u001b[0mv\u001b[0m \u001b[0;32min\u001b[0m \u001b[0mself\u001b[0m\u001b[0;34m.\u001b[0m\u001b[0mshow_topic\u001b[0m\u001b[0;34m(\u001b[0m\u001b[0mtopicno\u001b[0m\u001b[0;34m,\u001b[0m \u001b[0mtopn\u001b[0m\u001b[0;34m)\u001b[0m\u001b[0;34m)\u001b[0m\u001b[0;34m\u001b[0m\u001b[0m\n\u001b[0m\u001b[1;32m     19\u001b[0m \u001b[0;34m\u001b[0m\u001b[0m\n\u001b[1;32m     20\u001b[0m     \u001b[0;32mdef\u001b[0m \u001b[0mprint_topics\u001b[0m\u001b[0;34m(\u001b[0m\u001b[0mself\u001b[0m\u001b[0;34m,\u001b[0m \u001b[0mnum_topics\u001b[0m\u001b[0;34m=\u001b[0m\u001b[0;36m20\u001b[0m\u001b[0;34m,\u001b[0m \u001b[0mnum_words\u001b[0m\u001b[0;34m=\u001b[0m\u001b[0;36m10\u001b[0m\u001b[0;34m)\u001b[0m\u001b[0;34m:\u001b[0m\u001b[0;34m\u001b[0m\u001b[0m\n",
      "\u001b[0;32m/usr/local/lib/python3.5/dist-packages/gensim/models/ldamodel.py\u001b[0m in \u001b[0;36mshow_topic\u001b[0;34m(self, topicid, topn)\u001b[0m\n\u001b[1;32m   1190\u001b[0m \u001b[0;34m\u001b[0m\u001b[0m\n\u001b[1;32m   1191\u001b[0m         \"\"\"\n\u001b[0;32m-> 1192\u001b[0;31m         \u001b[0;32mreturn\u001b[0m \u001b[0;34m[\u001b[0m\u001b[0;34m(\u001b[0m\u001b[0mself\u001b[0m\u001b[0;34m.\u001b[0m\u001b[0mid2word\u001b[0m\u001b[0;34m[\u001b[0m\u001b[0mid\u001b[0m\u001b[0;34m]\u001b[0m\u001b[0;34m,\u001b[0m \u001b[0mvalue\u001b[0m\u001b[0;34m)\u001b[0m \u001b[0;32mfor\u001b[0m \u001b[0mid\u001b[0m\u001b[0;34m,\u001b[0m \u001b[0mvalue\u001b[0m \u001b[0;32min\u001b[0m \u001b[0mself\u001b[0m\u001b[0;34m.\u001b[0m\u001b[0mget_topic_terms\u001b[0m\u001b[0;34m(\u001b[0m\u001b[0mtopicid\u001b[0m\u001b[0;34m,\u001b[0m \u001b[0mtopn\u001b[0m\u001b[0;34m)\u001b[0m\u001b[0;34m]\u001b[0m\u001b[0;34m\u001b[0m\u001b[0m\n\u001b[0m\u001b[1;32m   1193\u001b[0m \u001b[0;34m\u001b[0m\u001b[0m\n\u001b[1;32m   1194\u001b[0m     \u001b[0;32mdef\u001b[0m \u001b[0mget_topics\u001b[0m\u001b[0;34m(\u001b[0m\u001b[0mself\u001b[0m\u001b[0;34m)\u001b[0m\u001b[0;34m:\u001b[0m\u001b[0;34m\u001b[0m\u001b[0m\n",
      "\u001b[0;32m/usr/local/lib/python3.5/dist-packages/gensim/models/ldamodel.py\u001b[0m in \u001b[0;36mget_topic_terms\u001b[0;34m(self, topicid, topn)\u001b[0m\n\u001b[1;32m   1222\u001b[0m \u001b[0;34m\u001b[0m\u001b[0m\n\u001b[1;32m   1223\u001b[0m         \"\"\"\n\u001b[0;32m-> 1224\u001b[0;31m         \u001b[0mtopic\u001b[0m \u001b[0;34m=\u001b[0m \u001b[0mself\u001b[0m\u001b[0;34m.\u001b[0m\u001b[0mget_topics\u001b[0m\u001b[0;34m(\u001b[0m\u001b[0;34m)\u001b[0m\u001b[0;34m[\u001b[0m\u001b[0mtopicid\u001b[0m\u001b[0;34m]\u001b[0m\u001b[0;34m\u001b[0m\u001b[0m\n\u001b[0m\u001b[1;32m   1225\u001b[0m         \u001b[0mtopic\u001b[0m \u001b[0;34m=\u001b[0m \u001b[0mtopic\u001b[0m \u001b[0;34m/\u001b[0m \u001b[0mtopic\u001b[0m\u001b[0;34m.\u001b[0m\u001b[0msum\u001b[0m\u001b[0;34m(\u001b[0m\u001b[0;34m)\u001b[0m  \u001b[0;31m# normalize to probability distribution\u001b[0m\u001b[0;34m\u001b[0m\u001b[0m\n\u001b[1;32m   1226\u001b[0m         \u001b[0mbestn\u001b[0m \u001b[0;34m=\u001b[0m \u001b[0mmatutils\u001b[0m\u001b[0;34m.\u001b[0m\u001b[0margsort\u001b[0m\u001b[0;34m(\u001b[0m\u001b[0mtopic\u001b[0m\u001b[0;34m,\u001b[0m \u001b[0mtopn\u001b[0m\u001b[0;34m,\u001b[0m \u001b[0mreverse\u001b[0m\u001b[0;34m=\u001b[0m\u001b[0;32mTrue\u001b[0m\u001b[0;34m)\u001b[0m\u001b[0;34m\u001b[0m\u001b[0m\n",
      "\u001b[0;31mIndexError\u001b[0m: only integers, slices (`:`), ellipsis (`...`), numpy.newaxis (`None`) and integer or boolean arrays are valid indices"
     ]
    }
   ],
   "source": [
    "for infer_topic in infer_topics:\n",
    "    print(\"{}\\t{}\\n\".format(lda_model.print_topic(infer_topic[0]), infer_topic[1]))"
   ]
  },
  {
   "cell_type": "code",
   "execution_count": 125,
   "metadata": {
    "collapsed": true,
    "jupyter": {
     "outputs_hidden": true
    }
   },
   "outputs": [
    {
     "data": {
      "text/plain": [
       "[[(0, 1),\n",
       "  (1, 1),\n",
       "  (2, 1),\n",
       "  (3, 1),\n",
       "  (4, 1),\n",
       "  (5, 1),\n",
       "  (6, 1),\n",
       "  (7, 1),\n",
       "  (8, 1),\n",
       "  (9, 1),\n",
       "  (10, 2),\n",
       "  (11, 1),\n",
       "  (12, 1),\n",
       "  (13, 1),\n",
       "  (14, 1),\n",
       "  (15, 1),\n",
       "  (16, 1),\n",
       "  (17, 1),\n",
       "  (18, 1),\n",
       "  (19, 1),\n",
       "  (20, 1),\n",
       "  (21, 1),\n",
       "  (22, 1),\n",
       "  (23, 1),\n",
       "  (24, 1),\n",
       "  (25, 1),\n",
       "  (26, 1),\n",
       "  (27, 1),\n",
       "  (28, 1),\n",
       "  (29, 1),\n",
       "  (30, 1),\n",
       "  (31, 1),\n",
       "  (32, 1),\n",
       "  (33, 1),\n",
       "  (34, 1)],\n",
       " [(18, 1),\n",
       "  (20, 2),\n",
       "  (24, 3),\n",
       "  (33, 1),\n",
       "  (35, 1),\n",
       "  (36, 1),\n",
       "  (37, 2),\n",
       "  (38, 1),\n",
       "  (39, 1),\n",
       "  (40, 1),\n",
       "  (41, 1),\n",
       "  (42, 1),\n",
       "  (43, 1),\n",
       "  (44, 1),\n",
       "  (45, 1),\n",
       "  (46, 1),\n",
       "  (47, 1),\n",
       "  (48, 1),\n",
       "  (49, 1),\n",
       "  (50, 1),\n",
       "  (51, 1),\n",
       "  (52, 1),\n",
       "  (53, 2),\n",
       "  (54, 2),\n",
       "  (55, 1),\n",
       "  (56, 1),\n",
       "  (57, 1),\n",
       "  (58, 1),\n",
       "  (59, 1),\n",
       "  (60, 2),\n",
       "  (61, 1),\n",
       "  (62, 1),\n",
       "  (63, 1),\n",
       "  (64, 2),\n",
       "  (65, 1),\n",
       "  (66, 2),\n",
       "  (67, 1),\n",
       "  (68, 1),\n",
       "  (69, 1),\n",
       "  (70, 1),\n",
       "  (71, 1),\n",
       "  (72, 1),\n",
       "  (73, 1),\n",
       "  (74, 1),\n",
       "  (75, 2),\n",
       "  (76, 1),\n",
       "  (77, 2),\n",
       "  (78, 1),\n",
       "  (79, 2),\n",
       "  (80, 1),\n",
       "  (81, 3),\n",
       "  (82, 1),\n",
       "  (83, 2),\n",
       "  (84, 1),\n",
       "  (85, 1),\n",
       "  (86, 2),\n",
       "  (87, 1),\n",
       "  (88, 1),\n",
       "  (89, 1),\n",
       "  (90, 1),\n",
       "  (91, 2),\n",
       "  (92, 1),\n",
       "  (93, 1),\n",
       "  (94, 1),\n",
       "  (95, 1),\n",
       "  (96, 1),\n",
       "  (97, 1),\n",
       "  (98, 1),\n",
       "  (99, 1),\n",
       "  (100, 1),\n",
       "  (101, 1),\n",
       "  (102, 2),\n",
       "  (103, 2),\n",
       "  (104, 1),\n",
       "  (105, 2),\n",
       "  (106, 1),\n",
       "  (107, 2),\n",
       "  (108, 1),\n",
       "  (109, 1),\n",
       "  (110, 1),\n",
       "  (111, 1),\n",
       "  (112, 2),\n",
       "  (113, 1),\n",
       "  (114, 1),\n",
       "  (115, 1),\n",
       "  (116, 1),\n",
       "  (117, 1),\n",
       "  (118, 1),\n",
       "  (119, 2),\n",
       "  (120, 1),\n",
       "  (121, 1),\n",
       "  (122, 1),\n",
       "  (123, 1),\n",
       "  (124, 3),\n",
       "  (125, 1),\n",
       "  (126, 1),\n",
       "  (127, 1),\n",
       "  (128, 1),\n",
       "  (129, 1),\n",
       "  (130, 1),\n",
       "  (131, 1),\n",
       "  (132, 1),\n",
       "  (133, 1),\n",
       "  (134, 1),\n",
       "  (135, 1),\n",
       "  (136, 1),\n",
       "  (137, 1),\n",
       "  (138, 2),\n",
       "  (139, 1),\n",
       "  (140, 4),\n",
       "  (141, 2),\n",
       "  (142, 1),\n",
       "  (143, 2),\n",
       "  (144, 1),\n",
       "  (145, 1),\n",
       "  (146, 6),\n",
       "  (147, 1),\n",
       "  (148, 1),\n",
       "  (149, 1),\n",
       "  (150, 2),\n",
       "  (151, 1),\n",
       "  (152, 1),\n",
       "  (153, 3),\n",
       "  (154, 1)],\n",
       " [(20, 3),\n",
       "  (31, 1),\n",
       "  (58, 2),\n",
       "  (79, 1),\n",
       "  (99, 1),\n",
       "  (155, 1),\n",
       "  (156, 1),\n",
       "  (157, 2),\n",
       "  (158, 2),\n",
       "  (159, 1),\n",
       "  (160, 1),\n",
       "  (161, 1),\n",
       "  (162, 1),\n",
       "  (163, 1),\n",
       "  (164, 1),\n",
       "  (165, 1),\n",
       "  (166, 1),\n",
       "  (167, 1),\n",
       "  (168, 1),\n",
       "  (169, 1),\n",
       "  (170, 1),\n",
       "  (171, 1),\n",
       "  (172, 2),\n",
       "  (173, 1),\n",
       "  (174, 1),\n",
       "  (175, 1),\n",
       "  (176, 1),\n",
       "  (177, 1),\n",
       "  (178, 1),\n",
       "  (179, 1),\n",
       "  (180, 1),\n",
       "  (181, 1),\n",
       "  (182, 1),\n",
       "  (183, 1),\n",
       "  (184, 1),\n",
       "  (185, 1)],\n",
       " [(186, 1)],\n",
       " [(14, 1),\n",
       "  (18, 1),\n",
       "  (20, 2),\n",
       "  (24, 1),\n",
       "  (42, 1),\n",
       "  (53, 1),\n",
       "  (65, 1),\n",
       "  (87, 1),\n",
       "  (88, 2),\n",
       "  (90, 1),\n",
       "  (114, 1),\n",
       "  (115, 1),\n",
       "  (124, 1),\n",
       "  (142, 1),\n",
       "  (144, 1),\n",
       "  (152, 1),\n",
       "  (172, 2),\n",
       "  (179, 1),\n",
       "  (185, 4),\n",
       "  (187, 1),\n",
       "  (188, 1),\n",
       "  (189, 1),\n",
       "  (190, 1),\n",
       "  (191, 1),\n",
       "  (192, 1),\n",
       "  (193, 1),\n",
       "  (194, 1),\n",
       "  (195, 1),\n",
       "  (196, 1),\n",
       "  (197, 1),\n",
       "  (198, 1),\n",
       "  (199, 1),\n",
       "  (200, 1),\n",
       "  (201, 1),\n",
       "  (202, 1),\n",
       "  (203, 1),\n",
       "  (204, 1),\n",
       "  (205, 1),\n",
       "  (206, 1),\n",
       "  (207, 1),\n",
       "  (208, 1),\n",
       "  (209, 1),\n",
       "  (210, 1),\n",
       "  (211, 1),\n",
       "  (212, 1),\n",
       "  (213, 1),\n",
       "  (214, 1),\n",
       "  (215, 1),\n",
       "  (216, 1),\n",
       "  (217, 2),\n",
       "  (218, 1),\n",
       "  (219, 1),\n",
       "  (220, 3),\n",
       "  (221, 1),\n",
       "  (222, 1),\n",
       "  (223, 1),\n",
       "  (224, 1),\n",
       "  (225, 1),\n",
       "  (226, 1),\n",
       "  (227, 1),\n",
       "  (228, 1),\n",
       "  (229, 1),\n",
       "  (230, 1),\n",
       "  (231, 1),\n",
       "  (232, 1),\n",
       "  (233, 1),\n",
       "  (234, 1),\n",
       "  (235, 1),\n",
       "  (236, 1),\n",
       "  (237, 1),\n",
       "  (238, 1),\n",
       "  (239, 1),\n",
       "  (240, 1),\n",
       "  (241, 1),\n",
       "  (242, 1),\n",
       "  (243, 1),\n",
       "  (244, 1),\n",
       "  (245, 1),\n",
       "  (246, 1),\n",
       "  (247, 1),\n",
       "  (248, 1),\n",
       "  (249, 1),\n",
       "  (250, 1),\n",
       "  (251, 1),\n",
       "  (252, 1),\n",
       "  (253, 1),\n",
       "  (254, 1),\n",
       "  (255, 1),\n",
       "  (256, 1),\n",
       "  (257, 1),\n",
       "  (258, 1),\n",
       "  (259, 1),\n",
       "  (260, 1),\n",
       "  (261, 1),\n",
       "  (262, 1),\n",
       "  (263, 1),\n",
       "  (264, 1),\n",
       "  (265, 1),\n",
       "  (266, 1),\n",
       "  (267, 1),\n",
       "  (268, 1),\n",
       "  (269, 1),\n",
       "  (270, 1),\n",
       "  (271, 1),\n",
       "  (272, 1)]]"
      ]
     },
     "execution_count": 125,
     "metadata": {},
     "output_type": "execute_result"
    }
   ],
   "source": [
    "corpus[:5]"
   ]
  },
  {
   "cell_type": "code",
   "execution_count": 148,
   "metadata": {},
   "outputs": [
    {
     "name": "stdout",
     "output_type": "stream",
     "text": [
      "(array([[ 0.086895  ,  2.8373368 ,  0.8477928 ,  0.07149873,  1.7738649 ,\n",
      "         0.25506178,  2.8196368 ,  0.27326912,  3.107274  , 30.73978   ,\n",
      "         0.1819211 ,  1.1177117 ,  1.9142535 ,  3.5757318 ,  0.03731016,\n",
      "        12.3659725 ,  6.608171  ,  1.423502  ,  0.07641966,  1.3461279 ]],\n",
      "      dtype=float32), None)\n",
      "(array([[8.6895004e-02, 1.9915497e+00, 9.2316166e-02, 1.0714285e+00,\n",
      "        1.7256030e+00, 2.5506178e-01, 5.6854649e+00, 1.2709453e+00,\n",
      "        1.3924249e+01, 1.0878944e+02, 1.8203606e-01, 1.3515106e-01,\n",
      "        3.7718568e+00, 5.2204561e+00, 3.7310164e-02, 1.7791197e+01,\n",
      "        2.1556547e+01, 1.6831012e+00, 1.0679431e+00, 4.0598893e+00]],\n",
      "      dtype=float32), None)\n",
      "(array([[ 7.0861263 ,  5.5801897 ,  0.09231617,  0.07149873,  2.53102   ,\n",
      "         0.25506178,  9.155501  ,  0.27326912,  2.9051547 , 34.998817  ,\n",
      "         0.18249866,  0.13515106,  1.7006612 ,  3.073293  ,  0.03731016,\n",
      "         3.3538744 ,  5.2265835 ,  0.32793778,  0.07641966,  1.4443938 ]],\n",
      "      dtype=float32), None)\n",
      "(array([[ 0.086895  ,  1.0175132 ,  0.09231617,  0.07149873,  1.5312052 ,\n",
      "         0.25506178,  1.1219608 ,  0.27326912,  1.8728517 , 20.870037  ,\n",
      "         0.1819211 ,  0.13515106,  1.6929338 ,  1.9885063 ,  0.03731016,\n",
      "         2.9871619 ,  2.5972762 ,  0.32793778,  0.07641966,  1.3018334 ]],\n",
      "      dtype=float32), None)\n",
      "(array([[8.68950039e-02, 5.92740679e+00, 9.23161656e-02, 7.14987293e-02,\n",
      "        4.10398102e+00, 1.77511179e+00, 2.70594263e+00, 2.73269117e-01,\n",
      "        1.04425955e+01, 7.36980820e+01, 1.81992173e-01, 1.35151058e-01,\n",
      "        4.11360073e+00, 8.70517159e+00, 3.73101644e-02, 1.05642300e+01,\n",
      "        1.89925728e+01, 3.29423010e-01, 1.07638967e+00, 3.04659510e+00]],\n",
      "      dtype=float32), None)\n"
     ]
    }
   ],
   "source": [
    "count_foo = 0\n",
    "for doc in corpus[:5]:\n",
    "    chunk = []\n",
    "    chunk.append(doc)\n",
    "    print(lda_model.inference(chunk, collect_sstats=False))"
   ]
  },
  {
   "cell_type": "code",
   "execution_count": 135,
   "metadata": {},
   "outputs": [
    {
     "data": {
      "text/plain": [
       "(array([[8.6895004e-02, 1.9915504e+00, 9.2316166e-02, 1.0714285e+00,\n",
       "         1.7256029e+00, 2.5506178e-01, 5.6854744e+00, 1.2709453e+00,\n",
       "         1.3924260e+01, 1.0878947e+02, 1.8203606e-01, 1.3515106e-01,\n",
       "         3.7718575e+00, 5.2204542e+00, 3.7310164e-02, 1.7791189e+01,\n",
       "         2.1556553e+01, 1.6831014e+00, 1.0679431e+00, 4.0598292e+00]],\n",
       "       dtype=float32), None)"
      ]
     },
     "execution_count": 135,
     "metadata": {},
     "output_type": "execute_result"
    }
   ],
   "source": [
    "lda_model.inference(corpus[1:2], collect_sstats=False)"
   ]
  },
  {
   "cell_type": "code",
   "execution_count": 146,
   "metadata": {},
   "outputs": [],
   "source": [
    "chunk_foo = []\n",
    "chunk_foo.append(corpus[1])"
   ]
  },
  {
   "cell_type": "code",
   "execution_count": 150,
   "metadata": {},
   "outputs": [
    {
     "data": {
      "text/plain": [
       "[(1, 0.039706856),\n",
       " (2, 0.011870805),\n",
       " (4, 0.024816532),\n",
       " (6, 0.039440483),\n",
       " (8, 0.043486964),\n",
       " (9, 0.43017),\n",
       " (11, 0.015641183),\n",
       " (12, 0.026787607),\n",
       " (13, 0.050042246),\n",
       " (15, 0.17303197),\n",
       " (16, 0.09247361),\n",
       " (17, 0.019946678),\n",
       " (19, 0.018837733)]"
      ]
     },
     "execution_count": 150,
     "metadata": {},
     "output_type": "execute_result"
    }
   ],
   "source": [
    "lda_model.get_document_topics(corpus[0])"
   ]
  },
  {
   "cell_type": "code",
   "execution_count": 151,
   "metadata": {},
   "outputs": [
    {
     "data": {
      "text/plain": [
       "[(1, 0.010459725),\n",
       " (6, 0.029861595),\n",
       " (8, 0.07313348),\n",
       " (9, 0.5713812),\n",
       " (12, 0.019810453),\n",
       " (13, 0.027418688),\n",
       " (15, 0.09344158),\n",
       " (16, 0.11321884),\n",
       " (19, 0.02131712)]"
      ]
     },
     "execution_count": 151,
     "metadata": {},
     "output_type": "execute_result"
    }
   ],
   "source": [
    "lda_model.get_document_topics(corpus[1])"
   ]
  },
  {
   "cell_type": "code",
   "execution_count": 159,
   "metadata": {},
   "outputs": [
    {
     "name": "stdout",
     "output_type": "stream",
     "text": [
      "[(1, 0.039706387), (2, 0.01187258), (4, 0.024814766), (6, 0.039440557), (8, 0.043487206), (9, 0.43016967), (11, 0.015641183), (12, 0.026787763), (13, 0.05004227), (15, 0.17303464), (16, 0.09247346), (17, 0.019944502), (19, 0.018837715)]\n",
      "[(1, 0.010459524), (6, 0.029862612), (8, 0.07313534), (9, 0.57138604), (12, 0.019810626), (13, 0.027418815), (15, 0.093441084), (16, 0.1132199), (19, 0.021308778)]\n",
      "[(0, 0.09026099), (1, 0.071085915), (4, 0.032239385), (6, 0.1166286), (8, 0.036982656), (9, 0.44580284), (12, 0.021662522), (13, 0.039146397), (15, 0.042721245), (16, 0.066582814), (19, 0.018398324)]\n",
      "[(1, 0.026415836), (4, 0.039751884), (6, 0.029127419), (8, 0.04862143), (9, 0.5418107), (12, 0.04395055), (13, 0.05162396), (15, 0.07755023), (16, 0.06742834), (19, 0.033797123)]\n",
      "[(1, 0.040498942), (4, 0.02804048), (5, 0.01212842), (6, 0.018488329), (8, 0.07134947), (9, 0.50354177), (12, 0.028106129), (13, 0.059478205), (15, 0.072182044), (16, 0.12976684), (19, 0.020812301)]\n"
     ]
    }
   ],
   "source": [
    "for i in range(len(corpus[:5])):\n",
    "    print(lda_model.get_document_topics(corpus[i]))"
   ]
  },
  {
   "cell_type": "code",
   "execution_count": 161,
   "metadata": {},
   "outputs": [
    {
     "ename": "TypeError",
     "evalue": "type list doesn't define __round__ method",
     "output_type": "error",
     "traceback": [
      "\u001b[0;31m---------------------------------------------------------------------------\u001b[0m",
      "\u001b[0;31mTypeError\u001b[0m                                 Traceback (most recent call last)",
      "\u001b[0;32m<ipython-input-161-04504b5e9aa3>\u001b[0m in \u001b[0;36m<module>\u001b[0;34m\u001b[0m\n\u001b[1;32m      6\u001b[0m                 \u001b[0mwp\u001b[0m \u001b[0;34m=\u001b[0m \u001b[0mlda_model\u001b[0m\u001b[0;34m.\u001b[0m\u001b[0mshow_topic\u001b[0m\u001b[0;34m(\u001b[0m\u001b[0mtopic_num\u001b[0m\u001b[0;34m)\u001b[0m\u001b[0;34m\u001b[0m\u001b[0m\n\u001b[1;32m      7\u001b[0m                 \u001b[0mtopic_keywords\u001b[0m \u001b[0;34m=\u001b[0m \u001b[0;34m\", \"\u001b[0m\u001b[0;34m.\u001b[0m\u001b[0mjoin\u001b[0m\u001b[0;34m(\u001b[0m\u001b[0;34m[\u001b[0m\u001b[0mword\u001b[0m \u001b[0;32mfor\u001b[0m \u001b[0mword\u001b[0m\u001b[0;34m,\u001b[0m \u001b[0mprop\u001b[0m \u001b[0;32min\u001b[0m \u001b[0mwp\u001b[0m\u001b[0;34m]\u001b[0m\u001b[0;34m)\u001b[0m\u001b[0;34m\u001b[0m\u001b[0m\n\u001b[0;32m----> 8\u001b[0;31m                 \u001b[0msent_topics_df\u001b[0m \u001b[0;34m=\u001b[0m \u001b[0msent_topics_df\u001b[0m\u001b[0;34m.\u001b[0m\u001b[0mappend\u001b[0m\u001b[0;34m(\u001b[0m\u001b[0mpd\u001b[0m\u001b[0;34m.\u001b[0m\u001b[0mSeries\u001b[0m\u001b[0;34m(\u001b[0m\u001b[0;34m[\u001b[0m\u001b[0mint\u001b[0m\u001b[0;34m(\u001b[0m\u001b[0mtopic_num\u001b[0m\u001b[0;34m)\u001b[0m\u001b[0;34m,\u001b[0m \u001b[0mround\u001b[0m\u001b[0;34m(\u001b[0m\u001b[0mprop_topic\u001b[0m\u001b[0;34m,\u001b[0m\u001b[0;36m4\u001b[0m\u001b[0;34m)\u001b[0m\u001b[0;34m,\u001b[0m \u001b[0mtopic_keywords\u001b[0m\u001b[0;34m]\u001b[0m\u001b[0;34m)\u001b[0m\u001b[0;34m,\u001b[0m \u001b[0mignore_index\u001b[0m\u001b[0;34m=\u001b[0m\u001b[0;32mTrue\u001b[0m\u001b[0;34m)\u001b[0m\u001b[0;34m\u001b[0m\u001b[0m\n\u001b[0m",
      "\u001b[0;31mTypeError\u001b[0m: type list doesn't define __round__ method"
     ]
    }
   ],
   "source": [
    "sent_topics_df = pd.DataFrame()\n",
    "for i in range(len(corpus[:5])):\n",
    "    #print(lda_model.get_document_topics(corpus[i]))\n",
    "    for (topic_num, prop_topic) in enumerate(row):\n",
    "                #if j == 0:  # => dominant topic\n",
    "                wp = lda_model.show_topic(topic_num)\n",
    "                topic_keywords = \", \".join([word for word, prop in wp])\n",
    "                sent_topics_df = sent_topics_df.append(pd.Series([int(topic_num), round(prop_topic,4), topic_keywords]), ignore_index=True)"
   ]
  },
  {
   "cell_type": "code",
   "execution_count": null,
   "metadata": {},
   "outputs": [],
   "source": [
    "topic_figure_df = pd.DataFrame()\n",
    "topic_figure_df.columns = ['Author_Num']\n",
    "for i in range(20):\n",
    "    topic_figure_df.colunms.append(\"{}\".format(i+1))\n",
    "topic_figure_df.columns = ['Author_Num']\n",
    "topic_figure_df = pd.concat(topic_figure_df, contents)\n",
    "    # Add original text to the end of the output\n",
    "    contents = pd.Series(texts)\n",
    "    sent_topics_df = pd.concat([sent_topics_df, contents], axis=1)\n",
    "    return(sent_topics_df)\n"
   ]
  },
  {
   "cell_type": "code",
   "execution_count": 190,
   "metadata": {},
   "outputs": [],
   "source": [
    "topic_figure_df = pd.DataFrame(index=np.arange(len(corpus)), columns=np.arange(21))\n",
    "columns_title = ['Author_Num']\n",
    "for i in range(20):\n",
    "    columns_title.append(\"{}\".format(i+1))\n",
    "columns_title\n",
    "topic_figure_df.columns = columns_title\n"
   ]
  },
  {
   "cell_type": "code",
   "execution_count": 191,
   "metadata": {},
   "outputs": [
    {
     "data": {
      "text/html": [
       "<div>\n",
       "<style scoped>\n",
       "    .dataframe tbody tr th:only-of-type {\n",
       "        vertical-align: middle;\n",
       "    }\n",
       "\n",
       "    .dataframe tbody tr th {\n",
       "        vertical-align: top;\n",
       "    }\n",
       "\n",
       "    .dataframe thead th {\n",
       "        text-align: right;\n",
       "    }\n",
       "</style>\n",
       "<table border=\"1\" class=\"dataframe\">\n",
       "  <thead>\n",
       "    <tr style=\"text-align: right;\">\n",
       "      <th></th>\n",
       "      <th>Author_Num</th>\n",
       "      <th>1</th>\n",
       "      <th>2</th>\n",
       "      <th>3</th>\n",
       "      <th>4</th>\n",
       "      <th>5</th>\n",
       "      <th>6</th>\n",
       "      <th>7</th>\n",
       "      <th>8</th>\n",
       "      <th>9</th>\n",
       "      <th>...</th>\n",
       "      <th>11</th>\n",
       "      <th>12</th>\n",
       "      <th>13</th>\n",
       "      <th>14</th>\n",
       "      <th>15</th>\n",
       "      <th>16</th>\n",
       "      <th>17</th>\n",
       "      <th>18</th>\n",
       "      <th>19</th>\n",
       "      <th>20</th>\n",
       "    </tr>\n",
       "  </thead>\n",
       "  <tbody>\n",
       "    <tr>\n",
       "      <th>0</th>\n",
       "      <td>NaN</td>\n",
       "      <td>NaN</td>\n",
       "      <td>NaN</td>\n",
       "      <td>NaN</td>\n",
       "      <td>NaN</td>\n",
       "      <td>NaN</td>\n",
       "      <td>NaN</td>\n",
       "      <td>NaN</td>\n",
       "      <td>NaN</td>\n",
       "      <td>NaN</td>\n",
       "      <td>...</td>\n",
       "      <td>NaN</td>\n",
       "      <td>NaN</td>\n",
       "      <td>NaN</td>\n",
       "      <td>NaN</td>\n",
       "      <td>NaN</td>\n",
       "      <td>NaN</td>\n",
       "      <td>NaN</td>\n",
       "      <td>NaN</td>\n",
       "      <td>NaN</td>\n",
       "      <td>NaN</td>\n",
       "    </tr>\n",
       "    <tr>\n",
       "      <th>1</th>\n",
       "      <td>NaN</td>\n",
       "      <td>NaN</td>\n",
       "      <td>NaN</td>\n",
       "      <td>NaN</td>\n",
       "      <td>NaN</td>\n",
       "      <td>NaN</td>\n",
       "      <td>NaN</td>\n",
       "      <td>NaN</td>\n",
       "      <td>NaN</td>\n",
       "      <td>NaN</td>\n",
       "      <td>...</td>\n",
       "      <td>NaN</td>\n",
       "      <td>NaN</td>\n",
       "      <td>NaN</td>\n",
       "      <td>NaN</td>\n",
       "      <td>NaN</td>\n",
       "      <td>NaN</td>\n",
       "      <td>NaN</td>\n",
       "      <td>NaN</td>\n",
       "      <td>NaN</td>\n",
       "      <td>NaN</td>\n",
       "    </tr>\n",
       "    <tr>\n",
       "      <th>2</th>\n",
       "      <td>NaN</td>\n",
       "      <td>NaN</td>\n",
       "      <td>NaN</td>\n",
       "      <td>NaN</td>\n",
       "      <td>NaN</td>\n",
       "      <td>NaN</td>\n",
       "      <td>NaN</td>\n",
       "      <td>NaN</td>\n",
       "      <td>NaN</td>\n",
       "      <td>NaN</td>\n",
       "      <td>...</td>\n",
       "      <td>NaN</td>\n",
       "      <td>NaN</td>\n",
       "      <td>NaN</td>\n",
       "      <td>NaN</td>\n",
       "      <td>NaN</td>\n",
       "      <td>NaN</td>\n",
       "      <td>NaN</td>\n",
       "      <td>NaN</td>\n",
       "      <td>NaN</td>\n",
       "      <td>NaN</td>\n",
       "    </tr>\n",
       "    <tr>\n",
       "      <th>3</th>\n",
       "      <td>NaN</td>\n",
       "      <td>NaN</td>\n",
       "      <td>NaN</td>\n",
       "      <td>NaN</td>\n",
       "      <td>NaN</td>\n",
       "      <td>NaN</td>\n",
       "      <td>NaN</td>\n",
       "      <td>NaN</td>\n",
       "      <td>NaN</td>\n",
       "      <td>NaN</td>\n",
       "      <td>...</td>\n",
       "      <td>NaN</td>\n",
       "      <td>NaN</td>\n",
       "      <td>NaN</td>\n",
       "      <td>NaN</td>\n",
       "      <td>NaN</td>\n",
       "      <td>NaN</td>\n",
       "      <td>NaN</td>\n",
       "      <td>NaN</td>\n",
       "      <td>NaN</td>\n",
       "      <td>NaN</td>\n",
       "    </tr>\n",
       "    <tr>\n",
       "      <th>4</th>\n",
       "      <td>NaN</td>\n",
       "      <td>NaN</td>\n",
       "      <td>NaN</td>\n",
       "      <td>NaN</td>\n",
       "      <td>NaN</td>\n",
       "      <td>NaN</td>\n",
       "      <td>NaN</td>\n",
       "      <td>NaN</td>\n",
       "      <td>NaN</td>\n",
       "      <td>NaN</td>\n",
       "      <td>...</td>\n",
       "      <td>NaN</td>\n",
       "      <td>NaN</td>\n",
       "      <td>NaN</td>\n",
       "      <td>NaN</td>\n",
       "      <td>NaN</td>\n",
       "      <td>NaN</td>\n",
       "      <td>NaN</td>\n",
       "      <td>NaN</td>\n",
       "      <td>NaN</td>\n",
       "      <td>NaN</td>\n",
       "    </tr>\n",
       "  </tbody>\n",
       "</table>\n",
       "<p>5 rows × 21 columns</p>\n",
       "</div>"
      ],
      "text/plain": [
       "  Author_Num    1    2    3    4    5    6    7    8    9  ...   11   12   13  \\\n",
       "0        NaN  NaN  NaN  NaN  NaN  NaN  NaN  NaN  NaN  NaN  ...  NaN  NaN  NaN   \n",
       "1        NaN  NaN  NaN  NaN  NaN  NaN  NaN  NaN  NaN  NaN  ...  NaN  NaN  NaN   \n",
       "2        NaN  NaN  NaN  NaN  NaN  NaN  NaN  NaN  NaN  NaN  ...  NaN  NaN  NaN   \n",
       "3        NaN  NaN  NaN  NaN  NaN  NaN  NaN  NaN  NaN  NaN  ...  NaN  NaN  NaN   \n",
       "4        NaN  NaN  NaN  NaN  NaN  NaN  NaN  NaN  NaN  NaN  ...  NaN  NaN  NaN   \n",
       "\n",
       "    14   15   16   17   18   19   20  \n",
       "0  NaN  NaN  NaN  NaN  NaN  NaN  NaN  \n",
       "1  NaN  NaN  NaN  NaN  NaN  NaN  NaN  \n",
       "2  NaN  NaN  NaN  NaN  NaN  NaN  NaN  \n",
       "3  NaN  NaN  NaN  NaN  NaN  NaN  NaN  \n",
       "4  NaN  NaN  NaN  NaN  NaN  NaN  NaN  \n",
       "\n",
       "[5 rows x 21 columns]"
      ]
     },
     "execution_count": 191,
     "metadata": {},
     "output_type": "execute_result"
    }
   ],
   "source": [
    "topic_figure_df.head()\n"
   ]
  },
  {
   "cell_type": "code",
   "execution_count": 199,
   "metadata": {
    "collapsed": true,
    "jupyter": {
     "outputs_hidden": true
    }
   },
   "outputs": [
    {
     "name": "stdout",
     "output_type": "stream",
     "text": [
      "0/199482\n",
      "1/199482\n",
      "2/199482\n",
      "3/199482\n",
      "4/199482\n",
      "5/199482\n",
      "6/199482\n",
      "7/199482\n",
      "8/199482\n",
      "9/199482\n",
      "10/199482\n",
      "11/199482\n",
      "12/199482\n"
     ]
    },
    {
     "ename": "KeyboardInterrupt",
     "evalue": "",
     "output_type": "error",
     "traceback": [
      "\u001b[0;31m---------------------------------------------------------------------------\u001b[0m",
      "\u001b[0;31mKeyboardInterrupt\u001b[0m                         Traceback (most recent call last)",
      "\u001b[0;32m<ipython-input-199-9e8d2ecc2a50>\u001b[0m in \u001b[0;36m<module>\u001b[0;34m\u001b[0m\n\u001b[1;32m      6\u001b[0m     \u001b[0;31m#row = lda_model.get_document_topics(corpus[i])\u001b[0m\u001b[0;34m\u001b[0m\u001b[0;34m\u001b[0m\u001b[0m\n\u001b[1;32m      7\u001b[0m     \u001b[0;32mfor\u001b[0m \u001b[0mj\u001b[0m\u001b[0;34m,\u001b[0m\u001b[0;34m(\u001b[0m\u001b[0mtopic_num\u001b[0m\u001b[0;34m,\u001b[0m \u001b[0mprop_topic\u001b[0m\u001b[0;34m)\u001b[0m \u001b[0;32min\u001b[0m \u001b[0menumerate\u001b[0m\u001b[0;34m(\u001b[0m\u001b[0mrow\u001b[0m\u001b[0;34m)\u001b[0m\u001b[0;34m:\u001b[0m\u001b[0;34m\u001b[0m\u001b[0m\n\u001b[0;32m----> 8\u001b[0;31m         \u001b[0mtopic_figure_df\u001b[0m\u001b[0;34m.\u001b[0m\u001b[0miloc\u001b[0m\u001b[0;34m[\u001b[0m\u001b[0mi\u001b[0m\u001b[0;34m,\u001b[0m\u001b[0mtopic_num\u001b[0m\u001b[0;34m]\u001b[0m \u001b[0;34m=\u001b[0m \u001b[0mprop_topic\u001b[0m\u001b[0;34m\u001b[0m\u001b[0m\n\u001b[0m\u001b[1;32m      9\u001b[0m     \u001b[0mprint\u001b[0m\u001b[0;34m(\u001b[0m\u001b[0;34m\"{}/{}\"\u001b[0m\u001b[0;34m.\u001b[0m\u001b[0mformat\u001b[0m\u001b[0;34m(\u001b[0m\u001b[0mi\u001b[0m\u001b[0;34m,\u001b[0m\u001b[0mcorpus_len\u001b[0m\u001b[0;34m)\u001b[0m\u001b[0;34m)\u001b[0m\u001b[0;34m\u001b[0m\u001b[0m\n\u001b[1;32m     10\u001b[0m \u001b[0mend\u001b[0m \u001b[0;34m=\u001b[0m \u001b[0mtime\u001b[0m\u001b[0;34m.\u001b[0m\u001b[0mtime\u001b[0m\u001b[0;34m(\u001b[0m\u001b[0;34m)\u001b[0m\u001b[0;34m\u001b[0m\u001b[0m\n",
      "\u001b[0;32m/usr/local/lib/python3.5/dist-packages/pandas/core/indexing.py\u001b[0m in \u001b[0;36m__setitem__\u001b[0;34m(self, key, value)\u001b[0m\n\u001b[1;32m    203\u001b[0m             \u001b[0mkey\u001b[0m \u001b[0;34m=\u001b[0m \u001b[0mcom\u001b[0m\u001b[0;34m.\u001b[0m\u001b[0mapply_if_callable\u001b[0m\u001b[0;34m(\u001b[0m\u001b[0mkey\u001b[0m\u001b[0;34m,\u001b[0m \u001b[0mself\u001b[0m\u001b[0;34m.\u001b[0m\u001b[0mobj\u001b[0m\u001b[0;34m)\u001b[0m\u001b[0;34m\u001b[0m\u001b[0m\n\u001b[1;32m    204\u001b[0m         \u001b[0mindexer\u001b[0m \u001b[0;34m=\u001b[0m \u001b[0mself\u001b[0m\u001b[0;34m.\u001b[0m\u001b[0m_get_setitem_indexer\u001b[0m\u001b[0;34m(\u001b[0m\u001b[0mkey\u001b[0m\u001b[0;34m)\u001b[0m\u001b[0;34m\u001b[0m\u001b[0m\n\u001b[0;32m--> 205\u001b[0;31m         \u001b[0mself\u001b[0m\u001b[0;34m.\u001b[0m\u001b[0m_setitem_with_indexer\u001b[0m\u001b[0;34m(\u001b[0m\u001b[0mindexer\u001b[0m\u001b[0;34m,\u001b[0m \u001b[0mvalue\u001b[0m\u001b[0;34m)\u001b[0m\u001b[0;34m\u001b[0m\u001b[0m\n\u001b[0m\u001b[1;32m    206\u001b[0m \u001b[0;34m\u001b[0m\u001b[0m\n\u001b[1;32m    207\u001b[0m     \u001b[0;32mdef\u001b[0m \u001b[0m_validate_key\u001b[0m\u001b[0;34m(\u001b[0m\u001b[0mself\u001b[0m\u001b[0;34m,\u001b[0m \u001b[0mkey\u001b[0m\u001b[0;34m,\u001b[0m \u001b[0maxis\u001b[0m\u001b[0;34m:\u001b[0m \u001b[0mint\u001b[0m\u001b[0;34m)\u001b[0m\u001b[0;34m:\u001b[0m\u001b[0;34m\u001b[0m\u001b[0m\n",
      "\u001b[0;32m/usr/local/lib/python3.5/dist-packages/pandas/core/indexing.py\u001b[0m in \u001b[0;36m_setitem_with_indexer\u001b[0;34m(self, indexer, value)\u001b[0m\n\u001b[1;32m    591\u001b[0m             \u001b[0;31m# actually do the set\u001b[0m\u001b[0;34m\u001b[0m\u001b[0;34m\u001b[0m\u001b[0m\n\u001b[1;32m    592\u001b[0m             \u001b[0mself\u001b[0m\u001b[0;34m.\u001b[0m\u001b[0mobj\u001b[0m\u001b[0;34m.\u001b[0m\u001b[0m_consolidate_inplace\u001b[0m\u001b[0;34m(\u001b[0m\u001b[0;34m)\u001b[0m\u001b[0;34m\u001b[0m\u001b[0m\n\u001b[0;32m--> 593\u001b[0;31m             \u001b[0mself\u001b[0m\u001b[0;34m.\u001b[0m\u001b[0mobj\u001b[0m\u001b[0;34m.\u001b[0m\u001b[0m_data\u001b[0m \u001b[0;34m=\u001b[0m \u001b[0mself\u001b[0m\u001b[0;34m.\u001b[0m\u001b[0mobj\u001b[0m\u001b[0;34m.\u001b[0m\u001b[0m_data\u001b[0m\u001b[0;34m.\u001b[0m\u001b[0msetitem\u001b[0m\u001b[0;34m(\u001b[0m\u001b[0mindexer\u001b[0m\u001b[0;34m=\u001b[0m\u001b[0mindexer\u001b[0m\u001b[0;34m,\u001b[0m \u001b[0mvalue\u001b[0m\u001b[0;34m=\u001b[0m\u001b[0mvalue\u001b[0m\u001b[0;34m)\u001b[0m\u001b[0;34m\u001b[0m\u001b[0m\n\u001b[0m\u001b[1;32m    594\u001b[0m             \u001b[0mself\u001b[0m\u001b[0;34m.\u001b[0m\u001b[0mobj\u001b[0m\u001b[0;34m.\u001b[0m\u001b[0m_maybe_update_cacher\u001b[0m\u001b[0;34m(\u001b[0m\u001b[0mclear\u001b[0m\u001b[0;34m=\u001b[0m\u001b[0;32mTrue\u001b[0m\u001b[0;34m)\u001b[0m\u001b[0;34m\u001b[0m\u001b[0m\n\u001b[1;32m    595\u001b[0m \u001b[0;34m\u001b[0m\u001b[0m\n",
      "\u001b[0;32m/usr/local/lib/python3.5/dist-packages/pandas/core/internals/managers.py\u001b[0m in \u001b[0;36msetitem\u001b[0;34m(self, **kwargs)\u001b[0m\n\u001b[1;32m    558\u001b[0m \u001b[0;34m\u001b[0m\u001b[0m\n\u001b[1;32m    559\u001b[0m     \u001b[0;32mdef\u001b[0m \u001b[0msetitem\u001b[0m\u001b[0;34m(\u001b[0m\u001b[0mself\u001b[0m\u001b[0;34m,\u001b[0m \u001b[0;34m**\u001b[0m\u001b[0mkwargs\u001b[0m\u001b[0;34m)\u001b[0m\u001b[0;34m:\u001b[0m\u001b[0;34m\u001b[0m\u001b[0m\n\u001b[0;32m--> 560\u001b[0;31m         \u001b[0;32mreturn\u001b[0m \u001b[0mself\u001b[0m\u001b[0;34m.\u001b[0m\u001b[0mapply\u001b[0m\u001b[0;34m(\u001b[0m\u001b[0;34m\"setitem\"\u001b[0m\u001b[0;34m,\u001b[0m \u001b[0;34m**\u001b[0m\u001b[0mkwargs\u001b[0m\u001b[0;34m)\u001b[0m\u001b[0;34m\u001b[0m\u001b[0m\n\u001b[0m\u001b[1;32m    561\u001b[0m \u001b[0;34m\u001b[0m\u001b[0m\n\u001b[1;32m    562\u001b[0m     \u001b[0;32mdef\u001b[0m \u001b[0mputmask\u001b[0m\u001b[0;34m(\u001b[0m\u001b[0mself\u001b[0m\u001b[0;34m,\u001b[0m \u001b[0;34m**\u001b[0m\u001b[0mkwargs\u001b[0m\u001b[0;34m)\u001b[0m\u001b[0;34m:\u001b[0m\u001b[0;34m\u001b[0m\u001b[0m\n",
      "\u001b[0;32m/usr/local/lib/python3.5/dist-packages/pandas/core/internals/managers.py\u001b[0m in \u001b[0;36mapply\u001b[0;34m(self, f, axes, filter, do_integrity_check, consolidate, **kwargs)\u001b[0m\n\u001b[1;32m    436\u001b[0m                     \u001b[0mkwargs\u001b[0m\u001b[0;34m[\u001b[0m\u001b[0mk\u001b[0m\u001b[0;34m]\u001b[0m \u001b[0;34m=\u001b[0m \u001b[0mobj\u001b[0m\u001b[0;34m.\u001b[0m\u001b[0mreindex\u001b[0m\u001b[0;34m(\u001b[0m\u001b[0mb_items\u001b[0m\u001b[0;34m,\u001b[0m \u001b[0maxis\u001b[0m\u001b[0;34m=\u001b[0m\u001b[0maxis\u001b[0m\u001b[0;34m,\u001b[0m \u001b[0mcopy\u001b[0m\u001b[0;34m=\u001b[0m\u001b[0malign_copy\u001b[0m\u001b[0;34m)\u001b[0m\u001b[0;34m\u001b[0m\u001b[0m\n\u001b[1;32m    437\u001b[0m \u001b[0;34m\u001b[0m\u001b[0m\n\u001b[0;32m--> 438\u001b[0;31m             \u001b[0mapplied\u001b[0m \u001b[0;34m=\u001b[0m \u001b[0mgetattr\u001b[0m\u001b[0;34m(\u001b[0m\u001b[0mb\u001b[0m\u001b[0;34m,\u001b[0m \u001b[0mf\u001b[0m\u001b[0;34m)\u001b[0m\u001b[0;34m(\u001b[0m\u001b[0;34m**\u001b[0m\u001b[0mkwargs\u001b[0m\u001b[0;34m)\u001b[0m\u001b[0;34m\u001b[0m\u001b[0m\n\u001b[0m\u001b[1;32m    439\u001b[0m             \u001b[0mresult_blocks\u001b[0m \u001b[0;34m=\u001b[0m \u001b[0m_extend_blocks\u001b[0m\u001b[0;34m(\u001b[0m\u001b[0mapplied\u001b[0m\u001b[0;34m,\u001b[0m \u001b[0mresult_blocks\u001b[0m\u001b[0;34m)\u001b[0m\u001b[0;34m\u001b[0m\u001b[0m\n\u001b[1;32m    440\u001b[0m \u001b[0;34m\u001b[0m\u001b[0m\n",
      "\u001b[0;32m/usr/local/lib/python3.5/dist-packages/pandas/core/internals/blocks.py\u001b[0m in \u001b[0;36msetitem\u001b[0;34m(self, indexer, value)\u001b[0m\n\u001b[1;32m    940\u001b[0m \u001b[0;34m\u001b[0m\u001b[0m\n\u001b[1;32m    941\u001b[0m         \u001b[0;31m# coerce and try to infer the dtypes of the result\u001b[0m\u001b[0;34m\u001b[0m\u001b[0;34m\u001b[0m\u001b[0m\n\u001b[0;32m--> 942\u001b[0;31m         \u001b[0mvalues\u001b[0m \u001b[0;34m=\u001b[0m \u001b[0mself\u001b[0m\u001b[0;34m.\u001b[0m\u001b[0m_try_coerce_and_cast_result\u001b[0m\u001b[0;34m(\u001b[0m\u001b[0mvalues\u001b[0m\u001b[0;34m,\u001b[0m \u001b[0mdtype\u001b[0m\u001b[0;34m)\u001b[0m\u001b[0;34m\u001b[0m\u001b[0m\n\u001b[0m\u001b[1;32m    943\u001b[0m         \u001b[0;32mif\u001b[0m \u001b[0mtranspose\u001b[0m\u001b[0;34m:\u001b[0m\u001b[0;34m\u001b[0m\u001b[0m\n\u001b[1;32m    944\u001b[0m             \u001b[0mvalues\u001b[0m \u001b[0;34m=\u001b[0m \u001b[0mvalues\u001b[0m\u001b[0;34m.\u001b[0m\u001b[0mT\u001b[0m\u001b[0;34m\u001b[0m\u001b[0m\n",
      "\u001b[0;32m/usr/local/lib/python3.5/dist-packages/pandas/core/internals/blocks.py\u001b[0m in \u001b[0;36m_try_coerce_and_cast_result\u001b[0;34m(self, result, dtype)\u001b[0m\n\u001b[1;32m    745\u001b[0m     \u001b[0;32mdef\u001b[0m \u001b[0m_try_coerce_and_cast_result\u001b[0m\u001b[0;34m(\u001b[0m\u001b[0mself\u001b[0m\u001b[0;34m,\u001b[0m \u001b[0mresult\u001b[0m\u001b[0;34m,\u001b[0m \u001b[0mdtype\u001b[0m\u001b[0;34m=\u001b[0m\u001b[0;32mNone\u001b[0m\u001b[0;34m)\u001b[0m\u001b[0;34m:\u001b[0m\u001b[0;34m\u001b[0m\u001b[0m\n\u001b[1;32m    746\u001b[0m         \u001b[0mresult\u001b[0m \u001b[0;34m=\u001b[0m \u001b[0mself\u001b[0m\u001b[0;34m.\u001b[0m\u001b[0m_try_coerce_result\u001b[0m\u001b[0;34m(\u001b[0m\u001b[0mresult\u001b[0m\u001b[0;34m)\u001b[0m\u001b[0;34m\u001b[0m\u001b[0m\n\u001b[0;32m--> 747\u001b[0;31m         \u001b[0mresult\u001b[0m \u001b[0;34m=\u001b[0m \u001b[0mself\u001b[0m\u001b[0;34m.\u001b[0m\u001b[0m_try_cast_result\u001b[0m\u001b[0;34m(\u001b[0m\u001b[0mresult\u001b[0m\u001b[0;34m,\u001b[0m \u001b[0mdtype\u001b[0m\u001b[0;34m=\u001b[0m\u001b[0mdtype\u001b[0m\u001b[0;34m)\u001b[0m\u001b[0;34m\u001b[0m\u001b[0m\n\u001b[0m\u001b[1;32m    748\u001b[0m         \u001b[0;32mreturn\u001b[0m \u001b[0mresult\u001b[0m\u001b[0;34m\u001b[0m\u001b[0m\n\u001b[1;32m    749\u001b[0m \u001b[0;34m\u001b[0m\u001b[0m\n",
      "\u001b[0;32m/usr/local/lib/python3.5/dist-packages/pandas/core/internals/blocks.py\u001b[0m in \u001b[0;36m_try_cast_result\u001b[0;34m(self, result, dtype)\u001b[0m\n\u001b[1;32m    708\u001b[0m \u001b[0;34m\u001b[0m\u001b[0m\n\u001b[1;32m    709\u001b[0m         \u001b[0;31m# may need to change the dtype here\u001b[0m\u001b[0;34m\u001b[0m\u001b[0;34m\u001b[0m\u001b[0m\n\u001b[0;32m--> 710\u001b[0;31m         \u001b[0;32mreturn\u001b[0m \u001b[0mmaybe_downcast_to_dtype\u001b[0m\u001b[0;34m(\u001b[0m\u001b[0mresult\u001b[0m\u001b[0;34m,\u001b[0m \u001b[0mdtype\u001b[0m\u001b[0;34m)\u001b[0m\u001b[0;34m\u001b[0m\u001b[0m\n\u001b[0m\u001b[1;32m    711\u001b[0m \u001b[0;34m\u001b[0m\u001b[0m\n\u001b[1;32m    712\u001b[0m     \u001b[0;32mdef\u001b[0m \u001b[0m_coerce_values\u001b[0m\u001b[0;34m(\u001b[0m\u001b[0mself\u001b[0m\u001b[0;34m,\u001b[0m \u001b[0mvalues\u001b[0m\u001b[0;34m)\u001b[0m\u001b[0;34m:\u001b[0m\u001b[0;34m\u001b[0m\u001b[0m\n",
      "\u001b[0;32m/usr/local/lib/python3.5/dist-packages/pandas/core/dtypes/cast.py\u001b[0m in \u001b[0;36mmaybe_downcast_to_dtype\u001b[0;34m(result, dtype)\u001b[0m\n\u001b[1;32m    104\u001b[0m     \u001b[0;32mif\u001b[0m \u001b[0misinstance\u001b[0m\u001b[0;34m(\u001b[0m\u001b[0mdtype\u001b[0m\u001b[0;34m,\u001b[0m \u001b[0mstr\u001b[0m\u001b[0;34m)\u001b[0m\u001b[0;34m:\u001b[0m\u001b[0;34m\u001b[0m\u001b[0m\n\u001b[1;32m    105\u001b[0m         \u001b[0;32mif\u001b[0m \u001b[0mdtype\u001b[0m \u001b[0;34m==\u001b[0m \u001b[0;34m\"infer\"\u001b[0m\u001b[0;34m:\u001b[0m\u001b[0;34m\u001b[0m\u001b[0m\n\u001b[0;32m--> 106\u001b[0;31m             \u001b[0minferred_type\u001b[0m \u001b[0;34m=\u001b[0m \u001b[0mlib\u001b[0m\u001b[0;34m.\u001b[0m\u001b[0minfer_dtype\u001b[0m\u001b[0;34m(\u001b[0m\u001b[0mensure_object\u001b[0m\u001b[0;34m(\u001b[0m\u001b[0mresult\u001b[0m\u001b[0;34m.\u001b[0m\u001b[0mravel\u001b[0m\u001b[0;34m(\u001b[0m\u001b[0;34m)\u001b[0m\u001b[0;34m)\u001b[0m\u001b[0;34m,\u001b[0m \u001b[0mskipna\u001b[0m\u001b[0;34m=\u001b[0m\u001b[0;32mFalse\u001b[0m\u001b[0;34m)\u001b[0m\u001b[0;34m\u001b[0m\u001b[0m\n\u001b[0m\u001b[1;32m    107\u001b[0m             \u001b[0;32mif\u001b[0m \u001b[0minferred_type\u001b[0m \u001b[0;34m==\u001b[0m \u001b[0;34m\"boolean\"\u001b[0m\u001b[0;34m:\u001b[0m\u001b[0;34m\u001b[0m\u001b[0m\n\u001b[1;32m    108\u001b[0m                 \u001b[0mdtype\u001b[0m \u001b[0;34m=\u001b[0m \u001b[0;34m\"bool\"\u001b[0m\u001b[0;34m\u001b[0m\u001b[0m\n",
      "\u001b[0;31mKeyboardInterrupt\u001b[0m: "
     ]
    }
   ],
   "source": [
    "corpus_len = len(corpus)\n",
    "start = time.time()\n",
    "for i in range(corpus_len):\n",
    "    topic_figure_df.iloc[i,0] = i\n",
    "    #row = lda_model.get_document_topics(corpus[i])\n",
    "    for j,(topic_num, prop_topic) in enumerate(row):\n",
    "        topic_figure_df.iloc[i,topic_num] = prop_topic\n",
    "    print(\"{}/{}\".format(i,corpus_len))\n",
    "end = time.time()\n",
    "print ('Time to find the topic for each users comments')\n",
    "print(end - start)"
   ]
  },
  {
   "cell_type": "code",
   "execution_count": 193,
   "metadata": {},
   "outputs": [
    {
     "data": {
      "text/html": [
       "<div>\n",
       "<style scoped>\n",
       "    .dataframe tbody tr th:only-of-type {\n",
       "        vertical-align: middle;\n",
       "    }\n",
       "\n",
       "    .dataframe tbody tr th {\n",
       "        vertical-align: top;\n",
       "    }\n",
       "\n",
       "    .dataframe thead th {\n",
       "        text-align: right;\n",
       "    }\n",
       "</style>\n",
       "<table border=\"1\" class=\"dataframe\">\n",
       "  <thead>\n",
       "    <tr style=\"text-align: right;\">\n",
       "      <th></th>\n",
       "      <th>Author_Num</th>\n",
       "      <th>1</th>\n",
       "      <th>2</th>\n",
       "      <th>3</th>\n",
       "      <th>4</th>\n",
       "      <th>5</th>\n",
       "      <th>6</th>\n",
       "      <th>7</th>\n",
       "      <th>8</th>\n",
       "      <th>9</th>\n",
       "      <th>...</th>\n",
       "      <th>11</th>\n",
       "      <th>12</th>\n",
       "      <th>13</th>\n",
       "      <th>14</th>\n",
       "      <th>15</th>\n",
       "      <th>16</th>\n",
       "      <th>17</th>\n",
       "      <th>18</th>\n",
       "      <th>19</th>\n",
       "      <th>20</th>\n",
       "    </tr>\n",
       "  </thead>\n",
       "  <tbody>\n",
       "    <tr>\n",
       "      <th>0</th>\n",
       "      <td>0</td>\n",
       "      <td>0.0397067</td>\n",
       "      <td>0.0118728</td>\n",
       "      <td>NaN</td>\n",
       "      <td>0.0248146</td>\n",
       "      <td>NaN</td>\n",
       "      <td>0.0394496</td>\n",
       "      <td>NaN</td>\n",
       "      <td>0.0434838</td>\n",
       "      <td>0.430171</td>\n",
       "      <td>...</td>\n",
       "      <td>0.0156412</td>\n",
       "      <td>0.0267877</td>\n",
       "      <td>0.05004</td>\n",
       "      <td>NaN</td>\n",
       "      <td>0.173031</td>\n",
       "      <td>0.0924744</td>\n",
       "      <td>0.0199422</td>\n",
       "      <td>NaN</td>\n",
       "      <td>0.0188377</td>\n",
       "      <td>NaN</td>\n",
       "    </tr>\n",
       "    <tr>\n",
       "      <th>1</th>\n",
       "      <td>1</td>\n",
       "      <td>0.0104599</td>\n",
       "      <td>NaN</td>\n",
       "      <td>NaN</td>\n",
       "      <td>NaN</td>\n",
       "      <td>NaN</td>\n",
       "      <td>0.029861</td>\n",
       "      <td>NaN</td>\n",
       "      <td>0.0731324</td>\n",
       "      <td>0.571378</td>\n",
       "      <td>...</td>\n",
       "      <td>NaN</td>\n",
       "      <td>0.0198104</td>\n",
       "      <td>0.0274186</td>\n",
       "      <td>NaN</td>\n",
       "      <td>0.0934419</td>\n",
       "      <td>0.113218</td>\n",
       "      <td>NaN</td>\n",
       "      <td>NaN</td>\n",
       "      <td>0.021322</td>\n",
       "      <td>NaN</td>\n",
       "    </tr>\n",
       "    <tr>\n",
       "      <th>2</th>\n",
       "      <td>NaN</td>\n",
       "      <td>NaN</td>\n",
       "      <td>NaN</td>\n",
       "      <td>NaN</td>\n",
       "      <td>NaN</td>\n",
       "      <td>NaN</td>\n",
       "      <td>NaN</td>\n",
       "      <td>NaN</td>\n",
       "      <td>NaN</td>\n",
       "      <td>NaN</td>\n",
       "      <td>...</td>\n",
       "      <td>NaN</td>\n",
       "      <td>NaN</td>\n",
       "      <td>NaN</td>\n",
       "      <td>NaN</td>\n",
       "      <td>NaN</td>\n",
       "      <td>NaN</td>\n",
       "      <td>NaN</td>\n",
       "      <td>NaN</td>\n",
       "      <td>NaN</td>\n",
       "      <td>NaN</td>\n",
       "    </tr>\n",
       "    <tr>\n",
       "      <th>3</th>\n",
       "      <td>NaN</td>\n",
       "      <td>NaN</td>\n",
       "      <td>NaN</td>\n",
       "      <td>NaN</td>\n",
       "      <td>NaN</td>\n",
       "      <td>NaN</td>\n",
       "      <td>NaN</td>\n",
       "      <td>NaN</td>\n",
       "      <td>NaN</td>\n",
       "      <td>NaN</td>\n",
       "      <td>...</td>\n",
       "      <td>NaN</td>\n",
       "      <td>NaN</td>\n",
       "      <td>NaN</td>\n",
       "      <td>NaN</td>\n",
       "      <td>NaN</td>\n",
       "      <td>NaN</td>\n",
       "      <td>NaN</td>\n",
       "      <td>NaN</td>\n",
       "      <td>NaN</td>\n",
       "      <td>NaN</td>\n",
       "    </tr>\n",
       "    <tr>\n",
       "      <th>4</th>\n",
       "      <td>NaN</td>\n",
       "      <td>NaN</td>\n",
       "      <td>NaN</td>\n",
       "      <td>NaN</td>\n",
       "      <td>NaN</td>\n",
       "      <td>NaN</td>\n",
       "      <td>NaN</td>\n",
       "      <td>NaN</td>\n",
       "      <td>NaN</td>\n",
       "      <td>NaN</td>\n",
       "      <td>...</td>\n",
       "      <td>NaN</td>\n",
       "      <td>NaN</td>\n",
       "      <td>NaN</td>\n",
       "      <td>NaN</td>\n",
       "      <td>NaN</td>\n",
       "      <td>NaN</td>\n",
       "      <td>NaN</td>\n",
       "      <td>NaN</td>\n",
       "      <td>NaN</td>\n",
       "      <td>NaN</td>\n",
       "    </tr>\n",
       "  </tbody>\n",
       "</table>\n",
       "<p>5 rows × 21 columns</p>\n",
       "</div>"
      ],
      "text/plain": [
       "  Author_Num          1          2    3          4    5          6    7  \\\n",
       "0          0  0.0397067  0.0118728  NaN  0.0248146  NaN  0.0394496  NaN   \n",
       "1          1  0.0104599        NaN  NaN        NaN  NaN   0.029861  NaN   \n",
       "2        NaN        NaN        NaN  NaN        NaN  NaN        NaN  NaN   \n",
       "3        NaN        NaN        NaN  NaN        NaN  NaN        NaN  NaN   \n",
       "4        NaN        NaN        NaN  NaN        NaN  NaN        NaN  NaN   \n",
       "\n",
       "           8         9  ...         11         12         13   14         15  \\\n",
       "0  0.0434838  0.430171  ...  0.0156412  0.0267877    0.05004  NaN   0.173031   \n",
       "1  0.0731324  0.571378  ...        NaN  0.0198104  0.0274186  NaN  0.0934419   \n",
       "2        NaN       NaN  ...        NaN        NaN        NaN  NaN        NaN   \n",
       "3        NaN       NaN  ...        NaN        NaN        NaN  NaN        NaN   \n",
       "4        NaN       NaN  ...        NaN        NaN        NaN  NaN        NaN   \n",
       "\n",
       "          16         17   18         19   20  \n",
       "0  0.0924744  0.0199422  NaN  0.0188377  NaN  \n",
       "1   0.113218        NaN  NaN   0.021322  NaN  \n",
       "2        NaN        NaN  NaN        NaN  NaN  \n",
       "3        NaN        NaN  NaN        NaN  NaN  \n",
       "4        NaN        NaN  NaN        NaN  NaN  \n",
       "\n",
       "[5 rows x 21 columns]"
      ]
     },
     "execution_count": 193,
     "metadata": {},
     "output_type": "execute_result"
    }
   ],
   "source": []
  },
  {
   "cell_type": "code",
   "execution_count": 216,
   "metadata": {},
   "outputs": [
    {
     "name": "stdout",
     "output_type": "stream",
     "text": [
      "0/3\n",
      "1/3\n",
      "2/3\n",
      "Time to find the topic for each users comments\n",
      "0.004186868667602539\n"
     ]
    }
   ],
   "source": [
    "import magic\n",
    "corpus_len = len(corpus[:3])\n",
    "out_file = \"comments_topic_2019_02\"\n",
    "start = time.time()\n",
    "with open(out_file, 'w') as outfile:\n",
    "    for i in range(corpus_len):\n",
    "        row = \"{}\".format(i)+\"/t\"+ str(lda_model.get_document_topics(corpus[i]))\n",
    "        print(\"{}/{}\".format(i,corpus_len))\n",
    "    json.dump(row, outfile)      \n",
    "end = time.time()\n",
    "print ('Time to find the topic for each users comments')\n",
    "print(end - start)"
   ]
  },
  {
   "cell_type": "code",
   "execution_count": null,
   "metadata": {},
   "outputs": [],
   "source": []
  }
 ],
 "metadata": {
  "kernelspec": {
   "display_name": "Python 3",
   "language": "python",
   "name": "python3"
  },
  "language_info": {
   "codemirror_mode": {
    "name": "ipython",
    "version": 3
   },
   "file_extension": ".py",
   "mimetype": "text/x-python",
   "name": "python",
   "nbconvert_exporter": "python",
   "pygments_lexer": "ipython3",
   "version": "3.6.2"
  }
 },
 "nbformat": 4,
 "nbformat_minor": 4
}
