{
 "cells": [
  {
   "cell_type": "code",
   "execution_count": 1,
   "metadata": {},
   "outputs": [],
   "source": [
    "import json\n",
    "import csv\n",
    "import re\n",
    "import pandas\n",
    "import gensim\n",
    "import string\n",
    "from gensim.utils import simple_preprocess\n",
    "month = '2019_02'\n",
    "input_file = 'dataset/mergedComments_{}.json'.format(month)"
   ]
  },
  {
   "cell_type": "code",
   "execution_count": 2,
   "metadata": {},
   "outputs": [],
   "source": [
    "df = pandas.read_json(input_file,encoding = 'utf8',lines=True)"
   ]
  },
  {
   "cell_type": "code",
   "execution_count": 65,
   "metadata": {},
   "outputs": [
    {
     "data": {
      "text/plain": [
       "20"
      ]
     },
     "execution_count": 65,
     "metadata": {},
     "output_type": "execute_result"
    }
   ],
   "source": [
    "chunk_count = 10000\n",
    "if len(df_test) % chunk_count != 0:\n",
    "    steps = len(df_test) // chunk_count + 1\n",
    "else:\n",
    "    steps = len(df_test) // chunk_count\n",
    "steps"
   ]
  },
  {
   "cell_type": "code",
   "execution_count": 66,
   "metadata": {},
   "outputs": [],
   "source": [
    "for step in range(steps):\n",
    "    start_pos = step * chunk_count\n",
    "    end_pos = start_pos + chunk_count\n",
    "    df_chunk = df[start_pos:end_pos]\n",
    "    for index, row in df_chunk.iterrows():\n",
    "        str_data = re.sub('\\s+', ' ', str(row['mergedText']))\n",
    "        str_data = str_data.replace('\\n','')\n",
    "        str_data = str_data.replace(',','')\n",
    "        str_data.translate(str.maketrans('', '', string.punctuation))\n",
    "        if(len(str_data) >= 32000): # max length in a excel cell 32767\n",
    "            row['mergedText'] = str_data[:32000]\n",
    "        else:\n",
    "            row['mergedText'] = str_data\n",
    "    output_file = 'dataset/authors_rep/{}/mergedComments_chunk_{}.csv'.format(month,step)\n",
    "    df_chunk.to_csv(output_file, encoding = 'utf-8-sig')"
   ]
  },
  {
   "cell_type": "code",
   "execution_count": 42,
   "metadata": {
    "collapsed": true
   },
   "outputs": [
    {
     "data": {
      "text/plain": [
       "'This is well documented. Babies develop significantly in the womb into having heartbeats development of memories etc. That’s not what I would call a sack of cells. It’s also not consistent because by that logic a person in a coma is a sack of cells. Should they be killed at free will? Also there’s a reason why it’s so emotional and hard for women to get abortions. They know what they’re doing has serious consequences. Why would they even feel bad if it were just a sack of cells?Because nothing has been proven. Even Cohen (who was as close to the president as anyone) said that he knew of no collusion with Russia and that he was never in Prague which was a key part in the Steel Dossier that the Russia collusion claims were based on.Is letting corporations control the industry actually bad though? You mention the lack of boutique shops in alcohol and tobacco but don’t mention that those boutique shops are also more expensive. Big corporations are very good at what they do and providing cheap weed and helps out everyone who likes weed.That’s bullshit and you know it. She’s been on MSNBC CNN 60 minutes and had countless interviews from left-wing media outlets. Dude Trump making appeals to the people like 51. We must keep America first Isn’t something to be fact checked that’s literally just an appeal to patriotism....So where do you draw the line? Is a fetus not a child at 39 weeks even though it could live outside the womb?Is the media going to make the same mistake as they have the last few weeks and run with this before the facts come out?Cause FDR came in and massively expanded executive powerThat may be a part of it but I believe the major reason it wasn’t approved earlier is because Paul Ryan is incompetent. He should have had it through last year.Why is this even news?This isn’t just a percentage of the budget being a little too high. There literally isn’t enough money in the world to do it. I get that prices go down but the 12 years(?) that the plan outlined is not going to slash the price down to peanuts. Also I said even if we meet all the budget goals and drop U.S. emissions to zero China and India are still major culprits of emissions and I don’t think they give a fuck about saving the planet.Increased government spending is a socialist policy because it is artificially redistributing wealth. That being said some socialist policies doesn’t make a country socialist I would say it has to be at the core of your nations policies to redistribute that wealth. Also conservatives that want more wealth given to the rich aren’t real conservatives.Fuck rich people and their *shuffles deck* Charitable donationsMy point was that this isn’t a world saving proposal and the U.S. is already a leader in reducing emission (even after leaving the Paris Accord). I have no problem doing smaller things to help the climate but this proposal is batshit crazy.None of that was lying?It’s pretty simple. Socialism is bad because it effectively makes the government a monopoly and presumes that government officials have the best intentions for the people which we can all agree with even if you don’t agree with the monopoly part.The left’s attack on Howard Schultz is nothing short of pitiful. They wouldn’t give even take the time to write about him if he didn’t have a chance of splitting the liberal vote. And I say that not even being that fond of him myselfIronic how this came out just after a news cycle talking about invoking the 25th on Trump. Bernie is old as dirt and would hardly make it through 4 years much less 8.Get comfortableIt’s well within the rights of the POTUS to fire the FBI DirectorExcept for the fact that the KKK literally lynched people and had no other purpose for existing other than hating black people.It’s a little underhanded but not impeachable by any stretch of the wordAnd 5 judges restricted a child’s right to live.I’m fine with that but be upfront about that being the main reason you hate him.This is a simple fuck rich people argument with no context. It might be a different story if that was inherited wealth but he built that wealth up. He has the right to protect what he earned.That’s logically inconsistent. A baby 10 minutes from leaving the womb is for all intents and purposes the same developmentally as a baby that left the womb 10 minutes ago. How should one be less valued?The problem is the bit about allowing late-term abortion for any medical reason. That’s overly ambiguous and can be stretched into just aborting because the mother says it would cause emotional distress to have the child.Let me ask you how Howard Schultz is impacting your life aside from offering overpriced coffee?To me the end of the video is more substantial. The simple way to look at 2020 is if Democrats get too radical and choose someone like Harris or Gillibrand they have no chance. If Biden gets the nomination he has a very strong chance of winning.If I were an aspiring politician I would be really cautious about it after seeing what the left has done to Kavanaugh. Their slanderous attacks on someone for having a reasonable viewpoint is absolutely unacceptable.Green New Deal is a load of garbageNot wanting to abort babies isn’t Christian theocracy just be responsible enough not to get pregnant when you don’t want to (with the countless contraceptive methods there are)For what? The burden of proof is on the accuser. My source is innocent until proven guilty. Where’s your source that you aren’t a serial killer? See how that works?No one disputes that she doesn’t have ANY Native American ancestry but she was very similar to what the average American has in terms of Native ancestry. You shouldn’t be able to claim to be Native American based off of that.Comey testified during his hearings that Trump didn’t interfere with the Mueller investigationIf Trump’s term is over then it doesn’t matter what his age is. I get that you think I’m comparing apples to oranges because I’m using Bernie’s future age with Trump’s past but that’s because it’s the age (or potential) of inauguration for the two. I blame Paul Ryan. That flimsy POS had the House for 2 years and didn’t get it through. We could have have wall funding a year ago.Also #6We should all be scared of socialismhttps://www.reddit.com/r/politics/comments/auzkyd/comment/ehbz5l5?st=JSM2MZJI&amp;sh=9dc22403Yeah Collins is a bitch no disagreement there. Kavanaugh however is justified in spiting Roe v. Wade and also has very little evidence against him for actually raping anyone.Trump was 70 when he took office. Bernie would be 79.... I’m not saying Bernie’s going to drop dead right after inauguration but he won’t make it through a whole term in good health. Of course he’ll have his base that votes for him despite that but I think a lot of fringe voters thinking about going with him will have second thoughts.[His approval has increased over the last 2 weeks.](https://www.realclearpolitics.com/epolls/other/president_trump_job_approval-6179.html) I would probably put that down for the strong SOTU rather than anything to do with the shutdown but something to think about.Election holiday for voter ID seems like a fair compromise to meI stand by what I said and even was upvoted on a very liberal subreddit.The natural distribution of wealth is how it is when there is no government intervention. People left up to their own decisions will decide this not a third party intervening in people’s affairs.Is that not relevant? Bernie would be starting 4 years later.If the left thinks the border wall situation is Trump manufacturing a crisis then what the hell is saying we will be an authoritarian regime in 20 years?Falsely and maliciously throwing around rape accusations isn’t democracy.Everything I said was factual. You however said that President Trump and Bernie Sanders are the same age which isn’t correct. Not sure how that makes me a liar but alrightyI suppose that depends on how you define a “normal” tax rateThe solution to corruption isn’t more government. They are just as corrupt as the corporations.I’m a Republican and I support full releaseYeah for starters it was estimated to cost $93 trillion I believe. [The total U.S. M2 money supply is only 14 trillion](https://tradingeconomics.com/united-states/money-supply-m2). Even if you add “near money items” like investment-grade bonds which really are just a loan and not actualy money it still doesn’t even scratch the surface of what this would cost. So everyone donating every single penny of their worth couldn’t fund this. On top of that even if we did have the money and assumed U.S. emissions could be reduced to zero (they still wouldn’t) China and India (on top of other developing nations) are also massive contributors to greenhouse gas emission. The proposal neither gets to the root of the problem or is practical.Ironic that all the Democrats in here are complaining about how he won’t accept a loss...'"
      ]
     },
     "execution_count": 42,
     "metadata": {},
     "output_type": "execute_result"
    }
   ],
   "source": [
    "df_test\n",
    "df_test.at[100,'mergedText']"
   ]
  },
  {
   "cell_type": "code",
   "execution_count": null,
   "metadata": {},
   "outputs": [],
   "source": []
  }
 ],
 "metadata": {
  "kernelspec": {
   "display_name": "Python 3",
   "language": "python",
   "name": "python3"
  },
  "language_info": {
   "codemirror_mode": {
    "name": "ipython",
    "version": 3
   },
   "file_extension": ".py",
   "mimetype": "text/x-python",
   "name": "python",
   "nbconvert_exporter": "python",
   "pygments_lexer": "ipython3",
   "version": "3.6.2"
  }
 },
 "nbformat": 4,
 "nbformat_minor": 2
}
